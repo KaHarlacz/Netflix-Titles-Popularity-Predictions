{
 "cells": [
  {
   "cell_type": "markdown",
   "id": "5bf1e423",
   "metadata": {},
   "source": [
    "Link to data on kaggle: https://www.kaggle.com/datasets/victorsoeiro/netflix-tv-shows-and-movies"
   ]
  },
  {
   "cell_type": "code",
   "execution_count": 1,
   "id": "9989b1be",
   "metadata": {},
   "outputs": [],
   "source": [
    "import numpy as np\n",
    "import pandas as pd\n",
    "import seaborn as sns\n",
    "import matplotlib.pyplot as plt"
   ]
  },
  {
   "cell_type": "code",
   "execution_count": 2,
   "id": "4ae8548e",
   "metadata": {},
   "outputs": [],
   "source": [
    "import multiprocessing\n",
    "n_jobs = multiprocessing.cpu_count() - 2"
   ]
  },
  {
   "cell_type": "code",
   "execution_count": 3,
   "id": "b8c8eb67",
   "metadata": {},
   "outputs": [],
   "source": [
    "random_state = 101"
   ]
  },
  {
   "cell_type": "code",
   "execution_count": 4,
   "id": "328e0377",
   "metadata": {},
   "outputs": [],
   "source": [
    "pd.set_option('display.max_columns', None)"
   ]
  },
  {
   "cell_type": "code",
   "execution_count": 5,
   "id": "82299997",
   "metadata": {},
   "outputs": [],
   "source": [
    "original_titles = pd.read_csv('titles.csv')\n",
    "titles = original_titles.copy()"
   ]
  },
  {
   "cell_type": "code",
   "execution_count": 6,
   "id": "de9fa7e0",
   "metadata": {
    "scrolled": false
   },
   "outputs": [
    {
     "data": {
      "text/html": [
       "<div>\n",
       "<style scoped>\n",
       "    .dataframe tbody tr th:only-of-type {\n",
       "        vertical-align: middle;\n",
       "    }\n",
       "\n",
       "    .dataframe tbody tr th {\n",
       "        vertical-align: top;\n",
       "    }\n",
       "\n",
       "    .dataframe thead th {\n",
       "        text-align: right;\n",
       "    }\n",
       "</style>\n",
       "<table border=\"1\" class=\"dataframe\">\n",
       "  <thead>\n",
       "    <tr style=\"text-align: right;\">\n",
       "      <th></th>\n",
       "      <th>id</th>\n",
       "      <th>title</th>\n",
       "      <th>type</th>\n",
       "      <th>description</th>\n",
       "      <th>release_year</th>\n",
       "      <th>age_certification</th>\n",
       "      <th>runtime</th>\n",
       "      <th>genres</th>\n",
       "      <th>production_countries</th>\n",
       "      <th>seasons</th>\n",
       "      <th>imdb_id</th>\n",
       "      <th>imdb_score</th>\n",
       "      <th>imdb_votes</th>\n",
       "      <th>tmdb_popularity</th>\n",
       "      <th>tmdb_score</th>\n",
       "    </tr>\n",
       "  </thead>\n",
       "  <tbody>\n",
       "    <tr>\n",
       "      <th>0</th>\n",
       "      <td>ts300399</td>\n",
       "      <td>Five Came Back: The Reference Films</td>\n",
       "      <td>SHOW</td>\n",
       "      <td>This collection includes 12 World War II-era p...</td>\n",
       "      <td>1945</td>\n",
       "      <td>TV-MA</td>\n",
       "      <td>48</td>\n",
       "      <td>['documentation']</td>\n",
       "      <td>['US']</td>\n",
       "      <td>1.0</td>\n",
       "      <td>NaN</td>\n",
       "      <td>NaN</td>\n",
       "      <td>NaN</td>\n",
       "      <td>0.600</td>\n",
       "      <td>NaN</td>\n",
       "    </tr>\n",
       "    <tr>\n",
       "      <th>1</th>\n",
       "      <td>tm84618</td>\n",
       "      <td>Taxi Driver</td>\n",
       "      <td>MOVIE</td>\n",
       "      <td>A mentally unstable Vietnam War veteran works ...</td>\n",
       "      <td>1976</td>\n",
       "      <td>R</td>\n",
       "      <td>113</td>\n",
       "      <td>['crime', 'drama']</td>\n",
       "      <td>['US']</td>\n",
       "      <td>NaN</td>\n",
       "      <td>tt0075314</td>\n",
       "      <td>8.3</td>\n",
       "      <td>795222.0</td>\n",
       "      <td>27.612</td>\n",
       "      <td>8.2</td>\n",
       "    </tr>\n",
       "    <tr>\n",
       "      <th>2</th>\n",
       "      <td>tm127384</td>\n",
       "      <td>Monty Python and the Holy Grail</td>\n",
       "      <td>MOVIE</td>\n",
       "      <td>King Arthur, accompanied by his squire, recrui...</td>\n",
       "      <td>1975</td>\n",
       "      <td>PG</td>\n",
       "      <td>91</td>\n",
       "      <td>['comedy', 'fantasy']</td>\n",
       "      <td>['GB']</td>\n",
       "      <td>NaN</td>\n",
       "      <td>tt0071853</td>\n",
       "      <td>8.2</td>\n",
       "      <td>530877.0</td>\n",
       "      <td>18.216</td>\n",
       "      <td>7.8</td>\n",
       "    </tr>\n",
       "    <tr>\n",
       "      <th>3</th>\n",
       "      <td>tm70993</td>\n",
       "      <td>Life of Brian</td>\n",
       "      <td>MOVIE</td>\n",
       "      <td>Brian Cohen is an average young Jewish man, bu...</td>\n",
       "      <td>1979</td>\n",
       "      <td>R</td>\n",
       "      <td>94</td>\n",
       "      <td>['comedy']</td>\n",
       "      <td>['GB']</td>\n",
       "      <td>NaN</td>\n",
       "      <td>tt0079470</td>\n",
       "      <td>8.0</td>\n",
       "      <td>392419.0</td>\n",
       "      <td>17.505</td>\n",
       "      <td>7.8</td>\n",
       "    </tr>\n",
       "    <tr>\n",
       "      <th>4</th>\n",
       "      <td>tm190788</td>\n",
       "      <td>The Exorcist</td>\n",
       "      <td>MOVIE</td>\n",
       "      <td>12-year-old Regan MacNeil begins to adapt an e...</td>\n",
       "      <td>1973</td>\n",
       "      <td>R</td>\n",
       "      <td>133</td>\n",
       "      <td>['horror']</td>\n",
       "      <td>['US']</td>\n",
       "      <td>NaN</td>\n",
       "      <td>tt0070047</td>\n",
       "      <td>8.1</td>\n",
       "      <td>391942.0</td>\n",
       "      <td>95.337</td>\n",
       "      <td>7.7</td>\n",
       "    </tr>\n",
       "  </tbody>\n",
       "</table>\n",
       "</div>"
      ],
      "text/plain": [
       "         id                                title   type  \\\n",
       "0  ts300399  Five Came Back: The Reference Films   SHOW   \n",
       "1   tm84618                          Taxi Driver  MOVIE   \n",
       "2  tm127384      Monty Python and the Holy Grail  MOVIE   \n",
       "3   tm70993                        Life of Brian  MOVIE   \n",
       "4  tm190788                         The Exorcist  MOVIE   \n",
       "\n",
       "                                         description  release_year  \\\n",
       "0  This collection includes 12 World War II-era p...          1945   \n",
       "1  A mentally unstable Vietnam War veteran works ...          1976   \n",
       "2  King Arthur, accompanied by his squire, recrui...          1975   \n",
       "3  Brian Cohen is an average young Jewish man, bu...          1979   \n",
       "4  12-year-old Regan MacNeil begins to adapt an e...          1973   \n",
       "\n",
       "  age_certification  runtime                 genres production_countries  \\\n",
       "0             TV-MA       48      ['documentation']               ['US']   \n",
       "1                 R      113     ['crime', 'drama']               ['US']   \n",
       "2                PG       91  ['comedy', 'fantasy']               ['GB']   \n",
       "3                 R       94             ['comedy']               ['GB']   \n",
       "4                 R      133             ['horror']               ['US']   \n",
       "\n",
       "   seasons    imdb_id  imdb_score  imdb_votes  tmdb_popularity  tmdb_score  \n",
       "0      1.0        NaN         NaN         NaN            0.600         NaN  \n",
       "1      NaN  tt0075314         8.3    795222.0           27.612         8.2  \n",
       "2      NaN  tt0071853         8.2    530877.0           18.216         7.8  \n",
       "3      NaN  tt0079470         8.0    392419.0           17.505         7.8  \n",
       "4      NaN  tt0070047         8.1    391942.0           95.337         7.7  "
      ]
     },
     "execution_count": 6,
     "metadata": {},
     "output_type": "execute_result"
    }
   ],
   "source": [
    "titles.head()"
   ]
  },
  {
   "cell_type": "markdown",
   "id": "8cbb4ecd",
   "metadata": {},
   "source": [
    "Data consist of title data and some columns referring to rating of title on two diferent sites. Since I want to predict values in one single column I will take mean from tmbd_score and imbd_score and build models predicting this value.  "
   ]
  },
  {
   "cell_type": "markdown",
   "id": "37d9303d",
   "metadata": {},
   "source": [
    "## Cleaning the data"
   ]
  },
  {
   "cell_type": "markdown",
   "id": "6700f464",
   "metadata": {},
   "source": [
    "#### Missing values check"
   ]
  },
  {
   "cell_type": "code",
   "execution_count": 10,
   "id": "bbdcf6e6",
   "metadata": {},
   "outputs": [
    {
     "data": {
      "text/plain": [
       "<AxesSubplot:>"
      ]
     },
     "execution_count": 10,
     "metadata": {},
     "output_type": "execute_result"
    },
    {
     "data": {
      "image/png": "[encoded data removed]",
      "text/plain": [
       "<Figure size 864x432 with 1 Axes>"
      ]
     },
     "metadata": {
      "needs_background": "light"
     },
     "output_type": "display_data"
    }
   ],
   "source": [
    "plt.figure(figsize=(12, 6))\n",
    "sns.heatmap(titles.isnull(), yticklabels=False, cbar=False, cmap='plasma')"
   ]
  },
  {
   "cell_type": "code",
   "execution_count": 11,
   "id": "d25837f3",
   "metadata": {},
   "outputs": [
    {
     "name": "stdout",
     "output_type": "stream",
     "text": [
      "<class 'pandas.core.frame.DataFrame'>\n",
      "RangeIndex: 5806 entries, 0 to 5805\n",
      "Data columns (total 15 columns):\n",
      " #   Column                Non-Null Count  Dtype  \n",
      "---  ------                --------------  -----  \n",
      " 0   id                    5806 non-null   object \n",
      " 1   title                 5805 non-null   object \n",
      " 2   type                  5806 non-null   object \n",
      " 3   description           5788 non-null   object \n",
      " 4   release_year          5806 non-null   int64  \n",
      " 5   age_certification     3196 non-null   object \n",
      " 6   runtime               5806 non-null   int64  \n",
      " 7   genres                5806 non-null   object \n",
      " 8   production_countries  5806 non-null   object \n",
      " 9   seasons               2047 non-null   float64\n",
      " 10  imdb_id               5362 non-null   object \n",
      " 11  imdb_score            5283 non-null   float64\n",
      " 12  imdb_votes            5267 non-null   float64\n",
      " 13  tmdb_popularity       5712 non-null   float64\n",
      " 14  tmdb_score            5488 non-null   float64\n",
      "dtypes: float64(5), int64(2), object(8)\n",
      "memory usage: 680.5+ KB\n"
     ]
    }
   ],
   "source": [
    "titles.info()"
   ]
  },
  {
   "cell_type": "markdown",
   "id": "17921a9a",
   "metadata": {},
   "source": [
    "#### Drop id, description and imdb_id columns because these are random data from ML standpoint"
   ]
  },
  {
   "cell_type": "code",
   "execution_count": 12,
   "id": "6c9f630d",
   "metadata": {},
   "outputs": [],
   "source": [
    "titles.drop(['id', 'description', 'imdb_id'], axis=1, inplace=True)"
   ]
  },
  {
   "cell_type": "code",
   "execution_count": 13,
   "id": "4c95542a",
   "metadata": {},
   "outputs": [
    {
     "data": {
      "text/plain": [
       "Index(['title', 'type', 'release_year', 'age_certification', 'runtime',\n",
       "       'genres', 'production_countries', 'seasons', 'imdb_score', 'imdb_votes',\n",
       "       'tmdb_popularity', 'tmdb_score'],\n",
       "      dtype='object')"
      ]
     },
     "execution_count": 13,
     "metadata": {},
     "output_type": "execute_result"
    }
   ],
   "source": [
    "titles.columns"
   ]
  },
  {
   "cell_type": "markdown",
   "id": "6f214986",
   "metadata": {},
   "source": [
    "#### Convert title column to title_len column"
   ]
  },
  {
   "cell_type": "code",
   "execution_count": 14,
   "id": "f8434a2b",
   "metadata": {},
   "outputs": [],
   "source": [
    "titles['title_len'] = titles['title'].str.len()"
   ]
  },
  {
   "cell_type": "code",
   "execution_count": 15,
   "id": "28c5790e",
   "metadata": {},
   "outputs": [],
   "source": [
    "titles.dropna(subset=['title'], inplace=True)"
   ]
  },
  {
   "cell_type": "code",
   "execution_count": 16,
   "id": "187d7611",
   "metadata": {},
   "outputs": [],
   "source": [
    "titles.drop('title', axis=1, inplace=True)"
   ]
  },
  {
   "cell_type": "markdown",
   "id": "0b6afcc4",
   "metadata": {},
   "source": [
    "#### Collect distinct genres and countries sets"
   ]
  },
  {
   "cell_type": "code",
   "execution_count": 17,
   "id": "3563f474",
   "metadata": {},
   "outputs": [],
   "source": [
    "from ast import literal_eval\n",
    "\n",
    "titles['genres'] = titles['genres'].apply(literal_eval)\n",
    "titles['production_countries'] = titles['production_countries'].apply(literal_eval)"
   ]
  },
  {
   "cell_type": "code",
   "execution_count": 18,
   "id": "18f93ecc",
   "metadata": {},
   "outputs": [],
   "source": [
    "all_genres = []\n",
    "\n",
    "for title_genres in titles['genres']:\n",
    "    for genre in title_genres:\n",
    "        if not genre in all_genres:\n",
    "            all_genres.append(genre)"
   ]
  },
  {
   "cell_type": "code",
   "execution_count": 19,
   "id": "1862c20b",
   "metadata": {},
   "outputs": [],
   "source": [
    "all_countries = []\n",
    "\n",
    "for prod_countries in titles['production_countries']:\n",
    "    for country in prod_countries:\n",
    "        if not country in all_countries:\n",
    "            all_countries.append(country)"
   ]
  },
  {
   "cell_type": "markdown",
   "id": "58366d72",
   "metadata": {},
   "source": [
    "#### Create column for each genre and encode genres for each title"
   ]
  },
  {
   "cell_type": "code",
   "execution_count": 20,
   "id": "b7f757ee",
   "metadata": {},
   "outputs": [],
   "source": [
    "for genre in all_genres:\n",
    "    titles.insert(len(titles.columns), 'genre_' + genre, np.zeros(len(titles)))"
   ]
  },
  {
   "cell_type": "code",
   "execution_count": 21,
   "id": "df7fc498",
   "metadata": {},
   "outputs": [],
   "source": [
    "for i, row in titles.iterrows():\n",
    "    for genre in row['genres']:\n",
    "        titles.loc[i, 'genre_' + genre] = 1"
   ]
  },
  {
   "cell_type": "code",
   "execution_count": 22,
   "id": "d73dccd1",
   "metadata": {},
   "outputs": [],
   "source": [
    "titles.dropna(subset=['genres'], inplace=True)"
   ]
  },
  {
   "cell_type": "code",
   "execution_count": 23,
   "id": "4a6d76d1",
   "metadata": {},
   "outputs": [],
   "source": [
    "titles.drop('genres', axis=1, inplace=True)"
   ]
  },
  {
   "cell_type": "markdown",
   "id": "8ba42766",
   "metadata": {},
   "source": [
    "#### Choose one production country for every title and encode it as number"
   ]
  },
  {
   "cell_type": "code",
   "execution_count": 24,
   "id": "508db532",
   "metadata": {},
   "outputs": [],
   "source": [
    "import random\n",
    "\n",
    "def pick_one_country(prod_countries):\n",
    "    if len(prod_countries) == 0:\n",
    "        return None\n",
    "    else:\n",
    "        return random.choice(prod_countries)"
   ]
  },
  {
   "cell_type": "code",
   "execution_count": 25,
   "id": "ce881858",
   "metadata": {},
   "outputs": [],
   "source": [
    "titles.insert(len(titles.columns), 'prod_country', np.zeros(len(titles)))\n",
    "\n",
    "for i, title in titles.iterrows():\n",
    "    prod_countries = title['production_countries']\n",
    "    chosen_country = pick_one_country(prod_countries)\n",
    "    country_id = all_countries.index(chosen_country) if chosen_country in all_countries else None\n",
    "    titles.at[i, 'prod_country'] = country_id"
   ]
  },
  {
   "cell_type": "code",
   "execution_count": 26,
   "id": "06fe34d7",
   "metadata": {},
   "outputs": [],
   "source": [
    "titles.dropna(subset=['prod_country'], inplace=True)"
   ]
  },
  {
   "cell_type": "code",
   "execution_count": 27,
   "id": "49761418",
   "metadata": {},
   "outputs": [],
   "source": [
    "titles.drop('production_countries', axis=1, inplace=True)"
   ]
  },
  {
   "cell_type": "markdown",
   "id": "d53bec29",
   "metadata": {},
   "source": [
    "#### Fill seasons value for movies"
   ]
  },
  {
   "cell_type": "code",
   "execution_count": 28,
   "id": "49528044",
   "metadata": {},
   "outputs": [],
   "source": [
    "titles.loc[titles['type'] == 'MOVIE', 'seasons'] = 0"
   ]
  },
  {
   "cell_type": "code",
   "execution_count": 29,
   "id": "4994f629",
   "metadata": {},
   "outputs": [],
   "source": [
    "titles.dropna(subset=['seasons'], inplace=True)"
   ]
  },
  {
   "cell_type": "markdown",
   "id": "4c5de383",
   "metadata": {},
   "source": [
    "#### Encode type as 0 if its value is MOVIE and as 1 otherwise"
   ]
  },
  {
   "cell_type": "code",
   "execution_count": 30,
   "id": "762d58b2",
   "metadata": {},
   "outputs": [],
   "source": [
    "titles.loc[titles['type'] == 'MOVIE', 'type'] = 0"
   ]
  },
  {
   "cell_type": "code",
   "execution_count": 31,
   "id": "692843d9",
   "metadata": {},
   "outputs": [],
   "source": [
    "titles.loc[titles['type'] == 'SHOW', 'type'] = 1"
   ]
  },
  {
   "cell_type": "code",
   "execution_count": 32,
   "id": "8c21f446",
   "metadata": {},
   "outputs": [],
   "source": [
    "titles.dropna(subset=['type'], inplace=True)"
   ]
  },
  {
   "cell_type": "markdown",
   "id": "f32f9b59",
   "metadata": {},
   "source": [
    "#### Get mean of scores from tmdb and imdb"
   ]
  },
  {
   "cell_type": "code",
   "execution_count": 33,
   "id": "a88061be",
   "metadata": {},
   "outputs": [],
   "source": [
    "def get_score_for_title(title):\n",
    "    imdb_score = title['imdb_score']\n",
    "    tmdb_score = title['tmdb_score']\n",
    "    \n",
    "    if imdb_score is None and tmdb_score is None:\n",
    "        return None\n",
    "    \n",
    "    if imdb_score is None or tmdb_score is None:\n",
    "        return imdb_score if imdb_score is not None else tmdb_score\n",
    "    \n",
    "    return (imdb_score + tmdb_score) / 2"
   ]
  },
  {
   "cell_type": "code",
   "execution_count": 34,
   "id": "f3691400",
   "metadata": {},
   "outputs": [],
   "source": [
    "titles['score'] = get_score_for_title(titles)"
   ]
  },
  {
   "cell_type": "code",
   "execution_count": 35,
   "id": "77661d5d",
   "metadata": {},
   "outputs": [],
   "source": [
    "titles.dropna(subset=['score'], inplace=True)"
   ]
  },
  {
   "cell_type": "code",
   "execution_count": 36,
   "id": "a7a060a6",
   "metadata": {},
   "outputs": [],
   "source": [
    "titles.drop('imdb_score', axis=1, inplace=True)\n",
    "titles.drop('tmdb_score', axis=1, inplace=True)"
   ]
  },
  {
   "cell_type": "markdown",
   "id": "620ed6ad",
   "metadata": {},
   "source": [
    "#### Encode age_certification as a number"
   ]
  },
  {
   "cell_type": "code",
   "execution_count": 37,
   "id": "5be84234",
   "metadata": {},
   "outputs": [
    {
     "data": {
      "text/plain": [
       "Index(['TV-MA', 'R', 'PG-13', 'TV-14', 'PG', 'TV-PG', 'TV-Y7', 'G', 'TV-Y',\n",
       "       'TV-G', 'NC-17'],\n",
       "      dtype='object')"
      ]
     },
     "execution_count": 37,
     "metadata": {},
     "output_type": "execute_result"
    }
   ],
   "source": [
    "titles['age_certification'].value_counts().index"
   ]
  },
  {
   "cell_type": "code",
   "execution_count": 38,
   "id": "2607cb68",
   "metadata": {},
   "outputs": [],
   "source": [
    "age_category_mapping = {}\n",
    "\n",
    "# children\n",
    "for c in ['PG', 'G', 'TV-Y7', 'TV-Y', 'TV-G']:\n",
    "    age_category_mapping[c] = 0\n",
    "\n",
    "# teenagers\n",
    "for c in ['R', 'TV-14', 'PG-13', 'TV-PG']:\n",
    "    age_category_mapping[c] = 1\n",
    "\n",
    "# adults\n",
    "for c in ['TV-MA', 'NC-17']:\n",
    "    age_category_mapping[c] = 2"
   ]
  },
  {
   "cell_type": "code",
   "execution_count": 39,
   "id": "605c7b73",
   "metadata": {},
   "outputs": [],
   "source": [
    "titles['age_certification'] = titles['age_certification'].map(age_category_mapping)"
   ]
  },
  {
   "cell_type": "markdown",
   "id": "49892773",
   "metadata": {},
   "source": [
    "#### Summarizing cleaning done as far"
   ]
  },
  {
   "cell_type": "code",
   "execution_count": 40,
   "id": "7e2612ac",
   "metadata": {},
   "outputs": [
    {
     "name": "stdout",
     "output_type": "stream",
     "text": [
      "<class 'pandas.core.frame.DataFrame'>\n",
      "Int64Index: 4957 entries, 1 to 5798\n",
      "Data columns (total 29 columns):\n",
      " #   Column               Non-Null Count  Dtype  \n",
      "---  ------               --------------  -----  \n",
      " 0   type                 4957 non-null   object \n",
      " 1   release_year         4957 non-null   int64  \n",
      " 2   age_certification    2877 non-null   float64\n",
      " 3   runtime              4957 non-null   int64  \n",
      " 4   seasons              4957 non-null   float64\n",
      " 5   imdb_votes           4943 non-null   float64\n",
      " 6   tmdb_popularity      4957 non-null   float64\n",
      " 7   title_len            4957 non-null   float64\n",
      " 8   genre_documentation  4957 non-null   float64\n",
      " 9   genre_crime          4957 non-null   float64\n",
      " 10  genre_drama          4957 non-null   float64\n",
      " 11  genre_comedy         4957 non-null   float64\n",
      " 12  genre_fantasy        4957 non-null   float64\n",
      " 13  genre_horror         4957 non-null   float64\n",
      " 14  genre_european       4957 non-null   float64\n",
      " 15  genre_thriller       4957 non-null   float64\n",
      " 16  genre_action         4957 non-null   float64\n",
      " 17  genre_music          4957 non-null   float64\n",
      " 18  genre_romance        4957 non-null   float64\n",
      " 19  genre_family         4957 non-null   float64\n",
      " 20  genre_western        4957 non-null   float64\n",
      " 21  genre_war            4957 non-null   float64\n",
      " 22  genre_animation      4957 non-null   float64\n",
      " 23  genre_history        4957 non-null   float64\n",
      " 24  genre_scifi          4957 non-null   float64\n",
      " 25  genre_reality        4957 non-null   float64\n",
      " 26  genre_sport          4957 non-null   float64\n",
      " 27  prod_country         4957 non-null   float64\n",
      " 28  score                4957 non-null   float64\n",
      "dtypes: float64(26), int64(2), object(1)\n",
      "memory usage: 1.1+ MB\n"
     ]
    }
   ],
   "source": [
    "titles.info()"
   ]
  },
  {
   "cell_type": "code",
   "execution_count": 41,
   "id": "2b4ffc9d",
   "metadata": {},
   "outputs": [],
   "source": [
    "# Some missing imdb_votes left\n",
    "titles.dropna(subset=['imdb_votes'], inplace=True)"
   ]
  },
  {
   "cell_type": "markdown",
   "id": "281020d5",
   "metadata": {},
   "source": [
    "#### Filling missing values in age_certification using simple SVM model"
   ]
  },
  {
   "cell_type": "code",
   "execution_count": 42,
   "id": "218b78eb",
   "metadata": {},
   "outputs": [],
   "source": [
    "from sklearn.model_selection import train_test_split, StratifiedKFold, GridSearchCV\n",
    "from sklearn.linear_model import LogisticRegression\n",
    "from sklearn.svm import SVC\n",
    "from sklearn.preprocessing import StandardScaler, MinMaxScaler"
   ]
  },
  {
   "cell_type": "code",
   "execution_count": 43,
   "id": "b04da466",
   "metadata": {},
   "outputs": [],
   "source": [
    "def heatmap(values, xlabel, ylabel, xticklabels, yticklabels, cmap=None,\n",
    "            vmin=None, vmax=None, ax=None, fmt=\"%0.2f\"):\n",
    "    if ax is None:\n",
    "        ax = plt.gca()\n",
    "        \n",
    "    # plot the mean cross-validation scores\n",
    "    img = ax.pcolor(values, cmap=cmap, vmin=vmin, vmax=vmax)\n",
    "    img.update_scalarmappable()\n",
    "    ax.set_xlabel(xlabel)\n",
    "    ax.set_ylabel(ylabel)\n",
    "    ax.set_xticks(np.arange(len(xticklabels)) + .5)\n",
    "    ax.set_yticks(np.arange(len(yticklabels)) + .5)\n",
    "    ax.set_xticklabels(xticklabels)\n",
    "    ax.set_yticklabels(yticklabels)\n",
    "    ax.set_aspect(1)\n",
    "\n",
    "    for p, color, value in zip(img.get_paths(), img.get_facecolors(), img.get_array()):\n",
    "        x, y = p.vertices[:-2, :].mean(0)\n",
    "        if np.mean(color[:3]) > 0.5:\n",
    "            c = 'k'\n",
    "        else:\n",
    "            c = 'w'\n",
    "        ax.text(x, y, fmt % value, color=c, ha=\"center\", va=\"center\")\n",
    "    return img"
   ]
  },
  {
   "cell_type": "code",
   "execution_count": 44,
   "id": "d7a329e6",
   "metadata": {},
   "outputs": [],
   "source": [
    "X = titles.drop('age_certification', axis=1)[titles['age_certification'].notnull()]\n",
    "y = titles[titles['age_certification'].notnull()]['age_certification']\n",
    "\n",
    "X_train, X_test, y_train, y_test = train_test_split(X, y, test_size=0.30)"
   ]
  },
  {
   "cell_type": "code",
   "execution_count": 45,
   "id": "59ceef67",
   "metadata": {},
   "outputs": [],
   "source": [
    "scaler = StandardScaler()\n",
    "\n",
    "X_train = scaler.fit_transform(X_train)\n",
    "X_test = scaler.transform(X_test)"
   ]
  },
  {
   "cell_type": "code",
   "execution_count": 46,
   "id": "7b4b2693",
   "metadata": {},
   "outputs": [],
   "source": [
    "kfold = StratifiedKFold(n_splits=5)"
   ]
  },
  {
   "cell_type": "code",
   "execution_count": 47,
   "id": "24848598",
   "metadata": {},
   "outputs": [],
   "source": [
    "param_grid = {\n",
    "    'C': [10, 100, 1000, 10000, 100000],\n",
    "    'gamma': [0.00001, 0.0001, 0.001, 0.01],\n",
    "}"
   ]
  },
  {
   "cell_type": "code",
   "execution_count": 48,
   "id": "1e91598f",
   "metadata": {},
   "outputs": [],
   "source": [
    "grid = GridSearchCV(SVC(), param_grid, cv=kfold, n_jobs=n_jobs)"
   ]
  },
  {
   "cell_type": "code",
   "execution_count": 49,
   "id": "42ca5557",
   "metadata": {},
   "outputs": [
    {
     "data": {
      "text/plain": [
       "GridSearchCV(cv=StratifiedKFold(n_splits=5, random_state=None, shuffle=False),\n",
       "             estimator=SVC(), n_jobs=10,\n",
       "             param_grid={'C': [10, 100, 1000, 10000, 100000],\n",
       "                         'gamma': [1e-05, 0.0001, 0.001, 0.01]})"
      ]
     },
     "execution_count": 49,
     "metadata": {},
     "output_type": "execute_result"
    }
   ],
   "source": [
    "grid.fit(X_train, y_train)"
   ]
  },
  {
   "cell_type": "code",
   "execution_count": 50,
   "id": "6ba97057",
   "metadata": {},
   "outputs": [
    {
     "data": {
      "text/plain": [
       "<matplotlib.collections.PolyCollection at 0x275f4eaa700>"
      ]
     },
     "execution_count": 50,
     "metadata": {},
     "output_type": "execute_result"
    },
    {
     "data": {
      "image/png": "[encoded data removed]",
      "text/plain": [
       "<Figure size 432x288 with 1 Axes>"
      ]
     },
     "metadata": {
      "needs_background": "light"
     },
     "output_type": "display_data"
    }
   ],
   "source": [
    "results = pd.DataFrame(grid.cv_results_)\n",
    "scores = np.array(results.mean_test_score).reshape(5, 4)\n",
    "heatmap(scores, xlabel='gamma', xticklabels=param_grid['gamma'], \n",
    "        ylabel='C', yticklabels=param_grid['C'], cmap=\"viridis\")"
   ]
  },
  {
   "cell_type": "code",
   "execution_count": 51,
   "id": "cd2c6061",
   "metadata": {},
   "outputs": [
    {
     "data": {
      "text/plain": [
       "{'C': 100000, 'gamma': 0.0001}"
      ]
     },
     "execution_count": 51,
     "metadata": {},
     "output_type": "execute_result"
    }
   ],
   "source": [
    "grid.best_params_"
   ]
  },
  {
   "cell_type": "code",
   "execution_count": 52,
   "id": "387a07f4",
   "metadata": {},
   "outputs": [],
   "source": [
    "age_cert_estimator = grid.best_estimator_"
   ]
  },
  {
   "cell_type": "code",
   "execution_count": 53,
   "id": "635e47ba",
   "metadata": {},
   "outputs": [],
   "source": [
    "from sklearn.metrics import accuracy_score"
   ]
  },
  {
   "cell_type": "code",
   "execution_count": 54,
   "id": "d0af6ec1",
   "metadata": {},
   "outputs": [
    {
     "data": {
      "text/plain": [
       "0.7526132404181185"
      ]
     },
     "execution_count": 54,
     "metadata": {},
     "output_type": "execute_result"
    }
   ],
   "source": [
    "accuracy_score(y_test, age_cert_estimator.predict(X_test))"
   ]
  },
  {
   "cell_type": "code",
   "execution_count": 55,
   "id": "cffb8404",
   "metadata": {},
   "outputs": [
    {
     "name": "stderr",
     "output_type": "stream",
     "text": [
      "C:\\conda\\lib\\site-packages\\sklearn\\base.py:443: UserWarning: X has feature names, but SVC was fitted without feature names\n",
      "  warnings.warn(\n"
     ]
    }
   ],
   "source": [
    "without_age_cert = titles[titles['age_certification'].isnull()].drop('age_certification', axis=1)\n",
    "predictions = age_cert_estimator.predict(without_age_cert)"
   ]
  },
  {
   "cell_type": "code",
   "execution_count": 56,
   "id": "6dc2b7e6",
   "metadata": {},
   "outputs": [],
   "source": [
    "titles.loc[titles['age_certification'].isnull(), 'age_certification'] = predictions"
   ]
  },
  {
   "cell_type": "code",
   "execution_count": 57,
   "id": "f88aaeb1",
   "metadata": {},
   "outputs": [],
   "source": [
    "# One last step: one hot encode age_certification"
   ]
  },
  {
   "cell_type": "code",
   "execution_count": 58,
   "id": "040b476f",
   "metadata": {},
   "outputs": [],
   "source": [
    "cert_to_age_cat = { 0: 'children', 1: 'teenagers', 2: 'adults' }"
   ]
  },
  {
   "cell_type": "code",
   "execution_count": 59,
   "id": "dc5a9b8f",
   "metadata": {},
   "outputs": [],
   "source": [
    "age_cert_dummies = pd.get_dummies(titles['age_certification'].map(cert_to_age_cat), \n",
    "                                  drop_first=True, prefix='cert')"
   ]
  },
  {
   "cell_type": "code",
   "execution_count": 60,
   "id": "1670127c",
   "metadata": {},
   "outputs": [],
   "source": [
    "titles = pd.concat((titles, age_cert_dummies), axis=1)"
   ]
  },
  {
   "cell_type": "code",
   "execution_count": 61,
   "id": "8719b617",
   "metadata": {},
   "outputs": [],
   "source": [
    "titles.drop('age_certification', axis=1, inplace=True)"
   ]
  },
  {
   "cell_type": "markdown",
   "id": "e982f618",
   "metadata": {},
   "source": [
    "#### Summarizing the cleanup"
   ]
  },
  {
   "cell_type": "code",
   "execution_count": 62,
   "id": "38b9349a",
   "metadata": {},
   "outputs": [
    {
     "data": {
      "text/plain": [
       "Index(['type', 'release_year', 'runtime', 'seasons', 'imdb_votes',\n",
       "       'tmdb_popularity', 'title_len', 'genre_documentation', 'genre_crime',\n",
       "       'genre_drama', 'genre_comedy', 'genre_fantasy', 'genre_horror',\n",
       "       'genre_european', 'genre_thriller', 'genre_action', 'genre_music',\n",
       "       'genre_romance', 'genre_family', 'genre_western', 'genre_war',\n",
       "       'genre_animation', 'genre_history', 'genre_scifi', 'genre_reality',\n",
       "       'genre_sport', 'prod_country', 'score', 'cert_children',\n",
       "       'cert_teenagers'],\n",
       "      dtype='object')"
      ]
     },
     "execution_count": 62,
     "metadata": {},
     "output_type": "execute_result"
    }
   ],
   "source": [
    "titles.columns"
   ]
  },
  {
   "cell_type": "code",
   "execution_count": 63,
   "id": "fc01c4c7",
   "metadata": {},
   "outputs": [],
   "source": [
    "columns_order = ['type', 'title_len', 'release_year', 'runtime', 'seasons', \n",
    "       'imdb_votes', 'tmdb_popularity', 'genre_documentation', 'genre_crime',\n",
    "       'genre_drama', 'genre_comedy', 'genre_fantasy', 'genre_horror',\n",
    "       'genre_european', 'genre_thriller', 'genre_action', 'genre_music',\n",
    "       'genre_romance', 'genre_family', 'genre_western', 'genre_war',\n",
    "       'genre_animation', 'genre_history', 'genre_scifi', 'genre_reality',\n",
    "       'genre_sport', 'prod_country', 'cert_children', 'cert_teenagers', 'score']\n",
    "\n",
    "titles = titles.reindex(columns=columns_order)"
   ]
  },
  {
   "cell_type": "code",
   "execution_count": 64,
   "id": "8f774783",
   "metadata": {},
   "outputs": [
    {
     "data": {
      "text/plain": [
       "<AxesSubplot:>"
      ]
     },
     "execution_count": 64,
     "metadata": {},
     "output_type": "execute_result"
    },
    {
     "data": {
      "image/png": "[encoded data removed]",
      "text/plain": [
       "<Figure size 864x432 with 1 Axes>"
      ]
     },
     "metadata": {
      "needs_background": "light"
     },
     "output_type": "display_data"
    }
   ],
   "source": [
    "plt.figure(figsize=(12, 6))\n",
    "sns.heatmap(titles.isnull(), yticklabels=False, cbar=False, cmap='plasma')"
   ]
  },
  {
   "cell_type": "code",
   "execution_count": 65,
   "id": "9b8480d7",
   "metadata": {},
   "outputs": [
    {
     "name": "stdout",
     "output_type": "stream",
     "text": [
      "<class 'pandas.core.frame.DataFrame'>\n",
      "Int64Index: 4943 entries, 1 to 5798\n",
      "Data columns (total 30 columns):\n",
      " #   Column               Non-Null Count  Dtype  \n",
      "---  ------               --------------  -----  \n",
      " 0   type                 4943 non-null   object \n",
      " 1   title_len            4943 non-null   float64\n",
      " 2   release_year         4943 non-null   int64  \n",
      " 3   runtime              4943 non-null   int64  \n",
      " 4   seasons              4943 non-null   float64\n",
      " 5   imdb_votes           4943 non-null   float64\n",
      " 6   tmdb_popularity      4943 non-null   float64\n",
      " 7   genre_documentation  4943 non-null   float64\n",
      " 8   genre_crime          4943 non-null   float64\n",
      " 9   genre_drama          4943 non-null   float64\n",
      " 10  genre_comedy         4943 non-null   float64\n",
      " 11  genre_fantasy        4943 non-null   float64\n",
      " 12  genre_horror         4943 non-null   float64\n",
      " 13  genre_european       4943 non-null   float64\n",
      " 14  genre_thriller       4943 non-null   float64\n",
      " 15  genre_action         4943 non-null   float64\n",
      " 16  genre_music          4943 non-null   float64\n",
      " 17  genre_romance        4943 non-null   float64\n",
      " 18  genre_family         4943 non-null   float64\n",
      " 19  genre_western        4943 non-null   float64\n",
      " 20  genre_war            4943 non-null   float64\n",
      " 21  genre_animation      4943 non-null   float64\n",
      " 22  genre_history        4943 non-null   float64\n",
      " 23  genre_scifi          4943 non-null   float64\n",
      " 24  genre_reality        4943 non-null   float64\n",
      " 25  genre_sport          4943 non-null   float64\n",
      " 26  prod_country         4943 non-null   float64\n",
      " 27  cert_children        4943 non-null   uint8  \n",
      " 28  cert_teenagers       4943 non-null   uint8  \n",
      " 29  score                4943 non-null   float64\n",
      "dtypes: float64(25), int64(2), object(1), uint8(2)\n",
      "memory usage: 1.1+ MB\n"
     ]
    }
   ],
   "source": [
    "titles.info()"
   ]
  },
  {
   "cell_type": "markdown",
   "id": "35ab34cb",
   "metadata": {},
   "source": [
    "## Creating ML models\n",
    "- Linear Regression\n",
    "- Ridge Regression\n",
    "- Lasso Regression\n",
    "- Elastic Net Regression\n",
    "- Random Forest Regressor\n",
    "- Neural Network"
   ]
  },
  {
   "cell_type": "code",
   "execution_count": 66,
   "id": "4da3e98f",
   "metadata": {},
   "outputs": [],
   "source": [
    "from sklearn.linear_model import LinearRegression, Ridge, Lasso, ElasticNet\n",
    "from sklearn.model_selection import GridSearchCV, RandomizedSearchCV\n",
    "from sklearn.ensemble import RandomForestRegressor\n",
    "from sklearn.preprocessing import PolynomialFeatures\n",
    "from sklearn.pipeline import Pipeline\n",
    "from sklearn.metrics import mean_absolute_error, mean_squared_error"
   ]
  },
  {
   "cell_type": "code",
   "execution_count": 67,
   "id": "2dde1494",
   "metadata": {},
   "outputs": [],
   "source": [
    "# Let's start with splitting and scaling the data\n",
    "model_results = pd.DataFrame(columns=['name', 'mae', 'mse', 'rmse'])"
   ]
  },
  {
   "cell_type": "code",
   "execution_count": 68,
   "id": "e1841d68",
   "metadata": {},
   "outputs": [],
   "source": [
    "def append_result(name, true_values, predictions):\n",
    "    row = pd.DataFrame([[\n",
    "        name,\n",
    "        mean_absolute_error(true_values, predictions),\n",
    "        mean_squared_error(true_values, predictions),\n",
    "        np.sqrt(mean_squared_error(true_values, predictions))\n",
    "    ]], columns='name mae mse rmse'.split())\n",
    "    global model_results\n",
    "    model_results = pd.concat([model_results, row])"
   ]
  },
  {
   "cell_type": "code",
   "execution_count": 69,
   "id": "46b06f2a",
   "metadata": {},
   "outputs": [],
   "source": [
    "X = titles.drop('score', axis=1)\n",
    "y = titles['score']"
   ]
  },
  {
   "cell_type": "code",
   "execution_count": 70,
   "id": "e3a4e287",
   "metadata": {},
   "outputs": [],
   "source": [
    "X_train, X_test, y_train, y_test = train_test_split(X, y, test_size=0.30)"
   ]
  },
  {
   "cell_type": "code",
   "execution_count": 71,
   "id": "0d7e142e",
   "metadata": {},
   "outputs": [],
   "source": [
    "scaler = MinMaxScaler()\n",
    "X_train = scaler.fit_transform(X_train)\n",
    "X_test = scaler.transform(X_test)"
   ]
  },
  {
   "cell_type": "code",
   "execution_count": 72,
   "id": "da1d0658",
   "metadata": {},
   "outputs": [
    {
     "data": {
      "text/plain": [
       "array([[0.        , 0.02912621, 0.73913043, ..., 0.04950495, 1.        ,\n",
       "        0.        ],\n",
       "       [1.        , 0.0776699 , 0.8115942 , ..., 0.        , 0.        ,\n",
       "        1.        ],\n",
       "       [1.        , 0.11650485, 0.94202899, ..., 0.51485149, 0.        ,\n",
       "        1.        ],\n",
       "       ...,\n",
       "       [1.        , 0.10679612, 0.95652174, ..., 0.00990099, 0.        ,\n",
       "        0.        ],\n",
       "       [1.        , 0.10679612, 0.98550725, ..., 0.        , 1.        ,\n",
       "        0.        ],\n",
       "       [0.        , 0.15533981, 0.79710145, ..., 0.        , 0.        ,\n",
       "        1.        ]])"
      ]
     },
     "execution_count": 72,
     "metadata": {},
     "output_type": "execute_result"
    }
   ],
   "source": [
    "X_train"
   ]
  },
  {
   "cell_type": "markdown",
   "id": "0252872d",
   "metadata": {},
   "source": [
    "### Linear Regression"
   ]
  },
  {
   "cell_type": "code",
   "execution_count": 73,
   "id": "42f65a8f",
   "metadata": {},
   "outputs": [],
   "source": [
    "pipe_1 = Pipeline([\n",
    "    ('polynomial', PolynomialFeatures(degree=2)), \n",
    "    ('scaler', StandardScaler()),\n",
    "    ('classifier', LinearRegression())\n",
    "])"
   ]
  },
  {
   "cell_type": "code",
   "execution_count": 74,
   "id": "7ce423a4",
   "metadata": {},
   "outputs": [],
   "source": [
    "param_grid_1 = {'polynomial__degree': [1, 2]}"
   ]
  },
  {
   "cell_type": "code",
   "execution_count": 75,
   "id": "aca2c657",
   "metadata": {},
   "outputs": [],
   "source": [
    "grid_1 = GridSearchCV(pipe_1, param_grid_1, verbose=10, n_jobs=n_jobs)"
   ]
  },
  {
   "cell_type": "code",
   "execution_count": 76,
   "id": "cb98a026",
   "metadata": {},
   "outputs": [
    {
     "name": "stdout",
     "output_type": "stream",
     "text": [
      "Fitting 5 folds for each of 2 candidates, totalling 10 fits\n"
     ]
    },
    {
     "data": {
      "text/plain": [
       "GridSearchCV(estimator=Pipeline(steps=[('polynomial', PolynomialFeatures()),\n",
       "                                       ('scaler', StandardScaler()),\n",
       "                                       ('classifier', LinearRegression())]),\n",
       "             n_jobs=10, param_grid={'polynomial__degree': [1, 2]}, verbose=10)"
      ]
     },
     "execution_count": 76,
     "metadata": {},
     "output_type": "execute_result"
    }
   ],
   "source": [
    "grid_1.fit(X_train, y_train)"
   ]
  },
  {
   "cell_type": "code",
   "execution_count": 77,
   "id": "6de295b2",
   "metadata": {},
   "outputs": [
    {
     "data": {
      "text/plain": [
       "{'polynomial__degree': 1}"
      ]
     },
     "execution_count": 77,
     "metadata": {},
     "output_type": "execute_result"
    }
   ],
   "source": [
    "grid_1.best_params_"
   ]
  },
  {
   "cell_type": "code",
   "execution_count": 78,
   "id": "cf4d5a3a",
   "metadata": {},
   "outputs": [],
   "source": [
    "append_result('Linear Regression', y_test, grid_1.predict(X_test))"
   ]
  },
  {
   "cell_type": "markdown",
   "id": "9fedc1d1",
   "metadata": {},
   "source": [
    "### Ridge Regression"
   ]
  },
  {
   "cell_type": "code",
   "execution_count": 79,
   "id": "59d1afa5",
   "metadata": {},
   "outputs": [],
   "source": [
    "pipe_2 = Pipeline([\n",
    "    ('polynomial', PolynomialFeatures(degree=2)), \n",
    "    ('scaler', StandardScaler()),\n",
    "    ('classifier', Ridge())\n",
    "])"
   ]
  },
  {
   "cell_type": "code",
   "execution_count": 80,
   "id": "05ccc598",
   "metadata": {},
   "outputs": [],
   "source": [
    "param_grid_2 = {\n",
    "    'polynomial__degree': [1, 2, 3], \n",
    "    'classifier__alpha': [0.0001, 0.001, 0.01, 0.1, 1, 10, 100]\n",
    "}"
   ]
  },
  {
   "cell_type": "code",
   "execution_count": 81,
   "id": "a0465055",
   "metadata": {},
   "outputs": [],
   "source": [
    "grid_2 = GridSearchCV(pipe_2, param_grid_2, verbose=10, n_jobs=n_jobs)"
   ]
  },
  {
   "cell_type": "code",
   "execution_count": 82,
   "id": "6e2ab8ab",
   "metadata": {},
   "outputs": [
    {
     "name": "stdout",
     "output_type": "stream",
     "text": [
      "Fitting 5 folds for each of 21 candidates, totalling 105 fits\n"
     ]
    },
    {
     "data": {
      "text/plain": [
       "GridSearchCV(estimator=Pipeline(steps=[('polynomial', PolynomialFeatures()),\n",
       "                                       ('scaler', StandardScaler()),\n",
       "                                       ('classifier', Ridge())]),\n",
       "             n_jobs=10,\n",
       "             param_grid={'classifier__alpha': [0.0001, 0.001, 0.01, 0.1, 1, 10,\n",
       "                                               100],\n",
       "                         'polynomial__degree': [1, 2, 3]},\n",
       "             verbose=10)"
      ]
     },
     "execution_count": 82,
     "metadata": {},
     "output_type": "execute_result"
    }
   ],
   "source": [
    "grid_2.fit(X_train, y_train)"
   ]
  },
  {
   "cell_type": "code",
   "execution_count": 83,
   "id": "c541e7ba",
   "metadata": {},
   "outputs": [
    {
     "data": {
      "text/plain": [
       "{'classifier__alpha': 10, 'polynomial__degree': 1}"
      ]
     },
     "execution_count": 83,
     "metadata": {},
     "output_type": "execute_result"
    }
   ],
   "source": [
    "grid_2.best_params_"
   ]
  },
  {
   "cell_type": "code",
   "execution_count": 84,
   "id": "7721fe70",
   "metadata": {},
   "outputs": [],
   "source": [
    "append_result('Ridge Regression', y_test, grid_2.predict(X_test))"
   ]
  },
  {
   "cell_type": "markdown",
   "id": "7eefa686",
   "metadata": {},
   "source": [
    "### Lasso Regression"
   ]
  },
  {
   "cell_type": "code",
   "execution_count": 85,
   "id": "cf2dc4df",
   "metadata": {},
   "outputs": [],
   "source": [
    "pipe_3 = Pipeline([\n",
    "    ('polynomial', PolynomialFeatures(degree=2)), \n",
    "    ('scaler', StandardScaler()),\n",
    "    ('classifier', Lasso())\n",
    "])"
   ]
  },
  {
   "cell_type": "code",
   "execution_count": 86,
   "id": "78b8c6ac",
   "metadata": {},
   "outputs": [],
   "source": [
    "param_grid_3 = {\n",
    "    'polynomial__degree': [1, 2, 3], \n",
    "    'classifier__alpha': [0.0001, 0.001, 0.01, 0.1, 1, 10, 100]\n",
    "}"
   ]
  },
  {
   "cell_type": "code",
   "execution_count": 87,
   "id": "00b93ea4",
   "metadata": {},
   "outputs": [],
   "source": [
    "grid_3 = GridSearchCV(pipe_3, param_grid_3, verbose=10, n_jobs=n_jobs, )"
   ]
  },
  {
   "cell_type": "code",
   "execution_count": 88,
   "id": "53db1d7e",
   "metadata": {},
   "outputs": [
    {
     "name": "stdout",
     "output_type": "stream",
     "text": [
      "Fitting 5 folds for each of 21 candidates, totalling 105 fits\n"
     ]
    },
    {
     "data": {
      "text/plain": [
       "GridSearchCV(estimator=Pipeline(steps=[('polynomial', PolynomialFeatures()),\n",
       "                                       ('scaler', StandardScaler()),\n",
       "                                       ('classifier', Lasso())]),\n",
       "             n_jobs=10,\n",
       "             param_grid={'classifier__alpha': [0.0001, 0.001, 0.01, 0.1, 1, 10,\n",
       "                                               100],\n",
       "                         'polynomial__degree': [1, 2, 3]},\n",
       "             verbose=10)"
      ]
     },
     "execution_count": 88,
     "metadata": {},
     "output_type": "execute_result"
    }
   ],
   "source": [
    "grid_3.fit(X_train, y_train)"
   ]
  },
  {
   "cell_type": "code",
   "execution_count": 89,
   "id": "9e8d513f",
   "metadata": {},
   "outputs": [
    {
     "data": {
      "text/plain": [
       "{'classifier__alpha': 0.01, 'polynomial__degree': 2}"
      ]
     },
     "execution_count": 89,
     "metadata": {},
     "output_type": "execute_result"
    }
   ],
   "source": [
    "grid_3.best_params_"
   ]
  },
  {
   "cell_type": "code",
   "execution_count": 90,
   "id": "d4f358d8",
   "metadata": {},
   "outputs": [],
   "source": [
    "append_result('Lasso Regression', y_test, grid_3.predict(X_test))"
   ]
  },
  {
   "cell_type": "markdown",
   "id": "25cecc4a",
   "metadata": {},
   "source": [
    "### Elastic Net"
   ]
  },
  {
   "cell_type": "code",
   "execution_count": 91,
   "id": "22d66547",
   "metadata": {},
   "outputs": [],
   "source": [
    "pipe_4 = Pipeline([\n",
    "    ('polynomial', PolynomialFeatures(degree=2)), \n",
    "    ('scaler', StandardScaler()),\n",
    "    ('classifier', ElasticNet())\n",
    "])"
   ]
  },
  {
   "cell_type": "code",
   "execution_count": 92,
   "id": "1f4fd2b4",
   "metadata": {},
   "outputs": [],
   "source": [
    "param_grid_4 = {\n",
    "    'polynomial__degree': [1, 2, 3], \n",
    "    'classifier__alpha': [0.001, 0.01, 0.1, 1],\n",
    "    'classifier__l1_ratio': [0.01, 0.05, 0.1, 0.2]\n",
    "}"
   ]
  },
  {
   "cell_type": "code",
   "execution_count": 93,
   "id": "61370c5e",
   "metadata": {},
   "outputs": [],
   "source": [
    "grid_4 = GridSearchCV(pipe_4, param_grid_4, verbose=10, n_jobs=n_jobs)"
   ]
  },
  {
   "cell_type": "code",
   "execution_count": 94,
   "id": "b3e47212",
   "metadata": {},
   "outputs": [
    {
     "name": "stdout",
     "output_type": "stream",
     "text": [
      "Fitting 5 folds for each of 48 candidates, totalling 240 fits\n"
     ]
    },
    {
     "data": {
      "text/plain": [
       "GridSearchCV(estimator=Pipeline(steps=[('polynomial', PolynomialFeatures()),\n",
       "                                       ('scaler', StandardScaler()),\n",
       "                                       ('classifier', ElasticNet())]),\n",
       "             n_jobs=10,\n",
       "             param_grid={'classifier__alpha': [0.001, 0.01, 0.1, 1],\n",
       "                         'classifier__l1_ratio': [0.01, 0.05, 0.1, 0.2],\n",
       "                         'polynomial__degree': [1, 2, 3]},\n",
       "             verbose=10)"
      ]
     },
     "execution_count": 94,
     "metadata": {},
     "output_type": "execute_result"
    }
   ],
   "source": [
    "grid_4.fit(X_train, y_train)"
   ]
  },
  {
   "cell_type": "code",
   "execution_count": 95,
   "id": "fa303e82",
   "metadata": {},
   "outputs": [
    {
     "data": {
      "text/plain": [
       "{'classifier__alpha': 0.1,\n",
       " 'classifier__l1_ratio': 0.1,\n",
       " 'polynomial__degree': 2}"
      ]
     },
     "execution_count": 95,
     "metadata": {},
     "output_type": "execute_result"
    }
   ],
   "source": [
    "grid_4.best_params_"
   ]
  },
  {
   "cell_type": "code",
   "execution_count": 96,
   "id": "2d3cca18",
   "metadata": {},
   "outputs": [],
   "source": [
    "append_result('Elastic Net Regression', y_test, grid_4.predict(X_test))"
   ]
  },
  {
   "cell_type": "code",
   "execution_count": 97,
   "id": "3f8a679f",
   "metadata": {},
   "outputs": [
    {
     "data": {
      "text/html": [
       "<div>\n",
       "<style scoped>\n",
       "    .dataframe tbody tr th:only-of-type {\n",
       "        vertical-align: middle;\n",
       "    }\n",
       "\n",
       "    .dataframe tbody tr th {\n",
       "        vertical-align: top;\n",
       "    }\n",
       "\n",
       "    .dataframe thead th {\n",
       "        text-align: right;\n",
       "    }\n",
       "</style>\n",
       "<table border=\"1\" class=\"dataframe\">\n",
       "  <thead>\n",
       "    <tr style=\"text-align: right;\">\n",
       "      <th></th>\n",
       "      <th>name</th>\n",
       "      <th>mae</th>\n",
       "      <th>mse</th>\n",
       "      <th>rmse</th>\n",
       "    </tr>\n",
       "  </thead>\n",
       "  <tbody>\n",
       "    <tr>\n",
       "      <th>0</th>\n",
       "      <td>Linear Regression</td>\n",
       "      <td>0.654898</td>\n",
       "      <td>0.725308</td>\n",
       "      <td>0.85165</td>\n",
       "    </tr>\n",
       "    <tr>\n",
       "      <th>0</th>\n",
       "      <td>Ridge Regression</td>\n",
       "      <td>0.654956</td>\n",
       "      <td>0.725325</td>\n",
       "      <td>0.85166</td>\n",
       "    </tr>\n",
       "    <tr>\n",
       "      <th>0</th>\n",
       "      <td>Lasso Regression</td>\n",
       "      <td>0.640047</td>\n",
       "      <td>0.756899</td>\n",
       "      <td>0.869999</td>\n",
       "    </tr>\n",
       "    <tr>\n",
       "      <th>0</th>\n",
       "      <td>Elastic Net Regression</td>\n",
       "      <td>0.642731</td>\n",
       "      <td>0.777193</td>\n",
       "      <td>0.881586</td>\n",
       "    </tr>\n",
       "  </tbody>\n",
       "</table>\n",
       "</div>"
      ],
      "text/plain": [
       "                     name       mae       mse      rmse\n",
       "0       Linear Regression  0.654898  0.725308   0.85165\n",
       "0        Ridge Regression  0.654956  0.725325   0.85166\n",
       "0        Lasso Regression  0.640047  0.756899  0.869999\n",
       "0  Elastic Net Regression  0.642731  0.777193  0.881586"
      ]
     },
     "execution_count": 97,
     "metadata": {},
     "output_type": "execute_result"
    }
   ],
   "source": [
    "model_results"
   ]
  },
  {
   "cell_type": "markdown",
   "id": "926fc596",
   "metadata": {},
   "source": [
    "### RandomForestRegressor"
   ]
  },
  {
   "cell_type": "code",
   "execution_count": 98,
   "id": "dd70e08c",
   "metadata": {},
   "outputs": [],
   "source": [
    "pipe_5 = Pipeline([\n",
    "    ('classifier', RandomForestRegressor())\n",
    "])"
   ]
  },
  {
   "cell_type": "code",
   "execution_count": 99,
   "id": "3cc6941b",
   "metadata": {},
   "outputs": [],
   "source": [
    "from random import randint\n",
    "\n",
    "param_grid_5 = {\n",
    "    'classifier__max_features': ['sqrt', 'log2'],\n",
    "    'classifier__n_estimators': [500, 1000, 1500],\n",
    "    'classifier__max_depth': [30, 50, 100]\n",
    "}"
   ]
  },
  {
   "cell_type": "code",
   "execution_count": 100,
   "id": "e4f00713",
   "metadata": {},
   "outputs": [],
   "source": [
    "grid_5 = GridSearchCV(pipe_5, param_grid_5, verbose=10, n_jobs=n_jobs)"
   ]
  },
  {
   "cell_type": "code",
   "execution_count": 101,
   "id": "bdafcf06",
   "metadata": {},
   "outputs": [
    {
     "name": "stdout",
     "output_type": "stream",
     "text": [
      "Fitting 5 folds for each of 18 candidates, totalling 90 fits\n"
     ]
    },
    {
     "data": {
      "text/plain": [
       "GridSearchCV(estimator=Pipeline(steps=[('classifier',\n",
       "                                        RandomForestRegressor())]),\n",
       "             n_jobs=10,\n",
       "             param_grid={'classifier__max_depth': [30, 50, 100],\n",
       "                         'classifier__max_features': ['sqrt', 'log2'],\n",
       "                         'classifier__n_estimators': [500, 1000, 1500]},\n",
       "             verbose=10)"
      ]
     },
     "execution_count": 101,
     "metadata": {},
     "output_type": "execute_result"
    }
   ],
   "source": [
    "grid_5.fit(X_train, y_train)"
   ]
  },
  {
   "cell_type": "code",
   "execution_count": 102,
   "id": "579291ef",
   "metadata": {},
   "outputs": [
    {
     "data": {
      "text/plain": [
       "{'classifier__max_depth': 30,\n",
       " 'classifier__max_features': 'sqrt',\n",
       " 'classifier__n_estimators': 500}"
      ]
     },
     "execution_count": 102,
     "metadata": {},
     "output_type": "execute_result"
    }
   ],
   "source": [
    "grid_5.best_params_"
   ]
  },
  {
   "cell_type": "code",
   "execution_count": 103,
   "id": "167ee36f",
   "metadata": {},
   "outputs": [],
   "source": [
    "append_result('Random Forest Regressor', y_test, grid_5.predict(X_test))"
   ]
  },
  {
   "cell_type": "markdown",
   "id": "ae948c7e",
   "metadata": {},
   "source": [
    "### Comparing models trained so far"
   ]
  },
  {
   "cell_type": "code",
   "execution_count": 104,
   "id": "2245ec0d",
   "metadata": {},
   "outputs": [
    {
     "data": {
      "text/html": [
       "<div>\n",
       "<style scoped>\n",
       "    .dataframe tbody tr th:only-of-type {\n",
       "        vertical-align: middle;\n",
       "    }\n",
       "\n",
       "    .dataframe tbody tr th {\n",
       "        vertical-align: top;\n",
       "    }\n",
       "\n",
       "    .dataframe thead th {\n",
       "        text-align: right;\n",
       "    }\n",
       "</style>\n",
       "<table border=\"1\" class=\"dataframe\">\n",
       "  <thead>\n",
       "    <tr style=\"text-align: right;\">\n",
       "      <th></th>\n",
       "      <th>name</th>\n",
       "      <th>mae</th>\n",
       "      <th>mse</th>\n",
       "      <th>rmse</th>\n",
       "    </tr>\n",
       "  </thead>\n",
       "  <tbody>\n",
       "    <tr>\n",
       "      <th>0</th>\n",
       "      <td>Linear Regression</td>\n",
       "      <td>0.654898</td>\n",
       "      <td>0.725308</td>\n",
       "      <td>0.85165</td>\n",
       "    </tr>\n",
       "    <tr>\n",
       "      <th>0</th>\n",
       "      <td>Ridge Regression</td>\n",
       "      <td>0.654956</td>\n",
       "      <td>0.725325</td>\n",
       "      <td>0.85166</td>\n",
       "    </tr>\n",
       "    <tr>\n",
       "      <th>0</th>\n",
       "      <td>Lasso Regression</td>\n",
       "      <td>0.640047</td>\n",
       "      <td>0.756899</td>\n",
       "      <td>0.869999</td>\n",
       "    </tr>\n",
       "    <tr>\n",
       "      <th>0</th>\n",
       "      <td>Elastic Net Regression</td>\n",
       "      <td>0.642731</td>\n",
       "      <td>0.777193</td>\n",
       "      <td>0.881586</td>\n",
       "    </tr>\n",
       "    <tr>\n",
       "      <th>0</th>\n",
       "      <td>Random Forest Regressor</td>\n",
       "      <td>0.583736</td>\n",
       "      <td>0.594724</td>\n",
       "      <td>0.771183</td>\n",
       "    </tr>\n",
       "  </tbody>\n",
       "</table>\n",
       "</div>"
      ],
      "text/plain": [
       "                      name       mae       mse      rmse\n",
       "0        Linear Regression  0.654898  0.725308   0.85165\n",
       "0         Ridge Regression  0.654956  0.725325   0.85166\n",
       "0         Lasso Regression  0.640047  0.756899  0.869999\n",
       "0   Elastic Net Regression  0.642731  0.777193  0.881586\n",
       "0  Random Forest Regressor  0.583736  0.594724  0.771183"
      ]
     },
     "execution_count": 104,
     "metadata": {},
     "output_type": "execute_result"
    }
   ],
   "source": [
    "model_results"
   ]
  },
  {
   "cell_type": "code",
   "execution_count": 105,
   "id": "85b2a77c",
   "metadata": {},
   "outputs": [
    {
     "data": {
      "text/plain": [
       "<AxesSubplot:title={'center':'Models rmse comparison'}, xlabel='rmse', ylabel='name'>"
      ]
     },
     "execution_count": 105,
     "metadata": {},
     "output_type": "execute_result"
    },
    {
     "data": {
      "image/png": "[encoded data removed]",
      "text/plain": [
       "<Figure size 576x432 with 1 Axes>"
      ]
     },
     "metadata": {
      "needs_background": "light"
     },
     "output_type": "display_data"
    }
   ],
   "source": [
    "plt.figure(figsize=(8, 6))\n",
    "plt.title('Models rmse comparison')\n",
    "sns.barplot(data=model_results, x='rmse', y='name')"
   ]
  },
  {
   "cell_type": "markdown",
   "id": "bd09a554",
   "metadata": {},
   "source": [
    "**Clearly Random Forest Regressor provides better estimations than others because it has lowest rmse value**"
   ]
  },
  {
   "cell_type": "markdown",
   "id": "944f868d",
   "metadata": {},
   "source": [
    "### Neural Network"
   ]
  },
  {
   "cell_type": "code",
   "execution_count": 106,
   "id": "db489865",
   "metadata": {},
   "outputs": [],
   "source": [
    "import tensorflow as tf\n",
    "from scipy.stats import uniform, randint\n",
    "from tensorflow import keras\n",
    "from keras.layers import Dense, Dropout\n",
    "from keras.callbacks import History, EarlyStopping\n",
    "from keras.wrappers.scikit_learn import KerasRegressor\n",
    "from keras.models import Sequential\n",
    "from keras.optimizers import RMSprop, SGD"
   ]
  },
  {
   "cell_type": "code",
   "execution_count": 107,
   "id": "067ee46a",
   "metadata": {},
   "outputs": [],
   "source": [
    "def create_model(batch_size, epochs, learn_rate, \n",
    "                 momentum, activation, dropout_rate, neurons):\n",
    "    model = Sequential()\n",
    "    \n",
    "    for neurons_nb in neurons:\n",
    "        model.add(Dense(neurons_nb, activation=activation))\n",
    "        model.add(Dropout(dropout_rate))\n",
    "    model.add(Dense(1))\n",
    "    \n",
    "    optimizer = RMSprop(learning_rate=learn_rate, momentum=momentum)\n",
    "    \n",
    "    model.compile(optimizer=optimizer,\n",
    "             loss='mean_squared_error',\n",
    "             metrics=['mean_squared_error'])\n",
    "    \n",
    "    return model"
   ]
  },
  {
   "cell_type": "code",
   "execution_count": 108,
   "id": "fc73ee14",
   "metadata": {},
   "outputs": [],
   "source": [
    "nn_param_grid = {\n",
    "    'batch_size': [10, 20, 30],\n",
    "    'epochs': [100],\n",
    "    'learn_rate': [0.0001, 0.0005, 0.001],\n",
    "    'momentum': [0.2],\n",
    "    'activation': ['relu'],\n",
    "    'dropout_rate': [0.2],\n",
    "    'neurons': [[500, 200, 100, 50]],\n",
    "}"
   ]
  },
  {
   "cell_type": "code",
   "execution_count": 109,
   "id": "e51f263c",
   "metadata": {},
   "outputs": [
    {
     "name": "stderr",
     "output_type": "stream",
     "text": [
      "C:\\Users\\Kamil\\AppData\\Local\\Temp\\ipykernel_13924\\1367771281.py:1: DeprecationWarning: KerasRegressor is deprecated, use Sci-Keras (https://github.com/adriangb/scikeras) instead. See https://www.adriangb.com/scikeras/stable/migration.html for help migrating.\n",
      "  nn_model = KerasRegressor(build_fn=create_model)\n"
     ]
    }
   ],
   "source": [
    "nn_model = KerasRegressor(build_fn=create_model)"
   ]
  },
  {
   "cell_type": "code",
   "execution_count": 110,
   "id": "10aa9861",
   "metadata": {},
   "outputs": [],
   "source": [
    "search = GridSearchCV(estimator=nn_model, param_grid=nn_param_grid, \n",
    "                      n_jobs=n_jobs, cv=5, verbose=10, return_train_score=True)"
   ]
  },
  {
   "cell_type": "code",
   "execution_count": 111,
   "id": "cbf61f79",
   "metadata": {},
   "outputs": [
    {
     "name": "stdout",
     "output_type": "stream",
     "text": [
      "Fitting 5 folds for each of 9 candidates, totalling 45 fits\n",
      "Epoch 1/100\n",
      "346/346 [==============================] - 1s 2ms/step - loss: 7.8587 - mean_squared_error: 7.8587\n",
      "Epoch 2/100\n",
      "346/346 [==============================] - 1s 2ms/step - loss: 2.0689 - mean_squared_error: 2.0689\n",
      "Epoch 3/100\n",
      "346/346 [==============================] - 1s 2ms/step - loss: 1.8350 - mean_squared_error: 1.8350\n",
      "Epoch 4/100\n",
      "346/346 [==============================] - 1s 2ms/step - loss: 1.6610 - mean_squared_error: 1.6610\n",
      "Epoch 5/100\n",
      "346/346 [==============================] - 1s 2ms/step - loss: 1.6566 - mean_squared_error: 1.6566\n",
      "Epoch 6/100\n",
      "346/346 [==============================] - 1s 2ms/step - loss: 1.5937 - mean_squared_error: 1.5937\n",
      "Epoch 7/100\n",
      "346/346 [==============================] - 1s 2ms/step - loss: 1.5273 - mean_squared_error: 1.5273\n",
      "Epoch 8/100\n",
      "346/346 [==============================] - 1s 2ms/step - loss: 1.5420 - mean_squared_error: 1.5420\n",
      "Epoch 9/100\n",
      "346/346 [==============================] - 1s 2ms/step - loss: 1.4720 - mean_squared_error: 1.4720\n",
      "Epoch 10/100\n",
      "346/346 [==============================] - 1s 2ms/step - loss: 1.4169 - mean_squared_error: 1.4169\n",
      "Epoch 11/100\n",
      "346/346 [==============================] - 1s 2ms/step - loss: 1.3961 - mean_squared_error: 1.3961\n",
      "Epoch 12/100\n",
      "346/346 [==============================] - 1s 2ms/step - loss: 1.3735 - mean_squared_error: 1.3735\n",
      "Epoch 13/100\n",
      "346/346 [==============================] - 1s 3ms/step - loss: 1.3800 - mean_squared_error: 1.3800\n",
      "Epoch 14/100\n",
      "346/346 [==============================] - 1s 3ms/step - loss: 1.4146 - mean_squared_error: 1.4146\n",
      "Epoch 15/100\n",
      "346/346 [==============================] - 1s 3ms/step - loss: 1.3791 - mean_squared_error: 1.3791\n",
      "Epoch 16/100\n",
      "346/346 [==============================] - 1s 3ms/step - loss: 1.3475 - mean_squared_error: 1.3475\n",
      "Epoch 17/100\n",
      "346/346 [==============================] - 1s 3ms/step - loss: 1.3532 - mean_squared_error: 1.3532\n",
      "Epoch 18/100\n",
      "346/346 [==============================] - 1s 3ms/step - loss: 1.3591 - mean_squared_error: 1.3591\n",
      "Epoch 19/100\n",
      "346/346 [==============================] - 1s 2ms/step - loss: 1.2679 - mean_squared_error: 1.2679\n",
      "Epoch 20/100\n",
      "346/346 [==============================] - 1s 2ms/step - loss: 1.2778 - mean_squared_error: 1.2778\n",
      "Epoch 21/100\n",
      "346/346 [==============================] - 1s 2ms/step - loss: 1.2303 - mean_squared_error: 1.2303\n",
      "Epoch 22/100\n",
      "346/346 [==============================] - 1s 2ms/step - loss: 1.2363 - mean_squared_error: 1.2363\n",
      "Epoch 23/100\n",
      "346/346 [==============================] - 1s 2ms/step - loss: 1.3052 - mean_squared_error: 1.3052\n",
      "Epoch 24/100\n",
      "346/346 [==============================] - 1s 2ms/step - loss: 1.2217 - mean_squared_error: 1.2217\n",
      "Epoch 25/100\n",
      "346/346 [==============================] - 1s 2ms/step - loss: 1.2417 - mean_squared_error: 1.2417\n",
      "Epoch 26/100\n",
      "346/346 [==============================] - 1s 2ms/step - loss: 1.2363 - mean_squared_error: 1.2363\n",
      "Epoch 27/100\n",
      "346/346 [==============================] - 1s 2ms/step - loss: 1.2757 - mean_squared_error: 1.2757\n",
      "Epoch 28/100\n",
      "346/346 [==============================] - 1s 2ms/step - loss: 1.1808 - mean_squared_error: 1.1808\n",
      "Epoch 29/100\n",
      "346/346 [==============================] - 1s 2ms/step - loss: 1.2679 - mean_squared_error: 1.2679\n",
      "Epoch 30/100\n",
      "346/346 [==============================] - 1s 2ms/step - loss: 1.2238 - mean_squared_error: 1.2238\n",
      "Epoch 31/100\n",
      "346/346 [==============================] - 1s 2ms/step - loss: 1.1812 - mean_squared_error: 1.1812\n",
      "Epoch 32/100\n",
      "346/346 [==============================] - 1s 2ms/step - loss: 1.2161 - mean_squared_error: 1.2161\n",
      "Epoch 33/100\n",
      "346/346 [==============================] - 1s 3ms/step - loss: 1.2002 - mean_squared_error: 1.2002\n",
      "Epoch 34/100\n",
      "346/346 [==============================] - 1s 3ms/step - loss: 1.1602 - mean_squared_error: 1.1602\n",
      "Epoch 35/100\n",
      "346/346 [==============================] - 1s 3ms/step - loss: 1.2055 - mean_squared_error: 1.2055\n",
      "Epoch 36/100\n",
      "346/346 [==============================] - 1s 3ms/step - loss: 1.1437 - mean_squared_error: 1.1437\n",
      "Epoch 37/100\n",
      "346/346 [==============================] - 1s 3ms/step - loss: 1.1915 - mean_squared_error: 1.1915\n",
      "Epoch 38/100\n",
      "346/346 [==============================] - 1s 3ms/step - loss: 1.2005 - mean_squared_error: 1.2005\n",
      "Epoch 39/100\n",
      "346/346 [==============================] - 1s 3ms/step - loss: 1.1384 - mean_squared_error: 1.1384\n",
      "Epoch 40/100\n",
      "346/346 [==============================] - 1s 2ms/step - loss: 1.1716 - mean_squared_error: 1.1716\n",
      "Epoch 41/100\n",
      "346/346 [==============================] - 1s 2ms/step - loss: 1.1256 - mean_squared_error: 1.1256\n",
      "Epoch 42/100\n",
      "346/346 [==============================] - 1s 2ms/step - loss: 1.1533 - mean_squared_error: 1.1533\n",
      "Epoch 43/100\n",
      "346/346 [==============================] - 1s 2ms/step - loss: 1.1504 - mean_squared_error: 1.1504\n",
      "Epoch 44/100\n",
      "346/346 [==============================] - 1s 2ms/step - loss: 1.1823 - mean_squared_error: 1.1823\n",
      "Epoch 45/100\n",
      "346/346 [==============================] - 1s 2ms/step - loss: 1.1408 - mean_squared_error: 1.1408\n",
      "Epoch 46/100\n",
      "346/346 [==============================] - 1s 2ms/step - loss: 1.1099 - mean_squared_error: 1.1099\n",
      "Epoch 47/100\n",
      "346/346 [==============================] - 1s 3ms/step - loss: 1.1422 - mean_squared_error: 1.1422\n",
      "Epoch 48/100\n",
      "346/346 [==============================] - 1s 3ms/step - loss: 1.1430 - mean_squared_error: 1.1430\n",
      "Epoch 49/100\n",
      "346/346 [==============================] - 1s 2ms/step - loss: 1.1162 - mean_squared_error: 1.1162\n",
      "Epoch 50/100\n",
      "346/346 [==============================] - 1s 2ms/step - loss: 1.1181 - mean_squared_error: 1.1181\n",
      "Epoch 51/100\n",
      "346/346 [==============================] - 1s 2ms/step - loss: 1.1501 - mean_squared_error: 1.1501\n",
      "Epoch 52/100\n",
      "346/346 [==============================] - 1s 2ms/step - loss: 1.1100 - mean_squared_error: 1.1100\n",
      "Epoch 53/100\n",
      "346/346 [==============================] - 1s 2ms/step - loss: 1.0717 - mean_squared_error: 1.0717\n",
      "Epoch 54/100\n",
      "346/346 [==============================] - 1s 2ms/step - loss: 1.0903 - mean_squared_error: 1.0903\n",
      "Epoch 55/100\n",
      "346/346 [==============================] - 1s 3ms/step - loss: 1.0932 - mean_squared_error: 1.0932\n",
      "Epoch 56/100\n",
      "346/346 [==============================] - 1s 3ms/step - loss: 1.0888 - mean_squared_error: 1.0888\n",
      "Epoch 57/100\n",
      "346/346 [==============================] - 1s 3ms/step - loss: 1.0950 - mean_squared_error: 1.0950\n",
      "Epoch 58/100\n",
      "346/346 [==============================] - 1s 3ms/step - loss: 1.0812 - mean_squared_error: 1.0812\n",
      "Epoch 59/100\n",
      "346/346 [==============================] - 1s 3ms/step - loss: 1.1081 - mean_squared_error: 1.1081\n",
      "Epoch 60/100\n",
      "346/346 [==============================] - 1s 2ms/step - loss: 1.0541 - mean_squared_error: 1.0541\n",
      "Epoch 61/100\n",
      "346/346 [==============================] - 1s 2ms/step - loss: 1.0592 - mean_squared_error: 1.0592\n",
      "Epoch 62/100\n",
      "346/346 [==============================] - 1s 2ms/step - loss: 1.0457 - mean_squared_error: 1.0457\n",
      "Epoch 63/100\n",
      "346/346 [==============================] - 1s 2ms/step - loss: 1.0634 - mean_squared_error: 1.0634\n",
      "Epoch 64/100\n",
      "346/346 [==============================] - 1s 2ms/step - loss: 1.0918 - mean_squared_error: 1.0918\n",
      "Epoch 65/100\n",
      "346/346 [==============================] - 1s 2ms/step - loss: 1.0788 - mean_squared_error: 1.0788\n",
      "Epoch 66/100\n",
      "346/346 [==============================] - 1s 2ms/step - loss: 1.0496 - mean_squared_error: 1.0496\n",
      "Epoch 67/100\n",
      "346/346 [==============================] - 1s 2ms/step - loss: 1.0258 - mean_squared_error: 1.0258\n",
      "Epoch 68/100\n",
      "346/346 [==============================] - 1s 2ms/step - loss: 1.0560 - mean_squared_error: 1.0560\n",
      "Epoch 69/100\n",
      "346/346 [==============================] - 1s 2ms/step - loss: 1.0202 - mean_squared_error: 1.0202\n",
      "Epoch 70/100\n",
      "346/346 [==============================] - 1s 2ms/step - loss: 1.0295 - mean_squared_error: 1.0295\n",
      "Epoch 71/100\n",
      "346/346 [==============================] - 1s 2ms/step - loss: 1.0172 - mean_squared_error: 1.0172\n",
      "Epoch 72/100\n",
      "346/346 [==============================] - 1s 2ms/step - loss: 1.0267 - mean_squared_error: 1.0267\n",
      "Epoch 73/100\n"
     ]
    },
    {
     "name": "stdout",
     "output_type": "stream",
     "text": [
      "346/346 [==============================] - 1s 2ms/step - loss: 1.0105 - mean_squared_error: 1.0105\n",
      "Epoch 74/100\n",
      "346/346 [==============================] - 1s 2ms/step - loss: 0.9989 - mean_squared_error: 0.9989\n",
      "Epoch 75/100\n",
      "346/346 [==============================] - 1s 2ms/step - loss: 1.0413 - mean_squared_error: 1.0413\n",
      "Epoch 76/100\n",
      "346/346 [==============================] - 1s 2ms/step - loss: 0.9886 - mean_squared_error: 0.9886\n",
      "Epoch 77/100\n",
      "346/346 [==============================] - 1s 2ms/step - loss: 0.9827 - mean_squared_error: 0.9827\n",
      "Epoch 78/100\n",
      "346/346 [==============================] - 1s 3ms/step - loss: 1.0208 - mean_squared_error: 1.0208\n",
      "Epoch 79/100\n",
      "346/346 [==============================] - 1s 3ms/step - loss: 1.0084 - mean_squared_error: 1.0084\n",
      "Epoch 80/100\n",
      "346/346 [==============================] - 1s 3ms/step - loss: 0.9744 - mean_squared_error: 0.9744\n",
      "Epoch 81/100\n",
      "346/346 [==============================] - 1s 3ms/step - loss: 1.0028 - mean_squared_error: 1.0028\n",
      "Epoch 82/100\n",
      "346/346 [==============================] - 1s 2ms/step - loss: 0.9777 - mean_squared_error: 0.9777\n",
      "Epoch 83/100\n",
      "346/346 [==============================] - 1s 2ms/step - loss: 0.9993 - mean_squared_error: 0.9993\n",
      "Epoch 84/100\n",
      "346/346 [==============================] - 1s 2ms/step - loss: 0.9685 - mean_squared_error: 0.9685\n",
      "Epoch 85/100\n",
      "346/346 [==============================] - 1s 2ms/step - loss: 0.9633 - mean_squared_error: 0.9633\n",
      "Epoch 86/100\n",
      "346/346 [==============================] - 1s 2ms/step - loss: 0.9866 - mean_squared_error: 0.9866\n",
      "Epoch 87/100\n",
      "346/346 [==============================] - 1s 2ms/step - loss: 0.9829 - mean_squared_error: 0.9829\n",
      "Epoch 88/100\n",
      "346/346 [==============================] - 1s 2ms/step - loss: 0.9732 - mean_squared_error: 0.9732\n",
      "Epoch 89/100\n",
      "346/346 [==============================] - 1s 2ms/step - loss: 0.9698 - mean_squared_error: 0.9698\n",
      "Epoch 90/100\n",
      "346/346 [==============================] - 1s 2ms/step - loss: 0.9472 - mean_squared_error: 0.9472\n",
      "Epoch 91/100\n",
      "346/346 [==============================] - 1s 2ms/step - loss: 0.9778 - mean_squared_error: 0.9778\n",
      "Epoch 92/100\n",
      "346/346 [==============================] - 1s 2ms/step - loss: 1.0131 - mean_squared_error: 1.0131\n",
      "Epoch 93/100\n",
      "346/346 [==============================] - 1s 2ms/step - loss: 0.9623 - mean_squared_error: 0.9623\n",
      "Epoch 94/100\n",
      "346/346 [==============================] - 1s 2ms/step - loss: 0.9582 - mean_squared_error: 0.9582\n",
      "Epoch 95/100\n",
      "346/346 [==============================] - 1s 3ms/step - loss: 0.9653 - mean_squared_error: 0.9653\n",
      "Epoch 96/100\n",
      "346/346 [==============================] - 1s 3ms/step - loss: 0.9413 - mean_squared_error: 0.9413\n",
      "Epoch 97/100\n",
      "346/346 [==============================] - 1s 3ms/step - loss: 0.9438 - mean_squared_error: 0.9438\n",
      "Epoch 98/100\n",
      "346/346 [==============================] - 1s 3ms/step - loss: 0.9791 - mean_squared_error: 0.9791\n",
      "Epoch 99/100\n",
      "346/346 [==============================] - 1s 3ms/step - loss: 0.9474 - mean_squared_error: 0.9474\n",
      "Epoch 100/100\n",
      "346/346 [==============================] - 1s 3ms/step - loss: 0.9547 - mean_squared_error: 0.9547\n"
     ]
    },
    {
     "data": {
      "text/plain": [
       "GridSearchCV(cv=5,\n",
       "             estimator=<keras.wrappers.scikit_learn.KerasRegressor object at 0x0000027587C97970>,\n",
       "             n_jobs=10,\n",
       "             param_grid={'activation': ['relu'], 'batch_size': [10, 20, 30],\n",
       "                         'dropout_rate': [0.2], 'epochs': [100],\n",
       "                         'learn_rate': [0.0001, 0.0005, 0.001],\n",
       "                         'momentum': [0.2], 'neurons': [[500, 200, 100, 50]]},\n",
       "             return_train_score=True, verbose=10)"
      ]
     },
     "execution_count": 111,
     "metadata": {},
     "output_type": "execute_result"
    }
   ],
   "source": [
    "search.fit(X_train, y_train)"
   ]
  },
  {
   "cell_type": "code",
   "execution_count": 112,
   "id": "289f4217",
   "metadata": {},
   "outputs": [
    {
     "data": {
      "text/plain": [
       "{'activation': 'relu',\n",
       " 'batch_size': 10,\n",
       " 'dropout_rate': 0.2,\n",
       " 'epochs': 100,\n",
       " 'learn_rate': 0.0001,\n",
       " 'momentum': 0.2,\n",
       " 'neurons': [500, 200, 100, 50]}"
      ]
     },
     "execution_count": 112,
     "metadata": {},
     "output_type": "execute_result"
    }
   ],
   "source": [
    "search.best_params_"
   ]
  },
  {
   "cell_type": "markdown",
   "id": "5c0fa89d",
   "metadata": {},
   "source": [
    "Now train model with best parameters again but with more epochs"
   ]
  },
  {
   "cell_type": "code",
   "execution_count": 113,
   "id": "d1092a7f",
   "metadata": {},
   "outputs": [],
   "source": [
    "best_params = search.best_params_\n",
    "nn = create_model(**best_params)"
   ]
  },
  {
   "cell_type": "code",
   "execution_count": 114,
   "id": "be2b3cde",
   "metadata": {
    "scrolled": false
   },
   "outputs": [
    {
     "name": "stdout",
     "output_type": "stream",
     "text": [
      "Epoch 1/5000\n",
      "346/346 [==============================] - 2s 4ms/step - loss: 7.2494 - mean_squared_error: 7.2494 - val_loss: 0.9793 - val_mean_squared_error: 0.9793\n",
      "Epoch 2/5000\n",
      "346/346 [==============================] - 1s 3ms/step - loss: 1.9478 - mean_squared_error: 1.9478 - val_loss: 0.8383 - val_mean_squared_error: 0.8383\n",
      "Epoch 3/5000\n",
      "346/346 [==============================] - 1s 3ms/step - loss: 1.8060 - mean_squared_error: 1.8060 - val_loss: 0.8411 - val_mean_squared_error: 0.8411\n",
      "Epoch 4/5000\n",
      "346/346 [==============================] - 1s 3ms/step - loss: 1.6488 - mean_squared_error: 1.6488 - val_loss: 0.8307 - val_mean_squared_error: 0.8307\n",
      "Epoch 5/5000\n",
      "346/346 [==============================] - 1s 3ms/step - loss: 1.6047 - mean_squared_error: 1.6047 - val_loss: 0.7558 - val_mean_squared_error: 0.7558\n",
      "Epoch 6/5000\n",
      "346/346 [==============================] - 1s 3ms/step - loss: 1.5349 - mean_squared_error: 1.5349 - val_loss: 0.8222 - val_mean_squared_error: 0.8222\n",
      "Epoch 7/5000\n",
      "346/346 [==============================] - 1s 3ms/step - loss: 1.5320 - mean_squared_error: 1.5320 - val_loss: 0.7314 - val_mean_squared_error: 0.7314\n",
      "Epoch 8/5000\n",
      "346/346 [==============================] - 1s 3ms/step - loss: 1.4570 - mean_squared_error: 1.4570 - val_loss: 0.8193 - val_mean_squared_error: 0.8193\n",
      "Epoch 9/5000\n",
      "346/346 [==============================] - 1s 3ms/step - loss: 1.4194 - mean_squared_error: 1.4194 - val_loss: 0.8249 - val_mean_squared_error: 0.8249\n",
      "Epoch 10/5000\n",
      "346/346 [==============================] - 1s 3ms/step - loss: 1.4778 - mean_squared_error: 1.4778 - val_loss: 0.7239 - val_mean_squared_error: 0.7239\n",
      "Epoch 11/5000\n",
      "346/346 [==============================] - 1s 3ms/step - loss: 1.3970 - mean_squared_error: 1.3970 - val_loss: 0.7144 - val_mean_squared_error: 0.7144\n",
      "Epoch 12/5000\n",
      "346/346 [==============================] - 1s 3ms/step - loss: 1.3693 - mean_squared_error: 1.3693 - val_loss: 0.7155 - val_mean_squared_error: 0.7155\n",
      "Epoch 13/5000\n",
      "346/346 [==============================] - 1s 3ms/step - loss: 1.3533 - mean_squared_error: 1.3533 - val_loss: 0.7809 - val_mean_squared_error: 0.7809\n",
      "Epoch 14/5000\n",
      "346/346 [==============================] - 1s 3ms/step - loss: 1.3310 - mean_squared_error: 1.3310 - val_loss: 0.7418 - val_mean_squared_error: 0.7418\n",
      "Epoch 15/5000\n",
      "346/346 [==============================] - 1s 3ms/step - loss: 1.3196 - mean_squared_error: 1.3196 - val_loss: 0.7444 - val_mean_squared_error: 0.7444\n",
      "Epoch 16/5000\n",
      "346/346 [==============================] - 1s 4ms/step - loss: 1.3680 - mean_squared_error: 1.3680 - val_loss: 0.8250 - val_mean_squared_error: 0.8250\n",
      "Epoch 17/5000\n",
      "346/346 [==============================] - 1s 4ms/step - loss: 1.3190 - mean_squared_error: 1.3190 - val_loss: 0.7069 - val_mean_squared_error: 0.7069\n",
      "Epoch 18/5000\n",
      "346/346 [==============================] - 1s 3ms/step - loss: 1.2980 - mean_squared_error: 1.2980 - val_loss: 0.8031 - val_mean_squared_error: 0.8031\n",
      "Epoch 19/5000\n",
      "346/346 [==============================] - 1s 3ms/step - loss: 1.2894 - mean_squared_error: 1.2894 - val_loss: 0.7449 - val_mean_squared_error: 0.7449\n",
      "Epoch 20/5000\n",
      "346/346 [==============================] - 1s 3ms/step - loss: 1.2651 - mean_squared_error: 1.2651 - val_loss: 0.7790 - val_mean_squared_error: 0.7790\n",
      "Epoch 21/5000\n",
      "346/346 [==============================] - 1s 3ms/step - loss: 1.2482 - mean_squared_error: 1.2482 - val_loss: 0.7136 - val_mean_squared_error: 0.7136\n",
      "Epoch 22/5000\n",
      "346/346 [==============================] - 1s 3ms/step - loss: 1.2401 - mean_squared_error: 1.2401 - val_loss: 0.7664 - val_mean_squared_error: 0.7664\n",
      "Epoch 23/5000\n",
      "346/346 [==============================] - 1s 3ms/step - loss: 1.2652 - mean_squared_error: 1.2652 - val_loss: 0.7559 - val_mean_squared_error: 0.7559\n",
      "Epoch 24/5000\n",
      "346/346 [==============================] - 1s 3ms/step - loss: 1.2689 - mean_squared_error: 1.2689 - val_loss: 0.7217 - val_mean_squared_error: 0.7217\n",
      "Epoch 25/5000\n",
      "346/346 [==============================] - 1s 3ms/step - loss: 1.2104 - mean_squared_error: 1.2104 - val_loss: 0.7560 - val_mean_squared_error: 0.7560\n",
      "Epoch 26/5000\n",
      "346/346 [==============================] - 1s 3ms/step - loss: 1.2164 - mean_squared_error: 1.2164 - val_loss: 0.7238 - val_mean_squared_error: 0.7238\n",
      "Epoch 27/5000\n",
      "346/346 [==============================] - 1s 3ms/step - loss: 1.2015 - mean_squared_error: 1.2015 - val_loss: 0.7635 - val_mean_squared_error: 0.7635\n",
      "Epoch 28/5000\n",
      "346/346 [==============================] - 1s 3ms/step - loss: 1.2532 - mean_squared_error: 1.2532 - val_loss: 0.8655 - val_mean_squared_error: 0.8655\n",
      "Epoch 29/5000\n",
      "346/346 [==============================] - 1s 3ms/step - loss: 1.2269 - mean_squared_error: 1.2269 - val_loss: 0.7752 - val_mean_squared_error: 0.7752\n",
      "Epoch 30/5000\n",
      "346/346 [==============================] - 1s 3ms/step - loss: 1.1831 - mean_squared_error: 1.1831 - val_loss: 0.7473 - val_mean_squared_error: 0.7473\n",
      "Epoch 31/5000\n",
      "346/346 [==============================] - 1s 4ms/step - loss: 1.2019 - mean_squared_error: 1.2019 - val_loss: 0.7219 - val_mean_squared_error: 0.7219\n",
      "Epoch 32/5000\n",
      "346/346 [==============================] - 1s 4ms/step - loss: 1.1918 - mean_squared_error: 1.1918 - val_loss: 0.7161 - val_mean_squared_error: 0.7161\n",
      "Epoch 33/5000\n",
      "346/346 [==============================] - 1s 4ms/step - loss: 1.1563 - mean_squared_error: 1.1563 - val_loss: 0.7462 - val_mean_squared_error: 0.7462\n",
      "Epoch 34/5000\n",
      "346/346 [==============================] - 1s 4ms/step - loss: 1.1470 - mean_squared_error: 1.1470 - val_loss: 0.7224 - val_mean_squared_error: 0.7224\n",
      "Epoch 35/5000\n",
      "346/346 [==============================] - 1s 3ms/step - loss: 1.1348 - mean_squared_error: 1.1348 - val_loss: 0.7291 - val_mean_squared_error: 0.7291\n",
      "Epoch 36/5000\n",
      "346/346 [==============================] - 1s 3ms/step - loss: 1.1812 - mean_squared_error: 1.1812 - val_loss: 0.7735 - val_mean_squared_error: 0.7735\n",
      "Epoch 37/5000\n",
      "346/346 [==============================] - 1s 3ms/step - loss: 1.1569 - mean_squared_error: 1.1569 - val_loss: 0.7251 - val_mean_squared_error: 0.7251\n",
      "Epoch 38/5000\n",
      "346/346 [==============================] - 1s 3ms/step - loss: 1.1398 - mean_squared_error: 1.1398 - val_loss: 0.7750 - val_mean_squared_error: 0.7750\n",
      "Epoch 39/5000\n",
      "346/346 [==============================] - 1s 3ms/step - loss: 1.1492 - mean_squared_error: 1.1492 - val_loss: 0.7149 - val_mean_squared_error: 0.7149\n",
      "Epoch 40/5000\n",
      "346/346 [==============================] - 1s 3ms/step - loss: 1.1948 - mean_squared_error: 1.1948 - val_loss: 0.8111 - val_mean_squared_error: 0.8111\n",
      "Epoch 41/5000\n",
      "346/346 [==============================] - 1s 3ms/step - loss: 1.1331 - mean_squared_error: 1.1331 - val_loss: 0.7240 - val_mean_squared_error: 0.7240\n",
      "Epoch 42/5000\n",
      "346/346 [==============================] - 1s 3ms/step - loss: 1.1182 - mean_squared_error: 1.1182 - val_loss: 0.7232 - val_mean_squared_error: 0.7232\n",
      "Epoch 43/5000\n",
      "346/346 [==============================] - 1s 3ms/step - loss: 1.0970 - mean_squared_error: 1.0970 - val_loss: 0.7783 - val_mean_squared_error: 0.7783\n",
      "Epoch 44/5000\n",
      "346/346 [==============================] - 1s 3ms/step - loss: 1.1028 - mean_squared_error: 1.1028 - val_loss: 0.7125 - val_mean_squared_error: 0.7125\n",
      "Epoch 45/5000\n",
      "346/346 [==============================] - 1s 3ms/step - loss: 1.1035 - mean_squared_error: 1.1035 - val_loss: 0.7744 - val_mean_squared_error: 0.7744\n",
      "Epoch 46/5000\n",
      "346/346 [==============================] - 1s 3ms/step - loss: 1.0974 - mean_squared_error: 1.0974 - val_loss: 0.7526 - val_mean_squared_error: 0.7526\n",
      "Epoch 47/5000\n",
      "346/346 [==============================] - 1s 4ms/step - loss: 1.1048 - mean_squared_error: 1.1048 - val_loss: 0.8003 - val_mean_squared_error: 0.8003\n",
      "Epoch 48/5000\n",
      "346/346 [==============================] - 1s 4ms/step - loss: 1.1043 - mean_squared_error: 1.1043 - val_loss: 0.7228 - val_mean_squared_error: 0.7228\n",
      "Epoch 49/5000\n",
      "346/346 [==============================] - 1s 4ms/step - loss: 1.0923 - mean_squared_error: 1.0923 - val_loss: 0.7279 - val_mean_squared_error: 0.7279\n",
      "Epoch 50/5000\n",
      "346/346 [==============================] - 1s 3ms/step - loss: 1.0958 - mean_squared_error: 1.0958 - val_loss: 0.7678 - val_mean_squared_error: 0.7678\n"
     ]
    },
    {
     "name": "stdout",
     "output_type": "stream",
     "text": [
      "Epoch 51/5000\n",
      "346/346 [==============================] - 1s 3ms/step - loss: 1.1203 - mean_squared_error: 1.1203 - val_loss: 0.7178 - val_mean_squared_error: 0.7178\n",
      "Epoch 52/5000\n",
      "346/346 [==============================] - 1s 3ms/step - loss: 1.0790 - mean_squared_error: 1.0790 - val_loss: 0.7984 - val_mean_squared_error: 0.7984\n",
      "Epoch 53/5000\n",
      "346/346 [==============================] - 1s 3ms/step - loss: 1.0769 - mean_squared_error: 1.0769 - val_loss: 0.7180 - val_mean_squared_error: 0.7180\n",
      "Epoch 54/5000\n",
      "346/346 [==============================] - 1s 3ms/step - loss: 1.0683 - mean_squared_error: 1.0683 - val_loss: 0.7396 - val_mean_squared_error: 0.7396\n",
      "Epoch 55/5000\n",
      "346/346 [==============================] - 1s 3ms/step - loss: 1.0630 - mean_squared_error: 1.0630 - val_loss: 0.7479 - val_mean_squared_error: 0.7479\n",
      "Epoch 56/5000\n",
      "346/346 [==============================] - 1s 3ms/step - loss: 1.0540 - mean_squared_error: 1.0540 - val_loss: 0.7199 - val_mean_squared_error: 0.7199\n",
      "Epoch 57/5000\n",
      "346/346 [==============================] - 1s 3ms/step - loss: 1.0616 - mean_squared_error: 1.0616 - val_loss: 0.7625 - val_mean_squared_error: 0.7625\n",
      "Epoch 58/5000\n",
      "346/346 [==============================] - 1s 3ms/step - loss: 1.0560 - mean_squared_error: 1.0560 - val_loss: 0.7139 - val_mean_squared_error: 0.7139\n",
      "Epoch 59/5000\n",
      "346/346 [==============================] - 1s 3ms/step - loss: 1.0540 - mean_squared_error: 1.0540 - val_loss: 0.7194 - val_mean_squared_error: 0.7194\n",
      "Epoch 60/5000\n",
      "346/346 [==============================] - 1s 3ms/step - loss: 1.0635 - mean_squared_error: 1.0635 - val_loss: 0.7275 - val_mean_squared_error: 0.7275\n",
      "Epoch 61/5000\n",
      "346/346 [==============================] - 1s 3ms/step - loss: 1.0707 - mean_squared_error: 1.0707 - val_loss: 0.7167 - val_mean_squared_error: 0.7167\n",
      "Epoch 62/5000\n",
      "346/346 [==============================] - 1s 3ms/step - loss: 1.0262 - mean_squared_error: 1.0262 - val_loss: 0.7683 - val_mean_squared_error: 0.7683\n",
      "Epoch 63/5000\n",
      "346/346 [==============================] - 1s 4ms/step - loss: 1.0449 - mean_squared_error: 1.0449 - val_loss: 0.7418 - val_mean_squared_error: 0.7418\n",
      "Epoch 64/5000\n",
      "346/346 [==============================] - 2s 4ms/step - loss: 1.0401 - mean_squared_error: 1.0401 - val_loss: 0.7260 - val_mean_squared_error: 0.7260\n",
      "Epoch 65/5000\n",
      "346/346 [==============================] - 1s 4ms/step - loss: 0.9858 - mean_squared_error: 0.9858 - val_loss: 0.7164 - val_mean_squared_error: 0.7164\n",
      "Epoch 66/5000\n",
      "346/346 [==============================] - 1s 4ms/step - loss: 1.0078 - mean_squared_error: 1.0078 - val_loss: 0.7195 - val_mean_squared_error: 0.7195\n",
      "Epoch 67/5000\n",
      "346/346 [==============================] - 1s 3ms/step - loss: 1.0124 - mean_squared_error: 1.0124 - val_loss: 0.7336 - val_mean_squared_error: 0.7336\n",
      "Epoch 68/5000\n",
      "346/346 [==============================] - 1s 3ms/step - loss: 1.0195 - mean_squared_error: 1.0195 - val_loss: 0.7214 - val_mean_squared_error: 0.7214\n",
      "Epoch 69/5000\n",
      "346/346 [==============================] - 1s 3ms/step - loss: 0.9892 - mean_squared_error: 0.9892 - val_loss: 0.7421 - val_mean_squared_error: 0.7421\n",
      "Epoch 70/5000\n",
      "346/346 [==============================] - 1s 3ms/step - loss: 1.0221 - mean_squared_error: 1.0221 - val_loss: 0.7187 - val_mean_squared_error: 0.7187\n",
      "Epoch 71/5000\n",
      "346/346 [==============================] - 1s 3ms/step - loss: 1.0430 - mean_squared_error: 1.0430 - val_loss: 0.7122 - val_mean_squared_error: 0.7122\n",
      "Epoch 72/5000\n",
      "346/346 [==============================] - 1s 3ms/step - loss: 0.9967 - mean_squared_error: 0.9967 - val_loss: 0.7616 - val_mean_squared_error: 0.7616\n",
      "Epoch 73/5000\n",
      "346/346 [==============================] - 1s 3ms/step - loss: 0.9712 - mean_squared_error: 0.9712 - val_loss: 0.7146 - val_mean_squared_error: 0.7146\n",
      "Epoch 74/5000\n",
      "346/346 [==============================] - 1s 3ms/step - loss: 1.0141 - mean_squared_error: 1.0141 - val_loss: 0.7164 - val_mean_squared_error: 0.7164\n",
      "Epoch 75/5000\n",
      "346/346 [==============================] - 1s 3ms/step - loss: 0.9562 - mean_squared_error: 0.9562 - val_loss: 0.7244 - val_mean_squared_error: 0.7244\n",
      "Epoch 76/5000\n",
      "346/346 [==============================] - 1s 3ms/step - loss: 0.9556 - mean_squared_error: 0.9556 - val_loss: 0.7180 - val_mean_squared_error: 0.7180\n",
      "Epoch 77/5000\n",
      "346/346 [==============================] - 1s 3ms/step - loss: 1.0105 - mean_squared_error: 1.0105 - val_loss: 0.7264 - val_mean_squared_error: 0.7264\n",
      "Epoch 78/5000\n",
      "346/346 [==============================] - 1s 3ms/step - loss: 0.9539 - mean_squared_error: 0.9539 - val_loss: 0.7459 - val_mean_squared_error: 0.7459\n",
      "Epoch 79/5000\n",
      "346/346 [==============================] - 1s 3ms/step - loss: 0.9720 - mean_squared_error: 0.9720 - val_loss: 0.8072 - val_mean_squared_error: 0.8072\n",
      "Epoch 80/5000\n",
      "346/346 [==============================] - 1s 4ms/step - loss: 0.9638 - mean_squared_error: 0.9638 - val_loss: 0.7350 - val_mean_squared_error: 0.7350\n",
      "Epoch 81/5000\n",
      "346/346 [==============================] - 1s 4ms/step - loss: 0.9682 - mean_squared_error: 0.9682 - val_loss: 0.7206 - val_mean_squared_error: 0.7206\n",
      "Epoch 82/5000\n",
      "346/346 [==============================] - 1s 4ms/step - loss: 0.9483 - mean_squared_error: 0.9483 - val_loss: 0.7250 - val_mean_squared_error: 0.7250\n",
      "Epoch 83/5000\n",
      "346/346 [==============================] - 1s 3ms/step - loss: 0.9362 - mean_squared_error: 0.9362 - val_loss: 0.7360 - val_mean_squared_error: 0.7360\n",
      "Epoch 84/5000\n",
      "346/346 [==============================] - 1s 3ms/step - loss: 0.9634 - mean_squared_error: 0.9634 - val_loss: 0.7220 - val_mean_squared_error: 0.7220\n",
      "Epoch 85/5000\n",
      "346/346 [==============================] - 1s 3ms/step - loss: 0.9544 - mean_squared_error: 0.9544 - val_loss: 0.7313 - val_mean_squared_error: 0.7313\n",
      "Epoch 86/5000\n",
      "346/346 [==============================] - 1s 3ms/step - loss: 0.9699 - mean_squared_error: 0.9699 - val_loss: 0.7280 - val_mean_squared_error: 0.7280\n",
      "Epoch 87/5000\n",
      "346/346 [==============================] - 1s 3ms/step - loss: 0.9386 - mean_squared_error: 0.9386 - val_loss: 0.7544 - val_mean_squared_error: 0.7544\n",
      "Epoch 88/5000\n",
      "346/346 [==============================] - 1s 3ms/step - loss: 0.9302 - mean_squared_error: 0.9302 - val_loss: 0.7471 - val_mean_squared_error: 0.7471\n",
      "Epoch 89/5000\n",
      "346/346 [==============================] - 1s 3ms/step - loss: 0.9261 - mean_squared_error: 0.9261 - val_loss: 0.7524 - val_mean_squared_error: 0.7524\n",
      "Epoch 90/5000\n",
      "346/346 [==============================] - 1s 3ms/step - loss: 0.9529 - mean_squared_error: 0.9529 - val_loss: 0.7806 - val_mean_squared_error: 0.7806\n",
      "Epoch 91/5000\n",
      "346/346 [==============================] - 1s 3ms/step - loss: 0.9894 - mean_squared_error: 0.9894 - val_loss: 0.7251 - val_mean_squared_error: 0.7251\n",
      "Epoch 92/5000\n",
      "346/346 [==============================] - 1s 3ms/step - loss: 0.8976 - mean_squared_error: 0.8976 - val_loss: 0.7306 - val_mean_squared_error: 0.7306\n",
      "Epoch 93/5000\n",
      "346/346 [==============================] - 1s 3ms/step - loss: 0.9307 - mean_squared_error: 0.9307 - val_loss: 0.7196 - val_mean_squared_error: 0.7196\n",
      "Epoch 94/5000\n",
      "346/346 [==============================] - 1s 3ms/step - loss: 0.9358 - mean_squared_error: 0.9358 - val_loss: 0.7176 - val_mean_squared_error: 0.7176\n",
      "Epoch 95/5000\n",
      "346/346 [==============================] - 1s 3ms/step - loss: 0.9257 - mean_squared_error: 0.9257 - val_loss: 0.7218 - val_mean_squared_error: 0.7218\n",
      "Epoch 96/5000\n",
      "346/346 [==============================] - 1s 4ms/step - loss: 0.9213 - mean_squared_error: 0.9213 - val_loss: 0.7324 - val_mean_squared_error: 0.7324\n",
      "Epoch 97/5000\n",
      "346/346 [==============================] - 1s 4ms/step - loss: 0.9103 - mean_squared_error: 0.9103 - val_loss: 0.7304 - val_mean_squared_error: 0.7304\n",
      "Epoch 98/5000\n",
      "346/346 [==============================] - 1s 4ms/step - loss: 0.9190 - mean_squared_error: 0.9190 - val_loss: 0.8112 - val_mean_squared_error: 0.8112\n",
      "Epoch 99/5000\n",
      "346/346 [==============================] - 1s 3ms/step - loss: 0.9264 - mean_squared_error: 0.9264 - val_loss: 0.7231 - val_mean_squared_error: 0.7231\n",
      "Epoch 100/5000\n"
     ]
    },
    {
     "name": "stdout",
     "output_type": "stream",
     "text": [
      "346/346 [==============================] - 1s 3ms/step - loss: 0.8971 - mean_squared_error: 0.8971 - val_loss: 0.7236 - val_mean_squared_error: 0.7236\n",
      "Epoch 101/5000\n",
      "346/346 [==============================] - 1s 3ms/step - loss: 0.8799 - mean_squared_error: 0.8799 - val_loss: 0.7188 - val_mean_squared_error: 0.7188\n",
      "Epoch 102/5000\n",
      "346/346 [==============================] - 1s 3ms/step - loss: 0.8669 - mean_squared_error: 0.8669 - val_loss: 0.7445 - val_mean_squared_error: 0.7445\n",
      "Epoch 103/5000\n",
      "346/346 [==============================] - 1s 3ms/step - loss: 0.9151 - mean_squared_error: 0.9151 - val_loss: 0.7456 - val_mean_squared_error: 0.7456\n",
      "Epoch 104/5000\n",
      "346/346 [==============================] - 1s 3ms/step - loss: 0.8818 - mean_squared_error: 0.8818 - val_loss: 0.7210 - val_mean_squared_error: 0.7210\n",
      "Epoch 105/5000\n",
      "346/346 [==============================] - 1s 3ms/step - loss: 0.8667 - mean_squared_error: 0.8667 - val_loss: 0.7164 - val_mean_squared_error: 0.7164\n",
      "Epoch 106/5000\n",
      "346/346 [==============================] - 1s 3ms/step - loss: 0.8936 - mean_squared_error: 0.8936 - val_loss: 0.7216 - val_mean_squared_error: 0.7216\n",
      "Epoch 107/5000\n",
      "346/346 [==============================] - 1s 3ms/step - loss: 0.8744 - mean_squared_error: 0.8744 - val_loss: 0.7233 - val_mean_squared_error: 0.7233\n",
      "Epoch 108/5000\n",
      "346/346 [==============================] - 1s 3ms/step - loss: 0.8723 - mean_squared_error: 0.8723 - val_loss: 0.7307 - val_mean_squared_error: 0.7307\n",
      "Epoch 109/5000\n",
      "346/346 [==============================] - 1s 3ms/step - loss: 0.8808 - mean_squared_error: 0.8808 - val_loss: 0.7550 - val_mean_squared_error: 0.7550\n",
      "Epoch 110/5000\n",
      "346/346 [==============================] - 1s 3ms/step - loss: 0.8796 - mean_squared_error: 0.8796 - val_loss: 0.7581 - val_mean_squared_error: 0.7581\n",
      "Epoch 111/5000\n",
      "346/346 [==============================] - 1s 3ms/step - loss: 0.8843 - mean_squared_error: 0.8843 - val_loss: 0.7238 - val_mean_squared_error: 0.7238\n",
      "Epoch 112/5000\n",
      "346/346 [==============================] - 1s 3ms/step - loss: 0.8818 - mean_squared_error: 0.8818 - val_loss: 0.7208 - val_mean_squared_error: 0.7208\n",
      "Epoch 113/5000\n",
      "346/346 [==============================] - 1s 4ms/step - loss: 0.8569 - mean_squared_error: 0.8569 - val_loss: 0.7457 - val_mean_squared_error: 0.7457\n",
      "Epoch 114/5000\n",
      "346/346 [==============================] - 1s 4ms/step - loss: 0.8727 - mean_squared_error: 0.8727 - val_loss: 0.7306 - val_mean_squared_error: 0.7306\n",
      "Epoch 115/5000\n",
      "346/346 [==============================] - 1s 4ms/step - loss: 0.8564 - mean_squared_error: 0.8564 - val_loss: 0.7268 - val_mean_squared_error: 0.7268\n",
      "Epoch 116/5000\n",
      "346/346 [==============================] - 1s 3ms/step - loss: 0.8632 - mean_squared_error: 0.8632 - val_loss: 0.7293 - val_mean_squared_error: 0.7293\n",
      "Epoch 117/5000\n",
      "346/346 [==============================] - 1s 3ms/step - loss: 0.8770 - mean_squared_error: 0.8770 - val_loss: 0.7282 - val_mean_squared_error: 0.7282\n"
     ]
    },
    {
     "data": {
      "text/plain": [
       "<keras.callbacks.History at 0x27591aa6df0>"
      ]
     },
     "execution_count": 114,
     "metadata": {},
     "output_type": "execute_result"
    }
   ],
   "source": [
    "history = History()\n",
    "early_stopping = EarlyStopping(patience=100)\n",
    "\n",
    "nn.fit(np.asarray(X_train).astype(np.float32), y_train, \n",
    "       epochs=5000, batch_size=best_params['batch_size'],\n",
    "       validation_data=(np.asarray(X_test).astype(np.float32), y_test),\n",
    "       callbacks=[history, early_stopping])"
   ]
  },
  {
   "cell_type": "code",
   "execution_count": 115,
   "id": "9c1d0ce7",
   "metadata": {},
   "outputs": [
    {
     "data": {
      "text/plain": [
       "<matplotlib.legend.Legend at 0x27592d2af70>"
      ]
     },
     "execution_count": 115,
     "metadata": {},
     "output_type": "execute_result"
    },
    {
     "data": {
      "image/png": "[encoded data removed]",
      "text/plain": [
       "<Figure size 432x288 with 1 Axes>"
      ]
     },
     "metadata": {
      "needs_background": "light"
     },
     "output_type": "display_data"
    }
   ],
   "source": [
    "plt.plot(history.history['val_loss'], label='val_loss')\n",
    "plt.plot(history.history['loss'], label='loss')\n",
    "plt.legend()"
   ]
  },
  {
   "cell_type": "code",
   "execution_count": 116,
   "id": "8b4616d8",
   "metadata": {},
   "outputs": [
    {
     "name": "stdout",
     "output_type": "stream",
     "text": [
      "47/47 [==============================] - 0s 2ms/step\n"
     ]
    }
   ],
   "source": [
    "append_result('Neural Network', nn.predict(X_test), y_test)"
   ]
  },
  {
   "cell_type": "code",
   "execution_count": 117,
   "id": "1271b40d",
   "metadata": {},
   "outputs": [
    {
     "data": {
      "text/html": [
       "<div>\n",
       "<style scoped>\n",
       "    .dataframe tbody tr th:only-of-type {\n",
       "        vertical-align: middle;\n",
       "    }\n",
       "\n",
       "    .dataframe tbody tr th {\n",
       "        vertical-align: top;\n",
       "    }\n",
       "\n",
       "    .dataframe thead th {\n",
       "        text-align: right;\n",
       "    }\n",
       "</style>\n",
       "<table border=\"1\" class=\"dataframe\">\n",
       "  <thead>\n",
       "    <tr style=\"text-align: right;\">\n",
       "      <th></th>\n",
       "      <th>name</th>\n",
       "      <th>mae</th>\n",
       "      <th>mse</th>\n",
       "      <th>rmse</th>\n",
       "    </tr>\n",
       "  </thead>\n",
       "  <tbody>\n",
       "    <tr>\n",
       "      <th>0</th>\n",
       "      <td>Linear Regression</td>\n",
       "      <td>0.654898</td>\n",
       "      <td>0.725308</td>\n",
       "      <td>0.85165</td>\n",
       "    </tr>\n",
       "    <tr>\n",
       "      <th>0</th>\n",
       "      <td>Ridge Regression</td>\n",
       "      <td>0.654956</td>\n",
       "      <td>0.725325</td>\n",
       "      <td>0.85166</td>\n",
       "    </tr>\n",
       "    <tr>\n",
       "      <th>0</th>\n",
       "      <td>Lasso Regression</td>\n",
       "      <td>0.640047</td>\n",
       "      <td>0.756899</td>\n",
       "      <td>0.869999</td>\n",
       "    </tr>\n",
       "    <tr>\n",
       "      <th>0</th>\n",
       "      <td>Elastic Net Regression</td>\n",
       "      <td>0.642731</td>\n",
       "      <td>0.777193</td>\n",
       "      <td>0.881586</td>\n",
       "    </tr>\n",
       "    <tr>\n",
       "      <th>0</th>\n",
       "      <td>Random Forest Regressor</td>\n",
       "      <td>0.583736</td>\n",
       "      <td>0.594724</td>\n",
       "      <td>0.771183</td>\n",
       "    </tr>\n",
       "    <tr>\n",
       "      <th>0</th>\n",
       "      <td>Neural Network</td>\n",
       "      <td>0.652845</td>\n",
       "      <td>0.728187</td>\n",
       "      <td>0.853339</td>\n",
       "    </tr>\n",
       "  </tbody>\n",
       "</table>\n",
       "</div>"
      ],
      "text/plain": [
       "                      name       mae       mse      rmse\n",
       "0        Linear Regression  0.654898  0.725308   0.85165\n",
       "0         Ridge Regression  0.654956  0.725325   0.85166\n",
       "0         Lasso Regression  0.640047  0.756899  0.869999\n",
       "0   Elastic Net Regression  0.642731  0.777193  0.881586\n",
       "0  Random Forest Regressor  0.583736  0.594724  0.771183\n",
       "0           Neural Network  0.652845  0.728187  0.853339"
      ]
     },
     "execution_count": 117,
     "metadata": {},
     "output_type": "execute_result"
    }
   ],
   "source": [
    "model_results"
   ]
  },
  {
   "cell_type": "markdown",
   "id": "56f1113a",
   "metadata": {},
   "source": [
    "**Suprisingly Neural Network predictions are worse than Random Forest Regressor**"
   ]
  },
  {
   "cell_type": "markdown",
   "id": "8e759ba1",
   "metadata": {},
   "source": [
    "The best model in this case is ensemble of random trees. Its rmse is approximately 0.77 which means that we can expect the model to miss the correct title score by 0.77."
   ]
  },
  {
   "cell_type": "markdown",
   "id": "0aa38340",
   "metadata": {},
   "source": [
    "Let's predict score for my favourite movie: Joker from 2019"
   ]
  },
  {
   "cell_type": "code",
   "execution_count": 128,
   "id": "e3ee8757",
   "metadata": {},
   "outputs": [],
   "source": [
    "random_forest = grid_5.best_estimator_"
   ]
  },
  {
   "cell_type": "code",
   "execution_count": 126,
   "id": "d7a788fc",
   "metadata": {},
   "outputs": [
    {
     "data": {
      "text/html": [
       "<div>\n",
       "<style scoped>\n",
       "    .dataframe tbody tr th:only-of-type {\n",
       "        vertical-align: middle;\n",
       "    }\n",
       "\n",
       "    .dataframe tbody tr th {\n",
       "        vertical-align: top;\n",
       "    }\n",
       "\n",
       "    .dataframe thead th {\n",
       "        text-align: right;\n",
       "    }\n",
       "</style>\n",
       "<table border=\"1\" class=\"dataframe\">\n",
       "  <thead>\n",
       "    <tr style=\"text-align: right;\">\n",
       "      <th></th>\n",
       "      <th>type</th>\n",
       "      <th>title_len</th>\n",
       "      <th>release_year</th>\n",
       "      <th>runtime</th>\n",
       "      <th>seasons</th>\n",
       "      <th>imdb_votes</th>\n",
       "      <th>tmdb_popularity</th>\n",
       "      <th>genre_documentation</th>\n",
       "      <th>genre_crime</th>\n",
       "      <th>genre_drama</th>\n",
       "      <th>genre_comedy</th>\n",
       "      <th>genre_fantasy</th>\n",
       "      <th>genre_horror</th>\n",
       "      <th>genre_european</th>\n",
       "      <th>genre_thriller</th>\n",
       "      <th>genre_action</th>\n",
       "      <th>genre_music</th>\n",
       "      <th>genre_romance</th>\n",
       "      <th>genre_family</th>\n",
       "      <th>genre_western</th>\n",
       "      <th>genre_war</th>\n",
       "      <th>genre_animation</th>\n",
       "      <th>genre_history</th>\n",
       "      <th>genre_scifi</th>\n",
       "      <th>genre_reality</th>\n",
       "      <th>genre_sport</th>\n",
       "      <th>prod_country</th>\n",
       "      <th>cert_children</th>\n",
       "      <th>cert_teenagers</th>\n",
       "      <th>score</th>\n",
       "    </tr>\n",
       "  </thead>\n",
       "  <tbody>\n",
       "    <tr>\n",
       "      <th>1</th>\n",
       "      <td>0</td>\n",
       "      <td>11.0</td>\n",
       "      <td>1976</td>\n",
       "      <td>113</td>\n",
       "      <td>0.0</td>\n",
       "      <td>795222.0</td>\n",
       "      <td>27.612</td>\n",
       "      <td>0.0</td>\n",
       "      <td>1.0</td>\n",
       "      <td>1.0</td>\n",
       "      <td>0.0</td>\n",
       "      <td>0.0</td>\n",
       "      <td>0.0</td>\n",
       "      <td>0.0</td>\n",
       "      <td>0.0</td>\n",
       "      <td>0.0</td>\n",
       "      <td>0.0</td>\n",
       "      <td>0.0</td>\n",
       "      <td>0.0</td>\n",
       "      <td>0.0</td>\n",
       "      <td>0.0</td>\n",
       "      <td>0.0</td>\n",
       "      <td>0.0</td>\n",
       "      <td>0.0</td>\n",
       "      <td>0.0</td>\n",
       "      <td>0.0</td>\n",
       "      <td>0.0</td>\n",
       "      <td>0</td>\n",
       "      <td>1</td>\n",
       "      <td>8.25</td>\n",
       "    </tr>\n",
       "    <tr>\n",
       "      <th>2</th>\n",
       "      <td>0</td>\n",
       "      <td>31.0</td>\n",
       "      <td>1975</td>\n",
       "      <td>91</td>\n",
       "      <td>0.0</td>\n",
       "      <td>530877.0</td>\n",
       "      <td>18.216</td>\n",
       "      <td>0.0</td>\n",
       "      <td>0.0</td>\n",
       "      <td>0.0</td>\n",
       "      <td>1.0</td>\n",
       "      <td>1.0</td>\n",
       "      <td>0.0</td>\n",
       "      <td>0.0</td>\n",
       "      <td>0.0</td>\n",
       "      <td>0.0</td>\n",
       "      <td>0.0</td>\n",
       "      <td>0.0</td>\n",
       "      <td>0.0</td>\n",
       "      <td>0.0</td>\n",
       "      <td>0.0</td>\n",
       "      <td>0.0</td>\n",
       "      <td>0.0</td>\n",
       "      <td>0.0</td>\n",
       "      <td>0.0</td>\n",
       "      <td>0.0</td>\n",
       "      <td>1.0</td>\n",
       "      <td>1</td>\n",
       "      <td>0</td>\n",
       "      <td>8.00</td>\n",
       "    </tr>\n",
       "    <tr>\n",
       "      <th>3</th>\n",
       "      <td>0</td>\n",
       "      <td>13.0</td>\n",
       "      <td>1979</td>\n",
       "      <td>94</td>\n",
       "      <td>0.0</td>\n",
       "      <td>392419.0</td>\n",
       "      <td>17.505</td>\n",
       "      <td>0.0</td>\n",
       "      <td>0.0</td>\n",
       "      <td>0.0</td>\n",
       "      <td>1.0</td>\n",
       "      <td>0.0</td>\n",
       "      <td>0.0</td>\n",
       "      <td>0.0</td>\n",
       "      <td>0.0</td>\n",
       "      <td>0.0</td>\n",
       "      <td>0.0</td>\n",
       "      <td>0.0</td>\n",
       "      <td>0.0</td>\n",
       "      <td>0.0</td>\n",
       "      <td>0.0</td>\n",
       "      <td>0.0</td>\n",
       "      <td>0.0</td>\n",
       "      <td>0.0</td>\n",
       "      <td>0.0</td>\n",
       "      <td>0.0</td>\n",
       "      <td>1.0</td>\n",
       "      <td>0</td>\n",
       "      <td>1</td>\n",
       "      <td>7.90</td>\n",
       "    </tr>\n",
       "    <tr>\n",
       "      <th>4</th>\n",
       "      <td>0</td>\n",
       "      <td>12.0</td>\n",
       "      <td>1973</td>\n",
       "      <td>133</td>\n",
       "      <td>0.0</td>\n",
       "      <td>391942.0</td>\n",
       "      <td>95.337</td>\n",
       "      <td>0.0</td>\n",
       "      <td>0.0</td>\n",
       "      <td>0.0</td>\n",
       "      <td>0.0</td>\n",
       "      <td>0.0</td>\n",
       "      <td>1.0</td>\n",
       "      <td>0.0</td>\n",
       "      <td>0.0</td>\n",
       "      <td>0.0</td>\n",
       "      <td>0.0</td>\n",
       "      <td>0.0</td>\n",
       "      <td>0.0</td>\n",
       "      <td>0.0</td>\n",
       "      <td>0.0</td>\n",
       "      <td>0.0</td>\n",
       "      <td>0.0</td>\n",
       "      <td>0.0</td>\n",
       "      <td>0.0</td>\n",
       "      <td>0.0</td>\n",
       "      <td>0.0</td>\n",
       "      <td>0</td>\n",
       "      <td>1</td>\n",
       "      <td>7.90</td>\n",
       "    </tr>\n",
       "    <tr>\n",
       "      <th>5</th>\n",
       "      <td>1</td>\n",
       "      <td>28.0</td>\n",
       "      <td>1969</td>\n",
       "      <td>30</td>\n",
       "      <td>4.0</td>\n",
       "      <td>72895.0</td>\n",
       "      <td>12.919</td>\n",
       "      <td>0.0</td>\n",
       "      <td>0.0</td>\n",
       "      <td>0.0</td>\n",
       "      <td>1.0</td>\n",
       "      <td>0.0</td>\n",
       "      <td>0.0</td>\n",
       "      <td>1.0</td>\n",
       "      <td>0.0</td>\n",
       "      <td>0.0</td>\n",
       "      <td>0.0</td>\n",
       "      <td>0.0</td>\n",
       "      <td>0.0</td>\n",
       "      <td>0.0</td>\n",
       "      <td>0.0</td>\n",
       "      <td>0.0</td>\n",
       "      <td>0.0</td>\n",
       "      <td>0.0</td>\n",
       "      <td>0.0</td>\n",
       "      <td>0.0</td>\n",
       "      <td>1.0</td>\n",
       "      <td>0</td>\n",
       "      <td>1</td>\n",
       "      <td>8.55</td>\n",
       "    </tr>\n",
       "  </tbody>\n",
       "</table>\n",
       "</div>"
      ],
      "text/plain": [
       "  type  title_len  release_year  runtime  seasons  imdb_votes  \\\n",
       "1    0       11.0          1976      113      0.0    795222.0   \n",
       "2    0       31.0          1975       91      0.0    530877.0   \n",
       "3    0       13.0          1979       94      0.0    392419.0   \n",
       "4    0       12.0          1973      133      0.0    391942.0   \n",
       "5    1       28.0          1969       30      4.0     72895.0   \n",
       "\n",
       "   tmdb_popularity  genre_documentation  genre_crime  genre_drama  \\\n",
       "1           27.612                  0.0          1.0          1.0   \n",
       "2           18.216                  0.0          0.0          0.0   \n",
       "3           17.505                  0.0          0.0          0.0   \n",
       "4           95.337                  0.0          0.0          0.0   \n",
       "5           12.919                  0.0          0.0          0.0   \n",
       "\n",
       "   genre_comedy  genre_fantasy  genre_horror  genre_european  genre_thriller  \\\n",
       "1           0.0            0.0           0.0             0.0             0.0   \n",
       "2           1.0            1.0           0.0             0.0             0.0   \n",
       "3           1.0            0.0           0.0             0.0             0.0   \n",
       "4           0.0            0.0           1.0             0.0             0.0   \n",
       "5           1.0            0.0           0.0             1.0             0.0   \n",
       "\n",
       "   genre_action  genre_music  genre_romance  genre_family  genre_western  \\\n",
       "1           0.0          0.0            0.0           0.0            0.0   \n",
       "2           0.0          0.0            0.0           0.0            0.0   \n",
       "3           0.0          0.0            0.0           0.0            0.0   \n",
       "4           0.0          0.0            0.0           0.0            0.0   \n",
       "5           0.0          0.0            0.0           0.0            0.0   \n",
       "\n",
       "   genre_war  genre_animation  genre_history  genre_scifi  genre_reality  \\\n",
       "1        0.0              0.0            0.0          0.0            0.0   \n",
       "2        0.0              0.0            0.0          0.0            0.0   \n",
       "3        0.0              0.0            0.0          0.0            0.0   \n",
       "4        0.0              0.0            0.0          0.0            0.0   \n",
       "5        0.0              0.0            0.0          0.0            0.0   \n",
       "\n",
       "   genre_sport  prod_country  cert_children  cert_teenagers  score  \n",
       "1          0.0           0.0              0               1   8.25  \n",
       "2          0.0           1.0              1               0   8.00  \n",
       "3          0.0           1.0              0               1   7.90  \n",
       "4          0.0           0.0              0               1   7.90  \n",
       "5          0.0           1.0              0               1   8.55  "
      ]
     },
     "execution_count": 126,
     "metadata": {},
     "output_type": "execute_result"
    }
   ],
   "source": [
    "titles.head()"
   ]
  },
  {
   "cell_type": "code",
   "execution_count": 141,
   "id": "fc014cb9",
   "metadata": {},
   "outputs": [],
   "source": [
    "joker = np.array([0, 5, 2019, 122, 0, 1203710, 300, 0, 1, 0, 0, 0, 0, 0, 1, 1, 0, 0, 0, 0, 0, 0, 0, 0, 0, 0, 0, 0, 0]).reshape(1, -1)"
   ]
  },
  {
   "cell_type": "code",
   "execution_count": 142,
   "id": "9475e59d",
   "metadata": {},
   "outputs": [
    {
     "data": {
      "text/plain": [
       "array([7.0073])"
      ]
     },
     "execution_count": 142,
     "metadata": {},
     "output_type": "execute_result"
    }
   ],
   "source": [
    "random_forest.predict(joker)"
   ]
  },
  {
   "cell_type": "markdown",
   "id": "8eda0e26",
   "metadata": {},
   "source": [
    "Correct value is (8.2 + 8.4) / 2 = 8.3, so the model missed by one "
   ]
  },
  {
   "cell_type": "code",
   "execution_count": null,
   "id": "856b52a3",
   "metadata": {},
   "outputs": [],
   "source": []
  }
 ],
 "metadata": {
  "kernelspec": {
   "display_name": "Python 3 (ipykernel)",
   "language": "python",
   "name": "python3"
  },
  "language_info": {
   "codemirror_mode": {
    "name": "ipython",
    "version": 3
   },
   "file_extension": ".py",
   "mimetype": "text/x-python",
   "name": "python",
   "nbconvert_exporter": "python",
   "pygments_lexer": "ipython3",
   "version": "3.8.12"
  }
 },
 "nbformat": 4,
 "nbformat_minor": 5
}
