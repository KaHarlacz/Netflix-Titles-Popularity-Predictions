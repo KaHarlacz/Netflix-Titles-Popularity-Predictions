{
 "cells": [
  {
   "cell_type": "markdown",
   "id": "5bf1e423",
   "metadata": {},
   "source": [
    "Link to data on kaggle: https://www.kaggle.com/datasets/victorsoeiro/netflix-tv-shows-and-movies"
   ]
  },
  {
   "cell_type": "code",
   "execution_count": 1,
   "id": "9989b1be",
   "metadata": {},
   "outputs": [],
   "source": [
    "import numpy as np\n",
    "import pandas as pd\n",
    "import seaborn as sns\n",
    "import matplotlib.pyplot as plt"
   ]
  },
  {
   "cell_type": "code",
   "execution_count": 2,
   "id": "4ae8548e",
   "metadata": {},
   "outputs": [],
   "source": [
    "import multiprocessing\n",
    "n_jobs = multiprocessing.cpu_count() - 2"
   ]
  },
  {
   "cell_type": "code",
   "execution_count": 155,
   "id": "d1ed3987",
   "metadata": {},
   "outputs": [],
   "source": [
    "import warnings\n",
    "warnings.filterwarnings('ignore')"
   ]
  },
  {
   "cell_type": "code",
   "execution_count": 3,
   "id": "b8c8eb67",
   "metadata": {},
   "outputs": [],
   "source": [
    "random_state = 101"
   ]
  },
  {
   "cell_type": "code",
   "execution_count": 4,
   "id": "328e0377",
   "metadata": {},
   "outputs": [],
   "source": [
    "pd.set_option('display.max_columns', None)"
   ]
  },
  {
   "cell_type": "code",
   "execution_count": 5,
   "id": "82299997",
   "metadata": {},
   "outputs": [],
   "source": [
    "original_titles = pd.read_csv('titles.csv')\n",
    "titles = original_titles.copy()"
   ]
  },
  {
   "cell_type": "code",
   "execution_count": 6,
   "id": "de9fa7e0",
   "metadata": {
    "scrolled": false
   },
   "outputs": [
    {
     "data": {
      "text/html": [
       "<div>\n",
       "<style scoped>\n",
       "    .dataframe tbody tr th:only-of-type {\n",
       "        vertical-align: middle;\n",
       "    }\n",
       "\n",
       "    .dataframe tbody tr th {\n",
       "        vertical-align: top;\n",
       "    }\n",
       "\n",
       "    .dataframe thead th {\n",
       "        text-align: right;\n",
       "    }\n",
       "</style>\n",
       "<table border=\"1\" class=\"dataframe\">\n",
       "  <thead>\n",
       "    <tr style=\"text-align: right;\">\n",
       "      <th></th>\n",
       "      <th>id</th>\n",
       "      <th>title</th>\n",
       "      <th>type</th>\n",
       "      <th>description</th>\n",
       "      <th>release_year</th>\n",
       "      <th>age_certification</th>\n",
       "      <th>runtime</th>\n",
       "      <th>genres</th>\n",
       "      <th>production_countries</th>\n",
       "      <th>seasons</th>\n",
       "      <th>imdb_id</th>\n",
       "      <th>imdb_score</th>\n",
       "      <th>imdb_votes</th>\n",
       "      <th>tmdb_popularity</th>\n",
       "      <th>tmdb_score</th>\n",
       "    </tr>\n",
       "  </thead>\n",
       "  <tbody>\n",
       "    <tr>\n",
       "      <th>0</th>\n",
       "      <td>ts300399</td>\n",
       "      <td>Five Came Back: The Reference Films</td>\n",
       "      <td>SHOW</td>\n",
       "      <td>This collection includes 12 World War II-era p...</td>\n",
       "      <td>1945</td>\n",
       "      <td>TV-MA</td>\n",
       "      <td>48</td>\n",
       "      <td>['documentation']</td>\n",
       "      <td>['US']</td>\n",
       "      <td>1.0</td>\n",
       "      <td>NaN</td>\n",
       "      <td>NaN</td>\n",
       "      <td>NaN</td>\n",
       "      <td>0.600</td>\n",
       "      <td>NaN</td>\n",
       "    </tr>\n",
       "    <tr>\n",
       "      <th>1</th>\n",
       "      <td>tm84618</td>\n",
       "      <td>Taxi Driver</td>\n",
       "      <td>MOVIE</td>\n",
       "      <td>A mentally unstable Vietnam War veteran works ...</td>\n",
       "      <td>1976</td>\n",
       "      <td>R</td>\n",
       "      <td>113</td>\n",
       "      <td>['crime', 'drama']</td>\n",
       "      <td>['US']</td>\n",
       "      <td>NaN</td>\n",
       "      <td>tt0075314</td>\n",
       "      <td>8.3</td>\n",
       "      <td>795222.0</td>\n",
       "      <td>27.612</td>\n",
       "      <td>8.2</td>\n",
       "    </tr>\n",
       "    <tr>\n",
       "      <th>2</th>\n",
       "      <td>tm127384</td>\n",
       "      <td>Monty Python and the Holy Grail</td>\n",
       "      <td>MOVIE</td>\n",
       "      <td>King Arthur, accompanied by his squire, recrui...</td>\n",
       "      <td>1975</td>\n",
       "      <td>PG</td>\n",
       "      <td>91</td>\n",
       "      <td>['comedy', 'fantasy']</td>\n",
       "      <td>['GB']</td>\n",
       "      <td>NaN</td>\n",
       "      <td>tt0071853</td>\n",
       "      <td>8.2</td>\n",
       "      <td>530877.0</td>\n",
       "      <td>18.216</td>\n",
       "      <td>7.8</td>\n",
       "    </tr>\n",
       "    <tr>\n",
       "      <th>3</th>\n",
       "      <td>tm70993</td>\n",
       "      <td>Life of Brian</td>\n",
       "      <td>MOVIE</td>\n",
       "      <td>Brian Cohen is an average young Jewish man, bu...</td>\n",
       "      <td>1979</td>\n",
       "      <td>R</td>\n",
       "      <td>94</td>\n",
       "      <td>['comedy']</td>\n",
       "      <td>['GB']</td>\n",
       "      <td>NaN</td>\n",
       "      <td>tt0079470</td>\n",
       "      <td>8.0</td>\n",
       "      <td>392419.0</td>\n",
       "      <td>17.505</td>\n",
       "      <td>7.8</td>\n",
       "    </tr>\n",
       "    <tr>\n",
       "      <th>4</th>\n",
       "      <td>tm190788</td>\n",
       "      <td>The Exorcist</td>\n",
       "      <td>MOVIE</td>\n",
       "      <td>12-year-old Regan MacNeil begins to adapt an e...</td>\n",
       "      <td>1973</td>\n",
       "      <td>R</td>\n",
       "      <td>133</td>\n",
       "      <td>['horror']</td>\n",
       "      <td>['US']</td>\n",
       "      <td>NaN</td>\n",
       "      <td>tt0070047</td>\n",
       "      <td>8.1</td>\n",
       "      <td>391942.0</td>\n",
       "      <td>95.337</td>\n",
       "      <td>7.7</td>\n",
       "    </tr>\n",
       "  </tbody>\n",
       "</table>\n",
       "</div>"
      ],
      "text/plain": [
       "         id                                title   type  \\\n",
       "0  ts300399  Five Came Back: The Reference Films   SHOW   \n",
       "1   tm84618                          Taxi Driver  MOVIE   \n",
       "2  tm127384      Monty Python and the Holy Grail  MOVIE   \n",
       "3   tm70993                        Life of Brian  MOVIE   \n",
       "4  tm190788                         The Exorcist  MOVIE   \n",
       "\n",
       "                                         description  release_year  \\\n",
       "0  This collection includes 12 World War II-era p...          1945   \n",
       "1  A mentally unstable Vietnam War veteran works ...          1976   \n",
       "2  King Arthur, accompanied by his squire, recrui...          1975   \n",
       "3  Brian Cohen is an average young Jewish man, bu...          1979   \n",
       "4  12-year-old Regan MacNeil begins to adapt an e...          1973   \n",
       "\n",
       "  age_certification  runtime                 genres production_countries  \\\n",
       "0             TV-MA       48      ['documentation']               ['US']   \n",
       "1                 R      113     ['crime', 'drama']               ['US']   \n",
       "2                PG       91  ['comedy', 'fantasy']               ['GB']   \n",
       "3                 R       94             ['comedy']               ['GB']   \n",
       "4                 R      133             ['horror']               ['US']   \n",
       "\n",
       "   seasons    imdb_id  imdb_score  imdb_votes  tmdb_popularity  tmdb_score  \n",
       "0      1.0        NaN         NaN         NaN            0.600         NaN  \n",
       "1      NaN  tt0075314         8.3    795222.0           27.612         8.2  \n",
       "2      NaN  tt0071853         8.2    530877.0           18.216         7.8  \n",
       "3      NaN  tt0079470         8.0    392419.0           17.505         7.8  \n",
       "4      NaN  tt0070047         8.1    391942.0           95.337         7.7  "
      ]
     },
     "execution_count": 6,
     "metadata": {},
     "output_type": "execute_result"
    }
   ],
   "source": [
    "titles.head()"
   ]
  },
  {
   "cell_type": "markdown",
   "id": "8cbb4ecd",
   "metadata": {},
   "source": [
    "Data consist of title data and some columns referring to rating of title on two diferent sites. Since I want to predict values in one single column I will take mean from tmbd_score and imbd_score and build models predicting this value.  "
   ]
  },
  {
   "cell_type": "markdown",
   "id": "37d9303d",
   "metadata": {},
   "source": [
    "## Cleaning the data"
   ]
  },
  {
   "cell_type": "markdown",
   "id": "6700f464",
   "metadata": {},
   "source": [
    "#### Missing values check"
   ]
  },
  {
   "cell_type": "code",
   "execution_count": 7,
   "id": "bbdcf6e6",
   "metadata": {},
   "outputs": [
    {
     "data": {
      "text/plain": [
       "<AxesSubplot:>"
      ]
     },
     "execution_count": 7,
     "metadata": {},
     "output_type": "execute_result"
    },
    {
     "data": {
      "image/png": "[encoded data removed]",
      "text/plain": [
       "<Figure size 864x432 with 1 Axes>"
      ]
     },
     "metadata": {
      "needs_background": "light"
     },
     "output_type": "display_data"
    }
   ],
   "source": [
    "plt.figure(figsize=(12, 6))\n",
    "sns.heatmap(titles.isnull(), yticklabels=False, cbar=False, cmap='plasma')"
   ]
  },
  {
   "cell_type": "code",
   "execution_count": 8,
   "id": "d25837f3",
   "metadata": {},
   "outputs": [
    {
     "name": "stdout",
     "output_type": "stream",
     "text": [
      "<class 'pandas.core.frame.DataFrame'>\n",
      "RangeIndex: 5806 entries, 0 to 5805\n",
      "Data columns (total 15 columns):\n",
      " #   Column                Non-Null Count  Dtype  \n",
      "---  ------                --------------  -----  \n",
      " 0   id                    5806 non-null   object \n",
      " 1   title                 5805 non-null   object \n",
      " 2   type                  5806 non-null   object \n",
      " 3   description           5788 non-null   object \n",
      " 4   release_year          5806 non-null   int64  \n",
      " 5   age_certification     3196 non-null   object \n",
      " 6   runtime               5806 non-null   int64  \n",
      " 7   genres                5806 non-null   object \n",
      " 8   production_countries  5806 non-null   object \n",
      " 9   seasons               2047 non-null   float64\n",
      " 10  imdb_id               5362 non-null   object \n",
      " 11  imdb_score            5283 non-null   float64\n",
      " 12  imdb_votes            5267 non-null   float64\n",
      " 13  tmdb_popularity       5712 non-null   float64\n",
      " 14  tmdb_score            5488 non-null   float64\n",
      "dtypes: float64(5), int64(2), object(8)\n",
      "memory usage: 680.5+ KB\n"
     ]
    }
   ],
   "source": [
    "titles.info()"
   ]
  },
  {
   "cell_type": "markdown",
   "id": "17921a9a",
   "metadata": {},
   "source": [
    "#### Drop id, description and imdb_id columns because these are random data from ML standpoint"
   ]
  },
  {
   "cell_type": "code",
   "execution_count": 9,
   "id": "6c9f630d",
   "metadata": {},
   "outputs": [],
   "source": [
    "titles.drop(['id', 'description', 'imdb_id'], axis=1, inplace=True)"
   ]
  },
  {
   "cell_type": "code",
   "execution_count": 10,
   "id": "4c95542a",
   "metadata": {},
   "outputs": [
    {
     "data": {
      "text/plain": [
       "Index(['title', 'type', 'release_year', 'age_certification', 'runtime',\n",
       "       'genres', 'production_countries', 'seasons', 'imdb_score', 'imdb_votes',\n",
       "       'tmdb_popularity', 'tmdb_score'],\n",
       "      dtype='object')"
      ]
     },
     "execution_count": 10,
     "metadata": {},
     "output_type": "execute_result"
    }
   ],
   "source": [
    "titles.columns"
   ]
  },
  {
   "cell_type": "markdown",
   "id": "6f214986",
   "metadata": {},
   "source": [
    "#### Convert title column to title_len column"
   ]
  },
  {
   "cell_type": "code",
   "execution_count": 11,
   "id": "f8434a2b",
   "metadata": {},
   "outputs": [],
   "source": [
    "titles['title_len'] = titles['title'].str.len()"
   ]
  },
  {
   "cell_type": "code",
   "execution_count": 12,
   "id": "28c5790e",
   "metadata": {},
   "outputs": [],
   "source": [
    "titles.dropna(subset=['title'], inplace=True)"
   ]
  },
  {
   "cell_type": "code",
   "execution_count": 13,
   "id": "187d7611",
   "metadata": {},
   "outputs": [],
   "source": [
    "titles.drop('title', axis=1, inplace=True)"
   ]
  },
  {
   "cell_type": "markdown",
   "id": "0b6afcc4",
   "metadata": {},
   "source": [
    "#### Collect distinct genres and countries sets"
   ]
  },
  {
   "cell_type": "code",
   "execution_count": 14,
   "id": "3563f474",
   "metadata": {},
   "outputs": [],
   "source": [
    "from ast import literal_eval\n",
    "\n",
    "titles['genres'] = titles['genres'].apply(literal_eval)\n",
    "titles['production_countries'] = titles['production_countries'].apply(literal_eval)"
   ]
  },
  {
   "cell_type": "code",
   "execution_count": 15,
   "id": "18f93ecc",
   "metadata": {},
   "outputs": [],
   "source": [
    "all_genres = []\n",
    "\n",
    "for title_genres in titles['genres']:\n",
    "    for genre in title_genres:\n",
    "        if not genre in all_genres:\n",
    "            all_genres.append(genre)"
   ]
  },
  {
   "cell_type": "code",
   "execution_count": 16,
   "id": "1862c20b",
   "metadata": {},
   "outputs": [],
   "source": [
    "all_countries = []\n",
    "\n",
    "for prod_countries in titles['production_countries']:\n",
    "    for country in prod_countries:\n",
    "        if not country in all_countries:\n",
    "            all_countries.append(country)"
   ]
  },
  {
   "cell_type": "markdown",
   "id": "58366d72",
   "metadata": {},
   "source": [
    "#### Create column for each genre and encode genres for each title"
   ]
  },
  {
   "cell_type": "code",
   "execution_count": 17,
   "id": "b7f757ee",
   "metadata": {},
   "outputs": [],
   "source": [
    "for genre in all_genres:\n",
    "    titles.insert(len(titles.columns), 'genre_' + genre, np.zeros(len(titles)))"
   ]
  },
  {
   "cell_type": "code",
   "execution_count": 18,
   "id": "df7fc498",
   "metadata": {},
   "outputs": [],
   "source": [
    "for i, row in titles.iterrows():\n",
    "    for genre in row['genres']:\n",
    "        titles.loc[i, 'genre_' + genre] = 1"
   ]
  },
  {
   "cell_type": "code",
   "execution_count": 19,
   "id": "d73dccd1",
   "metadata": {},
   "outputs": [],
   "source": [
    "titles.dropna(subset=['genres'], inplace=True)"
   ]
  },
  {
   "cell_type": "code",
   "execution_count": 20,
   "id": "4a6d76d1",
   "metadata": {},
   "outputs": [],
   "source": [
    "titles.drop('genres', axis=1, inplace=True)"
   ]
  },
  {
   "cell_type": "markdown",
   "id": "8ba42766",
   "metadata": {},
   "source": [
    "#### Choose one production country for every title and encode it as number"
   ]
  },
  {
   "cell_type": "code",
   "execution_count": 21,
   "id": "508db532",
   "metadata": {},
   "outputs": [],
   "source": [
    "import random\n",
    "\n",
    "def pick_one_country(prod_countries):\n",
    "    if len(prod_countries) == 0:\n",
    "        return None\n",
    "    else:\n",
    "        return random.choice(prod_countries)"
   ]
  },
  {
   "cell_type": "code",
   "execution_count": 22,
   "id": "ce881858",
   "metadata": {},
   "outputs": [],
   "source": [
    "titles.insert(len(titles.columns), 'prod_country', np.zeros(len(titles)))\n",
    "\n",
    "for i, title in titles.iterrows():\n",
    "    prod_countries = title['production_countries']\n",
    "    chosen_country = pick_one_country(prod_countries)\n",
    "    country_id = all_countries.index(chosen_country) if chosen_country in all_countries else None\n",
    "    titles.at[i, 'prod_country'] = country_id"
   ]
  },
  {
   "cell_type": "code",
   "execution_count": 23,
   "id": "06fe34d7",
   "metadata": {},
   "outputs": [],
   "source": [
    "titles.dropna(subset=['prod_country'], inplace=True)"
   ]
  },
  {
   "cell_type": "code",
   "execution_count": 24,
   "id": "49761418",
   "metadata": {},
   "outputs": [],
   "source": [
    "titles.drop('production_countries', axis=1, inplace=True)"
   ]
  },
  {
   "cell_type": "markdown",
   "id": "d53bec29",
   "metadata": {},
   "source": [
    "#### Fill seasons value for movies"
   ]
  },
  {
   "cell_type": "code",
   "execution_count": 25,
   "id": "49528044",
   "metadata": {},
   "outputs": [],
   "source": [
    "titles.loc[titles['type'] == 'MOVIE', 'seasons'] = 0"
   ]
  },
  {
   "cell_type": "code",
   "execution_count": 26,
   "id": "4994f629",
   "metadata": {},
   "outputs": [],
   "source": [
    "titles.dropna(subset=['seasons'], inplace=True)"
   ]
  },
  {
   "cell_type": "markdown",
   "id": "4c5de383",
   "metadata": {},
   "source": [
    "#### Encode type as 0 if its value is MOVIE and as 1 otherwise"
   ]
  },
  {
   "cell_type": "code",
   "execution_count": 27,
   "id": "762d58b2",
   "metadata": {},
   "outputs": [],
   "source": [
    "titles.loc[titles['type'] == 'MOVIE', 'type'] = 0"
   ]
  },
  {
   "cell_type": "code",
   "execution_count": 28,
   "id": "692843d9",
   "metadata": {},
   "outputs": [],
   "source": [
    "titles.loc[titles['type'] == 'SHOW', 'type'] = 1"
   ]
  },
  {
   "cell_type": "code",
   "execution_count": 29,
   "id": "8c21f446",
   "metadata": {},
   "outputs": [],
   "source": [
    "titles.dropna(subset=['type'], inplace=True)"
   ]
  },
  {
   "cell_type": "markdown",
   "id": "f32f9b59",
   "metadata": {},
   "source": [
    "#### Get mean of scores from tmdb and imdb"
   ]
  },
  {
   "cell_type": "code",
   "execution_count": 30,
   "id": "a88061be",
   "metadata": {},
   "outputs": [],
   "source": [
    "def get_score_for_title(title):\n",
    "    imdb_score = title['imdb_score']\n",
    "    tmdb_score = title['tmdb_score']\n",
    "    \n",
    "    if imdb_score is None and tmdb_score is None:\n",
    "        return None\n",
    "    \n",
    "    if imdb_score is None or tmdb_score is None:\n",
    "        return imdb_score if imdb_score is not None else tmdb_score\n",
    "    \n",
    "    return (imdb_score + tmdb_score) / 2"
   ]
  },
  {
   "cell_type": "code",
   "execution_count": 31,
   "id": "f3691400",
   "metadata": {},
   "outputs": [],
   "source": [
    "titles['score'] = get_score_for_title(titles)"
   ]
  },
  {
   "cell_type": "code",
   "execution_count": 32,
   "id": "77661d5d",
   "metadata": {},
   "outputs": [],
   "source": [
    "titles.dropna(subset=['score'], inplace=True)"
   ]
  },
  {
   "cell_type": "code",
   "execution_count": 33,
   "id": "a7a060a6",
   "metadata": {},
   "outputs": [],
   "source": [
    "titles.drop('imdb_score', axis=1, inplace=True)\n",
    "titles.drop('tmdb_score', axis=1, inplace=True)"
   ]
  },
  {
   "cell_type": "markdown",
   "id": "620ed6ad",
   "metadata": {},
   "source": [
    "#### Encode age_certification as a number"
   ]
  },
  {
   "cell_type": "code",
   "execution_count": 34,
   "id": "5be84234",
   "metadata": {},
   "outputs": [
    {
     "data": {
      "text/plain": [
       "Index(['TV-MA', 'R', 'PG-13', 'TV-14', 'PG', 'TV-PG', 'TV-Y7', 'G', 'TV-Y',\n",
       "       'TV-G', 'NC-17'],\n",
       "      dtype='object')"
      ]
     },
     "execution_count": 34,
     "metadata": {},
     "output_type": "execute_result"
    }
   ],
   "source": [
    "titles['age_certification'].value_counts().index"
   ]
  },
  {
   "cell_type": "code",
   "execution_count": 35,
   "id": "2607cb68",
   "metadata": {},
   "outputs": [],
   "source": [
    "age_category_mapping = {}\n",
    "\n",
    "# children\n",
    "for c in ['PG', 'G', 'TV-Y7', 'TV-Y', 'TV-G']:\n",
    "    age_category_mapping[c] = 0\n",
    "\n",
    "# teenagers\n",
    "for c in ['R', 'TV-14', 'PG-13', 'TV-PG']:\n",
    "    age_category_mapping[c] = 1\n",
    "\n",
    "# adults\n",
    "for c in ['TV-MA', 'NC-17']:\n",
    "    age_category_mapping[c] = 2"
   ]
  },
  {
   "cell_type": "code",
   "execution_count": 36,
   "id": "605c7b73",
   "metadata": {},
   "outputs": [],
   "source": [
    "titles['age_certification'] = titles['age_certification'].map(age_category_mapping)"
   ]
  },
  {
   "cell_type": "markdown",
   "id": "49892773",
   "metadata": {},
   "source": [
    "#### Summarizing cleaning done as far"
   ]
  },
  {
   "cell_type": "code",
   "execution_count": 37,
   "id": "7e2612ac",
   "metadata": {},
   "outputs": [
    {
     "name": "stdout",
     "output_type": "stream",
     "text": [
      "<class 'pandas.core.frame.DataFrame'>\n",
      "Int64Index: 4957 entries, 1 to 5798\n",
      "Data columns (total 29 columns):\n",
      " #   Column               Non-Null Count  Dtype  \n",
      "---  ------               --------------  -----  \n",
      " 0   type                 4957 non-null   object \n",
      " 1   release_year         4957 non-null   int64  \n",
      " 2   age_certification    2877 non-null   float64\n",
      " 3   runtime              4957 non-null   int64  \n",
      " 4   seasons              4957 non-null   float64\n",
      " 5   imdb_votes           4943 non-null   float64\n",
      " 6   tmdb_popularity      4957 non-null   float64\n",
      " 7   title_len            4957 non-null   float64\n",
      " 8   genre_documentation  4957 non-null   float64\n",
      " 9   genre_crime          4957 non-null   float64\n",
      " 10  genre_drama          4957 non-null   float64\n",
      " 11  genre_comedy         4957 non-null   float64\n",
      " 12  genre_fantasy        4957 non-null   float64\n",
      " 13  genre_horror         4957 non-null   float64\n",
      " 14  genre_european       4957 non-null   float64\n",
      " 15  genre_thriller       4957 non-null   float64\n",
      " 16  genre_action         4957 non-null   float64\n",
      " 17  genre_music          4957 non-null   float64\n",
      " 18  genre_romance        4957 non-null   float64\n",
      " 19  genre_family         4957 non-null   float64\n",
      " 20  genre_western        4957 non-null   float64\n",
      " 21  genre_war            4957 non-null   float64\n",
      " 22  genre_animation      4957 non-null   float64\n",
      " 23  genre_history        4957 non-null   float64\n",
      " 24  genre_scifi          4957 non-null   float64\n",
      " 25  genre_reality        4957 non-null   float64\n",
      " 26  genre_sport          4957 non-null   float64\n",
      " 27  prod_country         4957 non-null   float64\n",
      " 28  score                4957 non-null   float64\n",
      "dtypes: float64(26), int64(2), object(1)\n",
      "memory usage: 1.1+ MB\n"
     ]
    }
   ],
   "source": [
    "titles.info()"
   ]
  },
  {
   "cell_type": "code",
   "execution_count": 38,
   "id": "2b4ffc9d",
   "metadata": {},
   "outputs": [],
   "source": [
    "# Some missing imdb_votes left\n",
    "titles.dropna(subset=['imdb_votes'], inplace=True)"
   ]
  },
  {
   "cell_type": "markdown",
   "id": "281020d5",
   "metadata": {},
   "source": [
    "#### Filling missing values in age_certification using simple SVM model"
   ]
  },
  {
   "cell_type": "code",
   "execution_count": 39,
   "id": "218b78eb",
   "metadata": {},
   "outputs": [],
   "source": [
    "from sklearn.model_selection import train_test_split, StratifiedKFold, GridSearchCV\n",
    "from sklearn.linear_model import LogisticRegression\n",
    "from sklearn.svm import SVC\n",
    "from sklearn.preprocessing import StandardScaler, MinMaxScaler"
   ]
  },
  {
   "cell_type": "code",
   "execution_count": 40,
   "id": "b04da466",
   "metadata": {},
   "outputs": [],
   "source": [
    "def heatmap(values, xlabel, ylabel, xticklabels, yticklabels, cmap=None,\n",
    "            vmin=None, vmax=None, ax=None, fmt=\"%0.2f\"):\n",
    "    if ax is None:\n",
    "        ax = plt.gca()\n",
    "        \n",
    "    # plot the mean cross-validation scores\n",
    "    img = ax.pcolor(values, cmap=cmap, vmin=vmin, vmax=vmax)\n",
    "    img.update_scalarmappable()\n",
    "    ax.set_xlabel(xlabel)\n",
    "    ax.set_ylabel(ylabel)\n",
    "    ax.set_xticks(np.arange(len(xticklabels)) + .5)\n",
    "    ax.set_yticks(np.arange(len(yticklabels)) + .5)\n",
    "    ax.set_xticklabels(xticklabels)\n",
    "    ax.set_yticklabels(yticklabels)\n",
    "    ax.set_aspect(1)\n",
    "\n",
    "    for p, color, value in zip(img.get_paths(), img.get_facecolors(), img.get_array()):\n",
    "        x, y = p.vertices[:-2, :].mean(0)\n",
    "        if np.mean(color[:3]) > 0.5:\n",
    "            c = 'k'\n",
    "        else:\n",
    "            c = 'w'\n",
    "        ax.text(x, y, fmt % value, color=c, ha=\"center\", va=\"center\")\n",
    "    return img"
   ]
  },
  {
   "cell_type": "code",
   "execution_count": 41,
   "id": "d7a329e6",
   "metadata": {},
   "outputs": [],
   "source": [
    "X = titles.drop('age_certification', axis=1)[titles['age_certification'].notnull()]\n",
    "y = titles[titles['age_certification'].notnull()]['age_certification']\n",
    "\n",
    "X_train, X_test, y_train, y_test = train_test_split(X, y, test_size=0.30)"
   ]
  },
  {
   "cell_type": "code",
   "execution_count": 42,
   "id": "59ceef67",
   "metadata": {},
   "outputs": [],
   "source": [
    "scaler = StandardScaler()\n",
    "\n",
    "X_train = scaler.fit_transform(X_train)\n",
    "X_test = scaler.transform(X_test)"
   ]
  },
  {
   "cell_type": "code",
   "execution_count": 43,
   "id": "7b4b2693",
   "metadata": {},
   "outputs": [],
   "source": [
    "kfold = StratifiedKFold(n_splits=5)"
   ]
  },
  {
   "cell_type": "code",
   "execution_count": 44,
   "id": "24848598",
   "metadata": {},
   "outputs": [],
   "source": [
    "param_grid = {\n",
    "    'C': [10, 100, 1000, 10000, 100000],\n",
    "    'gamma': [0.00001, 0.0001, 0.001, 0.01],\n",
    "}"
   ]
  },
  {
   "cell_type": "code",
   "execution_count": 45,
   "id": "1e91598f",
   "metadata": {},
   "outputs": [],
   "source": [
    "grid = GridSearchCV(SVC(), param_grid, cv=kfold, n_jobs=n_jobs)"
   ]
  },
  {
   "cell_type": "code",
   "execution_count": 46,
   "id": "42ca5557",
   "metadata": {},
   "outputs": [
    {
     "data": {
      "text/plain": [
       "GridSearchCV(cv=StratifiedKFold(n_splits=5, random_state=None, shuffle=False),\n",
       "             estimator=SVC(), n_jobs=10,\n",
       "             param_grid={'C': [10, 100, 1000, 10000, 100000],\n",
       "                         'gamma': [1e-05, 0.0001, 0.001, 0.01]})"
      ]
     },
     "execution_count": 46,
     "metadata": {},
     "output_type": "execute_result"
    }
   ],
   "source": [
    "grid.fit(X_train, y_train)"
   ]
  },
  {
   "cell_type": "code",
   "execution_count": 47,
   "id": "6ba97057",
   "metadata": {},
   "outputs": [
    {
     "data": {
      "text/plain": [
       "<matplotlib.collections.PolyCollection at 0x1a36d879ee0>"
      ]
     },
     "execution_count": 47,
     "metadata": {},
     "output_type": "execute_result"
    },
    {
     "data": {
      "image/png": "[encoded data removed]",
      "text/plain": [
       "<Figure size 432x288 with 1 Axes>"
      ]
     },
     "metadata": {
      "needs_background": "light"
     },
     "output_type": "display_data"
    }
   ],
   "source": [
    "results = pd.DataFrame(grid.cv_results_)\n",
    "scores = np.array(results.mean_test_score).reshape(5, 4)\n",
    "heatmap(scores, xlabel='gamma', xticklabels=param_grid['gamma'], \n",
    "        ylabel='C', yticklabels=param_grid['C'], cmap=\"viridis\")"
   ]
  },
  {
   "cell_type": "code",
   "execution_count": 48,
   "id": "cd2c6061",
   "metadata": {},
   "outputs": [
    {
     "data": {
      "text/plain": [
       "{'C': 10, 'gamma': 0.01}"
      ]
     },
     "execution_count": 48,
     "metadata": {},
     "output_type": "execute_result"
    }
   ],
   "source": [
    "grid.best_params_"
   ]
  },
  {
   "cell_type": "code",
   "execution_count": 49,
   "id": "387a07f4",
   "metadata": {},
   "outputs": [],
   "source": [
    "age_cert_estimator = grid.best_estimator_"
   ]
  },
  {
   "cell_type": "code",
   "execution_count": 50,
   "id": "635e47ba",
   "metadata": {},
   "outputs": [],
   "source": [
    "from sklearn.metrics import accuracy_score"
   ]
  },
  {
   "cell_type": "code",
   "execution_count": 51,
   "id": "d0af6ec1",
   "metadata": {},
   "outputs": [
    {
     "data": {
      "text/plain": [
       "0.7549361207897793"
      ]
     },
     "execution_count": 51,
     "metadata": {},
     "output_type": "execute_result"
    }
   ],
   "source": [
    "accuracy_score(y_test, age_cert_estimator.predict(X_test))"
   ]
  },
  {
   "cell_type": "code",
   "execution_count": 52,
   "id": "cffb8404",
   "metadata": {},
   "outputs": [
    {
     "name": "stderr",
     "output_type": "stream",
     "text": [
      "C:\\conda\\lib\\site-packages\\sklearn\\base.py:443: UserWarning: X has feature names, but SVC was fitted without feature names\n",
      "  warnings.warn(\n"
     ]
    }
   ],
   "source": [
    "without_age_cert = titles[titles['age_certification'].isnull()].drop('age_certification', axis=1)\n",
    "predictions = age_cert_estimator.predict(without_age_cert)"
   ]
  },
  {
   "cell_type": "code",
   "execution_count": 53,
   "id": "6dc2b7e6",
   "metadata": {},
   "outputs": [],
   "source": [
    "titles.loc[titles['age_certification'].isnull(), 'age_certification'] = predictions"
   ]
  },
  {
   "cell_type": "code",
   "execution_count": 54,
   "id": "f88aaeb1",
   "metadata": {},
   "outputs": [],
   "source": [
    "# One last step: one hot encode age_certification"
   ]
  },
  {
   "cell_type": "code",
   "execution_count": 55,
   "id": "040b476f",
   "metadata": {},
   "outputs": [],
   "source": [
    "cert_to_age_cat = { 0: 'children', 1: 'teenagers', 2: 'adults' }"
   ]
  },
  {
   "cell_type": "code",
   "execution_count": 56,
   "id": "dc5a9b8f",
   "metadata": {},
   "outputs": [],
   "source": [
    "age_cert_dummies = pd.get_dummies(titles['age_certification'].map(cert_to_age_cat), \n",
    "                                  drop_first=True, prefix='cert')"
   ]
  },
  {
   "cell_type": "code",
   "execution_count": 57,
   "id": "1670127c",
   "metadata": {},
   "outputs": [],
   "source": [
    "titles = pd.concat((titles, age_cert_dummies), axis=1)"
   ]
  },
  {
   "cell_type": "code",
   "execution_count": 58,
   "id": "8719b617",
   "metadata": {},
   "outputs": [],
   "source": [
    "titles.drop('age_certification', axis=1, inplace=True)"
   ]
  },
  {
   "cell_type": "markdown",
   "id": "e982f618",
   "metadata": {},
   "source": [
    "#### Summarizing the cleanup"
   ]
  },
  {
   "cell_type": "code",
   "execution_count": 59,
   "id": "38b9349a",
   "metadata": {},
   "outputs": [
    {
     "data": {
      "text/plain": [
       "Index(['type', 'release_year', 'runtime', 'seasons', 'imdb_votes',\n",
       "       'tmdb_popularity', 'title_len', 'genre_documentation', 'genre_crime',\n",
       "       'genre_drama', 'genre_comedy', 'genre_fantasy', 'genre_horror',\n",
       "       'genre_european', 'genre_thriller', 'genre_action', 'genre_music',\n",
       "       'genre_romance', 'genre_family', 'genre_western', 'genre_war',\n",
       "       'genre_animation', 'genre_history', 'genre_scifi', 'genre_reality',\n",
       "       'genre_sport', 'prod_country', 'score', 'cert_children',\n",
       "       'cert_teenagers'],\n",
       "      dtype='object')"
      ]
     },
     "execution_count": 59,
     "metadata": {},
     "output_type": "execute_result"
    }
   ],
   "source": [
    "titles.columns"
   ]
  },
  {
   "cell_type": "code",
   "execution_count": 60,
   "id": "fc01c4c7",
   "metadata": {},
   "outputs": [],
   "source": [
    "columns_order = ['type', 'title_len', 'release_year', 'runtime', 'seasons', \n",
    "       'imdb_votes', 'tmdb_popularity', 'genre_documentation', 'genre_crime',\n",
    "       'genre_drama', 'genre_comedy', 'genre_fantasy', 'genre_horror',\n",
    "       'genre_european', 'genre_thriller', 'genre_action', 'genre_music',\n",
    "       'genre_romance', 'genre_family', 'genre_western', 'genre_war',\n",
    "       'genre_animation', 'genre_history', 'genre_scifi', 'genre_reality',\n",
    "       'genre_sport', 'prod_country', 'cert_children', 'cert_teenagers', 'score']\n",
    "\n",
    "titles = titles.reindex(columns=columns_order)"
   ]
  },
  {
   "cell_type": "code",
   "execution_count": 61,
   "id": "8f774783",
   "metadata": {},
   "outputs": [
    {
     "data": {
      "text/plain": [
       "<AxesSubplot:>"
      ]
     },
     "execution_count": 61,
     "metadata": {},
     "output_type": "execute_result"
    },
    {
     "data": {
      "image/png": "[encoded data removed]",
      "text/plain": [
       "<Figure size 864x432 with 1 Axes>"
      ]
     },
     "metadata": {
      "needs_background": "light"
     },
     "output_type": "display_data"
    }
   ],
   "source": [
    "plt.figure(figsize=(12, 6))\n",
    "sns.heatmap(titles.isnull(), yticklabels=False, cbar=False, cmap='plasma')"
   ]
  },
  {
   "cell_type": "code",
   "execution_count": 62,
   "id": "9b8480d7",
   "metadata": {},
   "outputs": [
    {
     "name": "stdout",
     "output_type": "stream",
     "text": [
      "<class 'pandas.core.frame.DataFrame'>\n",
      "Int64Index: 4943 entries, 1 to 5798\n",
      "Data columns (total 30 columns):\n",
      " #   Column               Non-Null Count  Dtype  \n",
      "---  ------               --------------  -----  \n",
      " 0   type                 4943 non-null   object \n",
      " 1   title_len            4943 non-null   float64\n",
      " 2   release_year         4943 non-null   int64  \n",
      " 3   runtime              4943 non-null   int64  \n",
      " 4   seasons              4943 non-null   float64\n",
      " 5   imdb_votes           4943 non-null   float64\n",
      " 6   tmdb_popularity      4943 non-null   float64\n",
      " 7   genre_documentation  4943 non-null   float64\n",
      " 8   genre_crime          4943 non-null   float64\n",
      " 9   genre_drama          4943 non-null   float64\n",
      " 10  genre_comedy         4943 non-null   float64\n",
      " 11  genre_fantasy        4943 non-null   float64\n",
      " 12  genre_horror         4943 non-null   float64\n",
      " 13  genre_european       4943 non-null   float64\n",
      " 14  genre_thriller       4943 non-null   float64\n",
      " 15  genre_action         4943 non-null   float64\n",
      " 16  genre_music          4943 non-null   float64\n",
      " 17  genre_romance        4943 non-null   float64\n",
      " 18  genre_family         4943 non-null   float64\n",
      " 19  genre_western        4943 non-null   float64\n",
      " 20  genre_war            4943 non-null   float64\n",
      " 21  genre_animation      4943 non-null   float64\n",
      " 22  genre_history        4943 non-null   float64\n",
      " 23  genre_scifi          4943 non-null   float64\n",
      " 24  genre_reality        4943 non-null   float64\n",
      " 25  genre_sport          4943 non-null   float64\n",
      " 26  prod_country         4943 non-null   float64\n",
      " 27  cert_children        4943 non-null   uint8  \n",
      " 28  cert_teenagers       4943 non-null   uint8  \n",
      " 29  score                4943 non-null   float64\n",
      "dtypes: float64(25), int64(2), object(1), uint8(2)\n",
      "memory usage: 1.1+ MB\n"
     ]
    }
   ],
   "source": [
    "titles.info()"
   ]
  },
  {
   "cell_type": "markdown",
   "id": "35ab34cb",
   "metadata": {},
   "source": [
    "## Creating ML models\n",
    "- Linear Regression\n",
    "- Ridge Regression\n",
    "- Lasso Regression\n",
    "- Elastic Net Regression\n",
    "- Random Forest Regressor\n",
    "- Neural Network"
   ]
  },
  {
   "cell_type": "code",
   "execution_count": 63,
   "id": "4da3e98f",
   "metadata": {},
   "outputs": [],
   "source": [
    "from sklearn.linear_model import LinearRegression, Ridge, Lasso, ElasticNet\n",
    "from sklearn.model_selection import GridSearchCV, RandomizedSearchCV\n",
    "from sklearn.ensemble import RandomForestRegressor\n",
    "from sklearn.preprocessing import PolynomialFeatures\n",
    "from sklearn.pipeline import Pipeline\n",
    "from sklearn.metrics import mean_absolute_error, mean_squared_error"
   ]
  },
  {
   "cell_type": "code",
   "execution_count": 64,
   "id": "2dde1494",
   "metadata": {},
   "outputs": [],
   "source": [
    "# Let's start with splitting and scaling the data\n",
    "model_results = pd.DataFrame(columns=['name', 'mae', 'mse', 'rmse'])"
   ]
  },
  {
   "cell_type": "code",
   "execution_count": 65,
   "id": "e1841d68",
   "metadata": {},
   "outputs": [],
   "source": [
    "def append_result(name, true_values, predictions):\n",
    "    row = pd.DataFrame([[\n",
    "        name,\n",
    "        mean_absolute_error(true_values, predictions),\n",
    "        mean_squared_error(true_values, predictions),\n",
    "        np.sqrt(mean_squared_error(true_values, predictions))\n",
    "    ]], columns='name mae mse rmse'.split())\n",
    "    global model_results\n",
    "    model_results = pd.concat([model_results, row])"
   ]
  },
  {
   "cell_type": "code",
   "execution_count": 66,
   "id": "46b06f2a",
   "metadata": {},
   "outputs": [],
   "source": [
    "X = titles.drop('score', axis=1)\n",
    "y = titles['score']"
   ]
  },
  {
   "cell_type": "code",
   "execution_count": 67,
   "id": "e3a4e287",
   "metadata": {},
   "outputs": [],
   "source": [
    "X_train, X_test, y_train, y_test = train_test_split(X, y, test_size=0.30)"
   ]
  },
  {
   "cell_type": "code",
   "execution_count": 68,
   "id": "0d7e142e",
   "metadata": {},
   "outputs": [],
   "source": [
    "scaler = MinMaxScaler()\n",
    "X_train = scaler.fit_transform(X_train)\n",
    "X_test = scaler.transform(X_test)"
   ]
  },
  {
   "cell_type": "code",
   "execution_count": 69,
   "id": "da1d0658",
   "metadata": {},
   "outputs": [
    {
     "data": {
      "text/plain": [
       "array([[0.        , 0.0776699 , 0.92753623, ..., 0.04716981, 0.        ,\n",
       "        1.        ],\n",
       "       [1.        , 0.08737864, 0.94202899, ..., 0.        , 0.        ,\n",
       "        0.        ],\n",
       "       [0.        , 0.14563107, 0.97101449, ..., 0.12264151, 0.        ,\n",
       "        1.        ],\n",
       "       ...,\n",
       "       [0.        , 0.06796117, 0.7826087 , ..., 0.00943396, 0.        ,\n",
       "        1.        ],\n",
       "       [1.        , 0.37864078, 0.92753623, ..., 0.        , 0.        ,\n",
       "        0.        ],\n",
       "       [0.        , 0.11650485, 0.97101449, ..., 0.        , 0.        ,\n",
       "        1.        ]])"
      ]
     },
     "execution_count": 69,
     "metadata": {},
     "output_type": "execute_result"
    }
   ],
   "source": [
    "X_train"
   ]
  },
  {
   "cell_type": "markdown",
   "id": "0252872d",
   "metadata": {},
   "source": [
    "### Linear Regression"
   ]
  },
  {
   "cell_type": "code",
   "execution_count": 70,
   "id": "42f65a8f",
   "metadata": {},
   "outputs": [],
   "source": [
    "pipe_1 = Pipeline([\n",
    "    ('polynomial', PolynomialFeatures(degree=2)), \n",
    "    ('scaler', StandardScaler()),\n",
    "    ('classifier', LinearRegression())\n",
    "])"
   ]
  },
  {
   "cell_type": "code",
   "execution_count": 71,
   "id": "7ce423a4",
   "metadata": {},
   "outputs": [],
   "source": [
    "param_grid_1 = {'polynomial__degree': [1, 2]}"
   ]
  },
  {
   "cell_type": "code",
   "execution_count": 72,
   "id": "aca2c657",
   "metadata": {},
   "outputs": [],
   "source": [
    "grid_1 = GridSearchCV(pipe_1, param_grid_1, verbose=10, n_jobs=n_jobs)"
   ]
  },
  {
   "cell_type": "code",
   "execution_count": 73,
   "id": "cb98a026",
   "metadata": {},
   "outputs": [
    {
     "name": "stdout",
     "output_type": "stream",
     "text": [
      "Fitting 5 folds for each of 2 candidates, totalling 10 fits\n"
     ]
    },
    {
     "data": {
      "text/plain": [
       "GridSearchCV(estimator=Pipeline(steps=[('polynomial', PolynomialFeatures()),\n",
       "                                       ('scaler', StandardScaler()),\n",
       "                                       ('classifier', LinearRegression())]),\n",
       "             n_jobs=10, param_grid={'polynomial__degree': [1, 2]}, verbose=10)"
      ]
     },
     "execution_count": 73,
     "metadata": {},
     "output_type": "execute_result"
    }
   ],
   "source": [
    "grid_1.fit(X_train, y_train)"
   ]
  },
  {
   "cell_type": "code",
   "execution_count": 74,
   "id": "6de295b2",
   "metadata": {},
   "outputs": [
    {
     "data": {
      "text/plain": [
       "{'polynomial__degree': 1}"
      ]
     },
     "execution_count": 74,
     "metadata": {},
     "output_type": "execute_result"
    }
   ],
   "source": [
    "grid_1.best_params_"
   ]
  },
  {
   "cell_type": "code",
   "execution_count": 75,
   "id": "cf4d5a3a",
   "metadata": {},
   "outputs": [],
   "source": [
    "append_result('Linear Regression', y_test, grid_1.predict(X_test))"
   ]
  },
  {
   "cell_type": "markdown",
   "id": "9fedc1d1",
   "metadata": {},
   "source": [
    "### Ridge Regression"
   ]
  },
  {
   "cell_type": "code",
   "execution_count": 76,
   "id": "59d1afa5",
   "metadata": {},
   "outputs": [],
   "source": [
    "pipe_2 = Pipeline([\n",
    "    ('polynomial', PolynomialFeatures(degree=2)), \n",
    "    ('scaler', StandardScaler()),\n",
    "    ('classifier', Ridge())\n",
    "])"
   ]
  },
  {
   "cell_type": "code",
   "execution_count": 77,
   "id": "05ccc598",
   "metadata": {},
   "outputs": [],
   "source": [
    "param_grid_2 = {\n",
    "    'polynomial__degree': [1, 2, 3], \n",
    "    'classifier__alpha': [0.0001, 0.001, 0.01, 0.1, 1, 10, 100]\n",
    "}"
   ]
  },
  {
   "cell_type": "code",
   "execution_count": 78,
   "id": "a0465055",
   "metadata": {},
   "outputs": [],
   "source": [
    "grid_2 = GridSearchCV(pipe_2, param_grid_2, verbose=10, n_jobs=n_jobs)"
   ]
  },
  {
   "cell_type": "code",
   "execution_count": 79,
   "id": "6e2ab8ab",
   "metadata": {},
   "outputs": [
    {
     "name": "stdout",
     "output_type": "stream",
     "text": [
      "Fitting 5 folds for each of 21 candidates, totalling 105 fits\n"
     ]
    },
    {
     "data": {
      "text/plain": [
       "GridSearchCV(estimator=Pipeline(steps=[('polynomial', PolynomialFeatures()),\n",
       "                                       ('scaler', StandardScaler()),\n",
       "                                       ('classifier', Ridge())]),\n",
       "             n_jobs=10,\n",
       "             param_grid={'classifier__alpha': [0.0001, 0.001, 0.01, 0.1, 1, 10,\n",
       "                                               100],\n",
       "                         'polynomial__degree': [1, 2, 3]},\n",
       "             verbose=10)"
      ]
     },
     "execution_count": 79,
     "metadata": {},
     "output_type": "execute_result"
    }
   ],
   "source": [
    "grid_2.fit(X_train, y_train)"
   ]
  },
  {
   "cell_type": "code",
   "execution_count": 80,
   "id": "c541e7ba",
   "metadata": {},
   "outputs": [
    {
     "data": {
      "text/plain": [
       "{'classifier__alpha': 100, 'polynomial__degree': 2}"
      ]
     },
     "execution_count": 80,
     "metadata": {},
     "output_type": "execute_result"
    }
   ],
   "source": [
    "grid_2.best_params_"
   ]
  },
  {
   "cell_type": "code",
   "execution_count": 81,
   "id": "7721fe70",
   "metadata": {},
   "outputs": [],
   "source": [
    "append_result('Ridge Regression', y_test, grid_2.predict(X_test))"
   ]
  },
  {
   "cell_type": "markdown",
   "id": "7eefa686",
   "metadata": {},
   "source": [
    "### Lasso Regression"
   ]
  },
  {
   "cell_type": "code",
   "execution_count": 82,
   "id": "cf2dc4df",
   "metadata": {},
   "outputs": [],
   "source": [
    "pipe_3 = Pipeline([\n",
    "    ('polynomial', PolynomialFeatures(degree=2)), \n",
    "    ('scaler', StandardScaler()),\n",
    "    ('classifier', Lasso())\n",
    "])"
   ]
  },
  {
   "cell_type": "code",
   "execution_count": 83,
   "id": "78b8c6ac",
   "metadata": {},
   "outputs": [],
   "source": [
    "param_grid_3 = {\n",
    "    'polynomial__degree': [1, 2, 3], \n",
    "    'classifier__alpha': [0.0001, 0.001, 0.01, 0.1, 1, 10, 100]\n",
    "}"
   ]
  },
  {
   "cell_type": "code",
   "execution_count": 84,
   "id": "00b93ea4",
   "metadata": {},
   "outputs": [],
   "source": [
    "grid_3 = GridSearchCV(pipe_3, param_grid_3, verbose=10, n_jobs=n_jobs, )"
   ]
  },
  {
   "cell_type": "code",
   "execution_count": 85,
   "id": "53db1d7e",
   "metadata": {},
   "outputs": [
    {
     "name": "stdout",
     "output_type": "stream",
     "text": [
      "Fitting 5 folds for each of 21 candidates, totalling 105 fits\n"
     ]
    },
    {
     "data": {
      "text/plain": [
       "GridSearchCV(estimator=Pipeline(steps=[('polynomial', PolynomialFeatures()),\n",
       "                                       ('scaler', StandardScaler()),\n",
       "                                       ('classifier', Lasso())]),\n",
       "             n_jobs=10,\n",
       "             param_grid={'classifier__alpha': [0.0001, 0.001, 0.01, 0.1, 1, 10,\n",
       "                                               100],\n",
       "                         'polynomial__degree': [1, 2, 3]},\n",
       "             verbose=10)"
      ]
     },
     "execution_count": 85,
     "metadata": {},
     "output_type": "execute_result"
    }
   ],
   "source": [
    "grid_3.fit(X_train, y_train)"
   ]
  },
  {
   "cell_type": "code",
   "execution_count": 86,
   "id": "9e8d513f",
   "metadata": {},
   "outputs": [
    {
     "data": {
      "text/plain": [
       "{'classifier__alpha': 0.01, 'polynomial__degree': 2}"
      ]
     },
     "execution_count": 86,
     "metadata": {},
     "output_type": "execute_result"
    }
   ],
   "source": [
    "grid_3.best_params_"
   ]
  },
  {
   "cell_type": "code",
   "execution_count": 87,
   "id": "d4f358d8",
   "metadata": {},
   "outputs": [],
   "source": [
    "append_result('Lasso Regression', y_test, grid_3.predict(X_test))"
   ]
  },
  {
   "cell_type": "markdown",
   "id": "25cecc4a",
   "metadata": {},
   "source": [
    "### Elastic Net"
   ]
  },
  {
   "cell_type": "code",
   "execution_count": 88,
   "id": "22d66547",
   "metadata": {},
   "outputs": [],
   "source": [
    "pipe_4 = Pipeline([\n",
    "    ('polynomial', PolynomialFeatures(degree=2)), \n",
    "    ('scaler', StandardScaler()),\n",
    "    ('classifier', ElasticNet())\n",
    "])"
   ]
  },
  {
   "cell_type": "code",
   "execution_count": 89,
   "id": "1f4fd2b4",
   "metadata": {},
   "outputs": [],
   "source": [
    "param_grid_4 = {\n",
    "    'polynomial__degree': [1, 2, 3], \n",
    "    'classifier__alpha': [0.001, 0.01, 0.1, 1],\n",
    "    'classifier__l1_ratio': [0.01, 0.05, 0.1, 0.2]\n",
    "}"
   ]
  },
  {
   "cell_type": "code",
   "execution_count": 90,
   "id": "61370c5e",
   "metadata": {},
   "outputs": [],
   "source": [
    "grid_4 = GridSearchCV(pipe_4, param_grid_4, verbose=10, n_jobs=n_jobs)"
   ]
  },
  {
   "cell_type": "code",
   "execution_count": 91,
   "id": "b3e47212",
   "metadata": {},
   "outputs": [
    {
     "name": "stdout",
     "output_type": "stream",
     "text": [
      "Fitting 5 folds for each of 48 candidates, totalling 240 fits\n"
     ]
    },
    {
     "data": {
      "text/plain": [
       "GridSearchCV(estimator=Pipeline(steps=[('polynomial', PolynomialFeatures()),\n",
       "                                       ('scaler', StandardScaler()),\n",
       "                                       ('classifier', ElasticNet())]),\n",
       "             n_jobs=10,\n",
       "             param_grid={'classifier__alpha': [0.001, 0.01, 0.1, 1],\n",
       "                         'classifier__l1_ratio': [0.01, 0.05, 0.1, 0.2],\n",
       "                         'polynomial__degree': [1, 2, 3]},\n",
       "             verbose=10)"
      ]
     },
     "execution_count": 91,
     "metadata": {},
     "output_type": "execute_result"
    }
   ],
   "source": [
    "grid_4.fit(X_train, y_train)"
   ]
  },
  {
   "cell_type": "code",
   "execution_count": 92,
   "id": "fa303e82",
   "metadata": {},
   "outputs": [
    {
     "data": {
      "text/plain": [
       "{'classifier__alpha': 0.1,\n",
       " 'classifier__l1_ratio': 0.05,\n",
       " 'polynomial__degree': 2}"
      ]
     },
     "execution_count": 92,
     "metadata": {},
     "output_type": "execute_result"
    }
   ],
   "source": [
    "grid_4.best_params_"
   ]
  },
  {
   "cell_type": "code",
   "execution_count": 93,
   "id": "2d3cca18",
   "metadata": {},
   "outputs": [],
   "source": [
    "append_result('Elastic Net Regression', y_test, grid_4.predict(X_test))"
   ]
  },
  {
   "cell_type": "code",
   "execution_count": 94,
   "id": "3f8a679f",
   "metadata": {},
   "outputs": [
    {
     "data": {
      "text/html": [
       "<div>\n",
       "<style scoped>\n",
       "    .dataframe tbody tr th:only-of-type {\n",
       "        vertical-align: middle;\n",
       "    }\n",
       "\n",
       "    .dataframe tbody tr th {\n",
       "        vertical-align: top;\n",
       "    }\n",
       "\n",
       "    .dataframe thead th {\n",
       "        text-align: right;\n",
       "    }\n",
       "</style>\n",
       "<table border=\"1\" class=\"dataframe\">\n",
       "  <thead>\n",
       "    <tr style=\"text-align: right;\">\n",
       "      <th></th>\n",
       "      <th>name</th>\n",
       "      <th>mae</th>\n",
       "      <th>mse</th>\n",
       "      <th>rmse</th>\n",
       "    </tr>\n",
       "  </thead>\n",
       "  <tbody>\n",
       "    <tr>\n",
       "      <th>0</th>\n",
       "      <td>Linear Regression</td>\n",
       "      <td>0.629752</td>\n",
       "      <td>0.682939</td>\n",
       "      <td>0.826401</td>\n",
       "    </tr>\n",
       "    <tr>\n",
       "      <th>0</th>\n",
       "      <td>Ridge Regression</td>\n",
       "      <td>0.619739</td>\n",
       "      <td>0.666463</td>\n",
       "      <td>0.816372</td>\n",
       "    </tr>\n",
       "    <tr>\n",
       "      <th>0</th>\n",
       "      <td>Lasso Regression</td>\n",
       "      <td>0.606533</td>\n",
       "      <td>0.64384</td>\n",
       "      <td>0.802396</td>\n",
       "    </tr>\n",
       "    <tr>\n",
       "      <th>0</th>\n",
       "      <td>Elastic Net Regression</td>\n",
       "      <td>0.610074</td>\n",
       "      <td>0.649895</td>\n",
       "      <td>0.80616</td>\n",
       "    </tr>\n",
       "  </tbody>\n",
       "</table>\n",
       "</div>"
      ],
      "text/plain": [
       "                     name       mae       mse      rmse\n",
       "0       Linear Regression  0.629752  0.682939  0.826401\n",
       "0        Ridge Regression  0.619739  0.666463  0.816372\n",
       "0        Lasso Regression  0.606533   0.64384  0.802396\n",
       "0  Elastic Net Regression  0.610074  0.649895   0.80616"
      ]
     },
     "execution_count": 94,
     "metadata": {},
     "output_type": "execute_result"
    }
   ],
   "source": [
    "model_results"
   ]
  },
  {
   "cell_type": "markdown",
   "id": "926fc596",
   "metadata": {},
   "source": [
    "### RandomForestRegressor"
   ]
  },
  {
   "cell_type": "code",
   "execution_count": 95,
   "id": "dd70e08c",
   "metadata": {},
   "outputs": [],
   "source": [
    "pipe_5 = Pipeline([\n",
    "    ('classifier', RandomForestRegressor())\n",
    "])"
   ]
  },
  {
   "cell_type": "code",
   "execution_count": 96,
   "id": "3cc6941b",
   "metadata": {},
   "outputs": [],
   "source": [
    "from random import randint\n",
    "\n",
    "param_grid_5 = {\n",
    "    'classifier__max_features': ['sqrt', 'log2'],\n",
    "    'classifier__n_estimators': [500, 1000, 1500],\n",
    "    'classifier__max_depth': [30, 50, 100]\n",
    "}"
   ]
  },
  {
   "cell_type": "code",
   "execution_count": 97,
   "id": "e4f00713",
   "metadata": {},
   "outputs": [],
   "source": [
    "grid_5 = GridSearchCV(pipe_5, param_grid_5, verbose=10, n_jobs=n_jobs)"
   ]
  },
  {
   "cell_type": "code",
   "execution_count": 98,
   "id": "bdafcf06",
   "metadata": {},
   "outputs": [
    {
     "name": "stdout",
     "output_type": "stream",
     "text": [
      "Fitting 5 folds for each of 18 candidates, totalling 90 fits\n"
     ]
    },
    {
     "data": {
      "text/plain": [
       "GridSearchCV(estimator=Pipeline(steps=[('classifier',\n",
       "                                        RandomForestRegressor())]),\n",
       "             n_jobs=10,\n",
       "             param_grid={'classifier__max_depth': [30, 50, 100],\n",
       "                         'classifier__max_features': ['sqrt', 'log2'],\n",
       "                         'classifier__n_estimators': [500, 1000, 1500]},\n",
       "             verbose=10)"
      ]
     },
     "execution_count": 98,
     "metadata": {},
     "output_type": "execute_result"
    }
   ],
   "source": [
    "grid_5.fit(X_train, y_train)"
   ]
  },
  {
   "cell_type": "code",
   "execution_count": 99,
   "id": "579291ef",
   "metadata": {},
   "outputs": [
    {
     "data": {
      "text/plain": [
       "{'classifier__max_depth': 100,\n",
       " 'classifier__max_features': 'sqrt',\n",
       " 'classifier__n_estimators': 1000}"
      ]
     },
     "execution_count": 99,
     "metadata": {},
     "output_type": "execute_result"
    }
   ],
   "source": [
    "grid_5.best_params_"
   ]
  },
  {
   "cell_type": "code",
   "execution_count": 100,
   "id": "167ee36f",
   "metadata": {},
   "outputs": [],
   "source": [
    "append_result('Random Forest Regressor', y_test, grid_5.predict(X_test))"
   ]
  },
  {
   "cell_type": "markdown",
   "id": "ae948c7e",
   "metadata": {},
   "source": [
    "### Comparing models trained so far"
   ]
  },
  {
   "cell_type": "code",
   "execution_count": 101,
   "id": "2245ec0d",
   "metadata": {},
   "outputs": [
    {
     "data": {
      "text/html": [
       "<div>\n",
       "<style scoped>\n",
       "    .dataframe tbody tr th:only-of-type {\n",
       "        vertical-align: middle;\n",
       "    }\n",
       "\n",
       "    .dataframe tbody tr th {\n",
       "        vertical-align: top;\n",
       "    }\n",
       "\n",
       "    .dataframe thead th {\n",
       "        text-align: right;\n",
       "    }\n",
       "</style>\n",
       "<table border=\"1\" class=\"dataframe\">\n",
       "  <thead>\n",
       "    <tr style=\"text-align: right;\">\n",
       "      <th></th>\n",
       "      <th>name</th>\n",
       "      <th>mae</th>\n",
       "      <th>mse</th>\n",
       "      <th>rmse</th>\n",
       "    </tr>\n",
       "  </thead>\n",
       "  <tbody>\n",
       "    <tr>\n",
       "      <th>0</th>\n",
       "      <td>Linear Regression</td>\n",
       "      <td>0.629752</td>\n",
       "      <td>0.682939</td>\n",
       "      <td>0.826401</td>\n",
       "    </tr>\n",
       "    <tr>\n",
       "      <th>0</th>\n",
       "      <td>Ridge Regression</td>\n",
       "      <td>0.619739</td>\n",
       "      <td>0.666463</td>\n",
       "      <td>0.816372</td>\n",
       "    </tr>\n",
       "    <tr>\n",
       "      <th>0</th>\n",
       "      <td>Lasso Regression</td>\n",
       "      <td>0.606533</td>\n",
       "      <td>0.64384</td>\n",
       "      <td>0.802396</td>\n",
       "    </tr>\n",
       "    <tr>\n",
       "      <th>0</th>\n",
       "      <td>Elastic Net Regression</td>\n",
       "      <td>0.610074</td>\n",
       "      <td>0.649895</td>\n",
       "      <td>0.80616</td>\n",
       "    </tr>\n",
       "    <tr>\n",
       "      <th>0</th>\n",
       "      <td>Random Forest Regressor</td>\n",
       "      <td>0.555338</td>\n",
       "      <td>0.550929</td>\n",
       "      <td>0.742246</td>\n",
       "    </tr>\n",
       "  </tbody>\n",
       "</table>\n",
       "</div>"
      ],
      "text/plain": [
       "                      name       mae       mse      rmse\n",
       "0        Linear Regression  0.629752  0.682939  0.826401\n",
       "0         Ridge Regression  0.619739  0.666463  0.816372\n",
       "0         Lasso Regression  0.606533   0.64384  0.802396\n",
       "0   Elastic Net Regression  0.610074  0.649895   0.80616\n",
       "0  Random Forest Regressor  0.555338  0.550929  0.742246"
      ]
     },
     "execution_count": 101,
     "metadata": {},
     "output_type": "execute_result"
    }
   ],
   "source": [
    "model_results"
   ]
  },
  {
   "cell_type": "code",
   "execution_count": 102,
   "id": "85b2a77c",
   "metadata": {},
   "outputs": [
    {
     "data": {
      "text/plain": [
       "<AxesSubplot:title={'center':'Models rmse comparison'}, xlabel='rmse', ylabel='name'>"
      ]
     },
     "execution_count": 102,
     "metadata": {},
     "output_type": "execute_result"
    },
    {
     "data": {
      "image/png": "[encoded data removed]",
      "text/plain": [
       "<Figure size 576x432 with 1 Axes>"
      ]
     },
     "metadata": {
      "needs_background": "light"
     },
     "output_type": "display_data"
    }
   ],
   "source": [
    "plt.figure(figsize=(8, 6))\n",
    "plt.title('Models rmse comparison')\n",
    "sns.barplot(data=model_results, x='rmse', y='name')"
   ]
  },
  {
   "cell_type": "markdown",
   "id": "bd09a554",
   "metadata": {},
   "source": [
    "**Clearly Random Forest Regressor provides better estimations than others because it has lowest rmse value**"
   ]
  },
  {
   "cell_type": "markdown",
   "id": "944f868d",
   "metadata": {},
   "source": [
    "### Neural Network"
   ]
  },
  {
   "cell_type": "code",
   "execution_count": 103,
   "id": "db489865",
   "metadata": {},
   "outputs": [],
   "source": [
    "import tensorflow as tf\n",
    "from scipy.stats import uniform, randint\n",
    "from tensorflow import keras\n",
    "from keras.layers import Dense, Dropout\n",
    "from keras.callbacks import History, EarlyStopping\n",
    "from keras.wrappers.scikit_learn import KerasRegressor\n",
    "from keras.models import Sequential\n",
    "from keras.optimizers import RMSprop, SGD"
   ]
  },
  {
   "cell_type": "code",
   "execution_count": 104,
   "id": "067ee46a",
   "metadata": {},
   "outputs": [],
   "source": [
    "def create_model(batch_size, epochs, learn_rate, \n",
    "                 momentum, activation, dropout_rate, neurons):\n",
    "    model = Sequential()\n",
    "    \n",
    "    for neurons_nb in neurons:\n",
    "        model.add(Dense(neurons_nb, activation=activation))\n",
    "        model.add(Dropout(dropout_rate))\n",
    "    model.add(Dense(1))\n",
    "    \n",
    "    optimizer = RMSprop(learning_rate=learn_rate, momentum=momentum)\n",
    "    \n",
    "    model.compile(optimizer=optimizer,\n",
    "             loss='mean_squared_error',\n",
    "             metrics=['mean_squared_error'])\n",
    "    \n",
    "    return model"
   ]
  },
  {
   "cell_type": "code",
   "execution_count": 105,
   "id": "fc73ee14",
   "metadata": {},
   "outputs": [],
   "source": [
    "nn_param_grid = {\n",
    "    'batch_size': [10, 20, 30],\n",
    "    'epochs': [100],\n",
    "    'learn_rate': [0.0001, 0.0005, 0.001],\n",
    "    'momentum': [0.2],\n",
    "    'activation': ['relu'],\n",
    "    'dropout_rate': [0.2],\n",
    "    'neurons': [[500, 200, 100, 50]],\n",
    "}"
   ]
  },
  {
   "cell_type": "code",
   "execution_count": 106,
   "id": "e51f263c",
   "metadata": {},
   "outputs": [
    {
     "name": "stderr",
     "output_type": "stream",
     "text": [
      "C:\\Users\\Kamil\\AppData\\Local\\Temp\\ipykernel_18420\\1367771281.py:1: DeprecationWarning: KerasRegressor is deprecated, use Sci-Keras (https://github.com/adriangb/scikeras) instead. See https://www.adriangb.com/scikeras/stable/migration.html for help migrating.\n",
      "  nn_model = KerasRegressor(build_fn=create_model)\n"
     ]
    }
   ],
   "source": [
    "nn_model = KerasRegressor(build_fn=create_model)"
   ]
  },
  {
   "cell_type": "code",
   "execution_count": 107,
   "id": "10aa9861",
   "metadata": {},
   "outputs": [],
   "source": [
    "search = GridSearchCV(estimator=nn_model, param_grid=nn_param_grid, \n",
    "                      n_jobs=n_jobs, cv=5, verbose=10, return_train_score=True)"
   ]
  },
  {
   "cell_type": "code",
   "execution_count": 108,
   "id": "cbf61f79",
   "metadata": {},
   "outputs": [
    {
     "name": "stdout",
     "output_type": "stream",
     "text": [
      "Fitting 5 folds for each of 9 candidates, totalling 45 fits\n",
      "Epoch 1/100\n",
      "173/173 [==============================] - 1s 3ms/step - loss: 13.4121 - mean_squared_error: 13.4121\n",
      "Epoch 2/100\n",
      "173/173 [==============================] - 0s 3ms/step - loss: 2.5808 - mean_squared_error: 2.5808\n",
      "Epoch 3/100\n",
      "173/173 [==============================] - 0s 3ms/step - loss: 2.1886 - mean_squared_error: 2.1886\n",
      "Epoch 4/100\n",
      "173/173 [==============================] - 0s 3ms/step - loss: 2.0318 - mean_squared_error: 2.0318\n",
      "Epoch 5/100\n",
      "173/173 [==============================] - 0s 3ms/step - loss: 1.8159 - mean_squared_error: 1.8159\n",
      "Epoch 6/100\n",
      "173/173 [==============================] - 0s 3ms/step - loss: 1.7501 - mean_squared_error: 1.7501\n",
      "Epoch 7/100\n",
      "173/173 [==============================] - 0s 3ms/step - loss: 1.7527 - mean_squared_error: 1.7527\n",
      "Epoch 8/100\n",
      "173/173 [==============================] - 0s 3ms/step - loss: 1.6626 - mean_squared_error: 1.6626\n",
      "Epoch 9/100\n",
      "173/173 [==============================] - 1s 3ms/step - loss: 1.6970 - mean_squared_error: 1.6970\n",
      "Epoch 10/100\n",
      "173/173 [==============================] - 1s 3ms/step - loss: 1.6086 - mean_squared_error: 1.6086\n",
      "Epoch 11/100\n",
      "173/173 [==============================] - 1s 3ms/step - loss: 1.6195 - mean_squared_error: 1.6195\n",
      "Epoch 12/100\n",
      "173/173 [==============================] - 1s 3ms/step - loss: 1.5623 - mean_squared_error: 1.5623\n",
      "Epoch 13/100\n",
      "173/173 [==============================] - 1s 3ms/step - loss: 1.5591 - mean_squared_error: 1.5591\n",
      "Epoch 14/100\n",
      "173/173 [==============================] - 1s 3ms/step - loss: 1.5131 - mean_squared_error: 1.5131\n",
      "Epoch 15/100\n",
      "173/173 [==============================] - 1s 3ms/step - loss: 1.5021 - mean_squared_error: 1.5021\n",
      "Epoch 16/100\n",
      "173/173 [==============================] - 1s 3ms/step - loss: 1.5191 - mean_squared_error: 1.5191\n",
      "Epoch 17/100\n",
      "173/173 [==============================] - 1s 3ms/step - loss: 1.4651 - mean_squared_error: 1.4651\n",
      "Epoch 18/100\n",
      "173/173 [==============================] - 0s 3ms/step - loss: 1.4629 - mean_squared_error: 1.4629\n",
      "Epoch 19/100\n",
      "173/173 [==============================] - 1s 3ms/step - loss: 1.4822 - mean_squared_error: 1.4822\n",
      "Epoch 20/100\n",
      "173/173 [==============================] - 0s 3ms/step - loss: 1.4068 - mean_squared_error: 1.4068\n",
      "Epoch 21/100\n",
      "173/173 [==============================] - 0s 3ms/step - loss: 1.3817 - mean_squared_error: 1.3817\n",
      "Epoch 22/100\n",
      "173/173 [==============================] - 0s 3ms/step - loss: 1.4232 - mean_squared_error: 1.4232\n",
      "Epoch 23/100\n",
      "173/173 [==============================] - 0s 3ms/step - loss: 1.3872 - mean_squared_error: 1.3872\n",
      "Epoch 24/100\n",
      "173/173 [==============================] - 0s 3ms/step - loss: 1.4234 - mean_squared_error: 1.4234\n",
      "Epoch 25/100\n",
      "173/173 [==============================] - 0s 3ms/step - loss: 1.4133 - mean_squared_error: 1.4133\n",
      "Epoch 26/100\n",
      "173/173 [==============================] - 0s 3ms/step - loss: 1.4401 - mean_squared_error: 1.4401\n",
      "Epoch 27/100\n",
      "173/173 [==============================] - 0s 2ms/step - loss: 1.4207 - mean_squared_error: 1.4207\n",
      "Epoch 28/100\n",
      "173/173 [==============================] - 0s 3ms/step - loss: 1.4255 - mean_squared_error: 1.4255\n",
      "Epoch 29/100\n",
      "173/173 [==============================] - 0s 3ms/step - loss: 1.4090 - mean_squared_error: 1.4090\n",
      "Epoch 30/100\n",
      "173/173 [==============================] - 0s 3ms/step - loss: 1.3670 - mean_squared_error: 1.3670\n",
      "Epoch 31/100\n",
      "173/173 [==============================] - 0s 3ms/step - loss: 1.3714 - mean_squared_error: 1.3714\n",
      "Epoch 32/100\n",
      "173/173 [==============================] - 0s 3ms/step - loss: 1.3874 - mean_squared_error: 1.3874\n",
      "Epoch 33/100\n",
      "173/173 [==============================] - 0s 3ms/step - loss: 1.3691 - mean_squared_error: 1.3691\n",
      "Epoch 34/100\n",
      "173/173 [==============================] - 0s 3ms/step - loss: 1.3955 - mean_squared_error: 1.3955\n",
      "Epoch 35/100\n",
      "173/173 [==============================] - 0s 3ms/step - loss: 1.3824 - mean_squared_error: 1.3824\n",
      "Epoch 36/100\n",
      "173/173 [==============================] - 0s 2ms/step - loss: 1.3238 - mean_squared_error: 1.3238\n",
      "Epoch 37/100\n",
      "173/173 [==============================] - 0s 3ms/step - loss: 1.3163 - mean_squared_error: 1.3163\n",
      "Epoch 38/100\n",
      "173/173 [==============================] - 0s 3ms/step - loss: 1.2910 - mean_squared_error: 1.2910\n",
      "Epoch 39/100\n",
      "173/173 [==============================] - 0s 3ms/step - loss: 1.3008 - mean_squared_error: 1.3008\n",
      "Epoch 40/100\n",
      "173/173 [==============================] - 0s 2ms/step - loss: 1.3522 - mean_squared_error: 1.3522\n",
      "Epoch 41/100\n",
      "173/173 [==============================] - 0s 3ms/step - loss: 1.2817 - mean_squared_error: 1.2817\n",
      "Epoch 42/100\n",
      "173/173 [==============================] - 0s 3ms/step - loss: 1.2973 - mean_squared_error: 1.2973\n",
      "Epoch 43/100\n",
      "173/173 [==============================] - 0s 3ms/step - loss: 1.3016 - mean_squared_error: 1.3016\n",
      "Epoch 44/100\n",
      "173/173 [==============================] - 0s 3ms/step - loss: 1.2856 - mean_squared_error: 1.2856\n",
      "Epoch 45/100\n",
      "173/173 [==============================] - 0s 3ms/step - loss: 1.2692 - mean_squared_error: 1.2692\n",
      "Epoch 46/100\n",
      "173/173 [==============================] - 1s 3ms/step - loss: 1.2888 - mean_squared_error: 1.2888\n",
      "Epoch 47/100\n",
      "173/173 [==============================] - 1s 3ms/step - loss: 1.3313 - mean_squared_error: 1.3313\n",
      "Epoch 48/100\n",
      "173/173 [==============================] - 1s 3ms/step - loss: 1.3115 - mean_squared_error: 1.3115\n",
      "Epoch 49/100\n",
      "173/173 [==============================] - 1s 3ms/step - loss: 1.2943 - mean_squared_error: 1.2943\n",
      "Epoch 50/100\n",
      "173/173 [==============================] - 1s 3ms/step - loss: 1.2767 - mean_squared_error: 1.2767\n",
      "Epoch 51/100\n",
      "173/173 [==============================] - 1s 3ms/step - loss: 1.2808 - mean_squared_error: 1.2808\n",
      "Epoch 52/100\n",
      "173/173 [==============================] - 1s 3ms/step - loss: 1.2734 - mean_squared_error: 1.2734\n",
      "Epoch 53/100\n",
      "173/173 [==============================] - 1s 3ms/step - loss: 1.2684 - mean_squared_error: 1.2684\n",
      "Epoch 54/100\n",
      "173/173 [==============================] - 1s 3ms/step - loss: 1.2766 - mean_squared_error: 1.2766\n",
      "Epoch 55/100\n",
      "173/173 [==============================] - 0s 3ms/step - loss: 1.2472 - mean_squared_error: 1.2472\n",
      "Epoch 56/100\n",
      "173/173 [==============================] - 0s 3ms/step - loss: 1.2294 - mean_squared_error: 1.2294\n",
      "Epoch 57/100\n",
      "173/173 [==============================] - 0s 3ms/step - loss: 1.2453 - mean_squared_error: 1.2453\n",
      "Epoch 58/100\n",
      "173/173 [==============================] - 0s 3ms/step - loss: 1.2584 - mean_squared_error: 1.2584\n",
      "Epoch 59/100\n",
      "173/173 [==============================] - 0s 3ms/step - loss: 1.2281 - mean_squared_error: 1.2281\n",
      "Epoch 60/100\n",
      "173/173 [==============================] - 0s 3ms/step - loss: 1.2374 - mean_squared_error: 1.2374\n",
      "Epoch 61/100\n",
      "173/173 [==============================] - 0s 3ms/step - loss: 1.2177 - mean_squared_error: 1.2177\n",
      "Epoch 62/100\n",
      "173/173 [==============================] - 0s 3ms/step - loss: 1.2504 - mean_squared_error: 1.2504\n",
      "Epoch 63/100\n",
      "173/173 [==============================] - 0s 3ms/step - loss: 1.1775 - mean_squared_error: 1.1775\n",
      "Epoch 64/100\n",
      "173/173 [==============================] - 0s 3ms/step - loss: 1.1962 - mean_squared_error: 1.1962\n",
      "Epoch 65/100\n",
      "173/173 [==============================] - 0s 2ms/step - loss: 1.2189 - mean_squared_error: 1.2189\n",
      "Epoch 66/100\n",
      "173/173 [==============================] - 0s 3ms/step - loss: 1.2312 - mean_squared_error: 1.2312\n",
      "Epoch 67/100\n",
      "173/173 [==============================] - 0s 2ms/step - loss: 1.2014 - mean_squared_error: 1.2014\n",
      "Epoch 68/100\n",
      "173/173 [==============================] - 0s 3ms/step - loss: 1.2135 - mean_squared_error: 1.2135\n",
      "Epoch 69/100\n",
      "173/173 [==============================] - 0s 2ms/step - loss: 1.1963 - mean_squared_error: 1.1963\n",
      "Epoch 70/100\n",
      "173/173 [==============================] - 0s 2ms/step - loss: 1.2386 - mean_squared_error: 1.2386\n",
      "Epoch 71/100\n",
      "173/173 [==============================] - 0s 3ms/step - loss: 1.2382 - mean_squared_error: 1.2382\n",
      "Epoch 72/100\n",
      "173/173 [==============================] - 0s 3ms/step - loss: 1.2146 - mean_squared_error: 1.2146\n",
      "Epoch 73/100\n"
     ]
    },
    {
     "name": "stdout",
     "output_type": "stream",
     "text": [
      "173/173 [==============================] - 0s 3ms/step - loss: 1.1547 - mean_squared_error: 1.1547\n",
      "Epoch 74/100\n",
      "173/173 [==============================] - 1s 3ms/step - loss: 1.1843 - mean_squared_error: 1.1843\n",
      "Epoch 75/100\n",
      "173/173 [==============================] - 1s 3ms/step - loss: 1.1613 - mean_squared_error: 1.1613\n",
      "Epoch 76/100\n",
      "173/173 [==============================] - 1s 3ms/step - loss: 1.1679 - mean_squared_error: 1.1679\n",
      "Epoch 77/100\n",
      "173/173 [==============================] - 0s 3ms/step - loss: 1.1749 - mean_squared_error: 1.1749\n",
      "Epoch 78/100\n",
      "173/173 [==============================] - 0s 2ms/step - loss: 1.1713 - mean_squared_error: 1.1713\n",
      "Epoch 79/100\n",
      "173/173 [==============================] - 0s 3ms/step - loss: 1.1946 - mean_squared_error: 1.1946\n",
      "Epoch 80/100\n",
      "173/173 [==============================] - 0s 2ms/step - loss: 1.1813 - mean_squared_error: 1.1813\n",
      "Epoch 81/100\n",
      "173/173 [==============================] - 0s 3ms/step - loss: 1.2000 - mean_squared_error: 1.2000\n",
      "Epoch 82/100\n",
      "173/173 [==============================] - 0s 2ms/step - loss: 1.1336 - mean_squared_error: 1.1336\n",
      "Epoch 83/100\n",
      "173/173 [==============================] - 0s 3ms/step - loss: 1.1844 - mean_squared_error: 1.1844\n",
      "Epoch 84/100\n",
      "173/173 [==============================] - 1s 3ms/step - loss: 1.1739 - mean_squared_error: 1.1739\n",
      "Epoch 85/100\n",
      "173/173 [==============================] - 1s 3ms/step - loss: 1.1665 - mean_squared_error: 1.1665\n",
      "Epoch 86/100\n",
      "173/173 [==============================] - 1s 3ms/step - loss: 1.1163 - mean_squared_error: 1.1163\n",
      "Epoch 87/100\n",
      "173/173 [==============================] - 1s 3ms/step - loss: 1.1226 - mean_squared_error: 1.1226\n",
      "Epoch 88/100\n",
      "173/173 [==============================] - 1s 3ms/step - loss: 1.1300 - mean_squared_error: 1.1300\n",
      "Epoch 89/100\n",
      "173/173 [==============================] - 1s 3ms/step - loss: 1.1545 - mean_squared_error: 1.1545\n",
      "Epoch 90/100\n",
      "173/173 [==============================] - 1s 3ms/step - loss: 1.1086 - mean_squared_error: 1.1086\n",
      "Epoch 91/100\n",
      "173/173 [==============================] - 1s 3ms/step - loss: 1.0992 - mean_squared_error: 1.0992\n",
      "Epoch 92/100\n",
      "173/173 [==============================] - 1s 3ms/step - loss: 1.0862 - mean_squared_error: 1.0862\n",
      "Epoch 93/100\n",
      "173/173 [==============================] - 0s 3ms/step - loss: 1.1073 - mean_squared_error: 1.1073\n",
      "Epoch 94/100\n",
      "173/173 [==============================] - 0s 3ms/step - loss: 1.1454 - mean_squared_error: 1.1454\n",
      "Epoch 95/100\n",
      "173/173 [==============================] - 0s 3ms/step - loss: 1.1156 - mean_squared_error: 1.1156\n",
      "Epoch 96/100\n",
      "173/173 [==============================] - 0s 3ms/step - loss: 1.1314 - mean_squared_error: 1.1314\n",
      "Epoch 97/100\n",
      "173/173 [==============================] - 0s 3ms/step - loss: 1.0998 - mean_squared_error: 1.0998\n",
      "Epoch 98/100\n",
      "173/173 [==============================] - 0s 3ms/step - loss: 1.1045 - mean_squared_error: 1.1045\n",
      "Epoch 99/100\n",
      "173/173 [==============================] - 0s 3ms/step - loss: 1.1131 - mean_squared_error: 1.1131\n",
      "Epoch 100/100\n",
      "173/173 [==============================] - 0s 3ms/step - loss: 1.1169 - mean_squared_error: 1.1169\n"
     ]
    },
    {
     "data": {
      "text/plain": [
       "GridSearchCV(cv=5,\n",
       "             estimator=<keras.wrappers.scikit_learn.KerasRegressor object at 0x000001A30BFB0400>,\n",
       "             n_jobs=10,\n",
       "             param_grid={'activation': ['relu'], 'batch_size': [10, 20, 30],\n",
       "                         'dropout_rate': [0.2], 'epochs': [100],\n",
       "                         'learn_rate': [0.0001, 0.0005, 0.001],\n",
       "                         'momentum': [0.2], 'neurons': [[500, 200, 100, 50]]},\n",
       "             return_train_score=True, verbose=10)"
      ]
     },
     "execution_count": 108,
     "metadata": {},
     "output_type": "execute_result"
    }
   ],
   "source": [
    "search.fit(X_train, y_train)"
   ]
  },
  {
   "cell_type": "code",
   "execution_count": 109,
   "id": "289f4217",
   "metadata": {},
   "outputs": [
    {
     "data": {
      "text/plain": [
       "{'activation': 'relu',\n",
       " 'batch_size': 20,\n",
       " 'dropout_rate': 0.2,\n",
       " 'epochs': 100,\n",
       " 'learn_rate': 0.0001,\n",
       " 'momentum': 0.2,\n",
       " 'neurons': [500, 200, 100, 50]}"
      ]
     },
     "execution_count": 109,
     "metadata": {},
     "output_type": "execute_result"
    }
   ],
   "source": [
    "search.best_params_"
   ]
  },
  {
   "cell_type": "markdown",
   "id": "5c0fa89d",
   "metadata": {},
   "source": [
    "Now train model with best parameters again but with more epochs"
   ]
  },
  {
   "cell_type": "code",
   "execution_count": 110,
   "id": "d1092a7f",
   "metadata": {},
   "outputs": [],
   "source": [
    "best_params = search.best_params_\n",
    "nn = create_model(**best_params)"
   ]
  },
  {
   "cell_type": "code",
   "execution_count": 111,
   "id": "be2b3cde",
   "metadata": {
    "scrolled": false
   },
   "outputs": [
    {
     "name": "stdout",
     "output_type": "stream",
     "text": [
      "Epoch 1/5000\n",
      "173/173 [==============================] - 1s 4ms/step - loss: 12.5898 - mean_squared_error: 12.5898 - val_loss: 1.1907 - val_mean_squared_error: 1.1907\n",
      "Epoch 2/5000\n",
      "173/173 [==============================] - 1s 3ms/step - loss: 2.3437 - mean_squared_error: 2.3437 - val_loss: 0.9518 - val_mean_squared_error: 0.9518\n",
      "Epoch 3/5000\n",
      "173/173 [==============================] - 1s 3ms/step - loss: 2.0128 - mean_squared_error: 2.0128 - val_loss: 0.8480 - val_mean_squared_error: 0.8480\n",
      "Epoch 4/5000\n",
      "173/173 [==============================] - 1s 3ms/step - loss: 1.9335 - mean_squared_error: 1.9335 - val_loss: 0.8477 - val_mean_squared_error: 0.8477\n",
      "Epoch 5/5000\n",
      "173/173 [==============================] - 1s 3ms/step - loss: 1.9104 - mean_squared_error: 1.9104 - val_loss: 0.9040 - val_mean_squared_error: 0.9040\n",
      "Epoch 6/5000\n",
      "173/173 [==============================] - 1s 3ms/step - loss: 1.7549 - mean_squared_error: 1.7549 - val_loss: 0.7287 - val_mean_squared_error: 0.7287\n",
      "Epoch 7/5000\n",
      "173/173 [==============================] - 1s 3ms/step - loss: 1.6212 - mean_squared_error: 1.6212 - val_loss: 0.9303 - val_mean_squared_error: 0.9303\n",
      "Epoch 8/5000\n",
      "173/173 [==============================] - 1s 3ms/step - loss: 1.5538 - mean_squared_error: 1.5538 - val_loss: 0.7390 - val_mean_squared_error: 0.7390\n",
      "Epoch 9/5000\n",
      "173/173 [==============================] - 1s 4ms/step - loss: 1.6445 - mean_squared_error: 1.6445 - val_loss: 0.6935 - val_mean_squared_error: 0.6935\n",
      "Epoch 10/5000\n",
      "173/173 [==============================] - 1s 4ms/step - loss: 1.5551 - mean_squared_error: 1.5551 - val_loss: 0.7899 - val_mean_squared_error: 0.7899\n",
      "Epoch 11/5000\n",
      "173/173 [==============================] - 1s 5ms/step - loss: 1.5552 - mean_squared_error: 1.5552 - val_loss: 0.8614 - val_mean_squared_error: 0.8614\n",
      "Epoch 12/5000\n",
      "173/173 [==============================] - 1s 4ms/step - loss: 1.4563 - mean_squared_error: 1.4563 - val_loss: 0.8081 - val_mean_squared_error: 0.8081\n",
      "Epoch 13/5000\n",
      "173/173 [==============================] - 1s 5ms/step - loss: 1.4992 - mean_squared_error: 1.4992 - val_loss: 0.8454 - val_mean_squared_error: 0.8454\n",
      "Epoch 14/5000\n",
      "173/173 [==============================] - 1s 5ms/step - loss: 1.4519 - mean_squared_error: 1.4519 - val_loss: 0.7179 - val_mean_squared_error: 0.7179\n",
      "Epoch 15/5000\n",
      "173/173 [==============================] - 1s 5ms/step - loss: 1.4182 - mean_squared_error: 1.4182 - val_loss: 0.6779 - val_mean_squared_error: 0.6779\n",
      "Epoch 16/5000\n",
      "173/173 [==============================] - 1s 4ms/step - loss: 1.4345 - mean_squared_error: 1.4345 - val_loss: 0.6756 - val_mean_squared_error: 0.6756\n",
      "Epoch 17/5000\n",
      "173/173 [==============================] - 1s 4ms/step - loss: 1.4002 - mean_squared_error: 1.4002 - val_loss: 0.7565 - val_mean_squared_error: 0.7565\n",
      "Epoch 18/5000\n",
      "173/173 [==============================] - 1s 4ms/step - loss: 1.3689 - mean_squared_error: 1.3689 - val_loss: 0.7325 - val_mean_squared_error: 0.7325\n",
      "Epoch 19/5000\n",
      "173/173 [==============================] - 1s 4ms/step - loss: 1.3175 - mean_squared_error: 1.3175 - val_loss: 0.7902 - val_mean_squared_error: 0.7902\n",
      "Epoch 20/5000\n",
      "173/173 [==============================] - 1s 5ms/step - loss: 1.3709 - mean_squared_error: 1.3709 - val_loss: 0.7350 - val_mean_squared_error: 0.7350\n",
      "Epoch 21/5000\n",
      "173/173 [==============================] - 1s 4ms/step - loss: 1.3216 - mean_squared_error: 1.3216 - val_loss: 0.7811 - val_mean_squared_error: 0.7811\n",
      "Epoch 22/5000\n",
      "173/173 [==============================] - 1s 3ms/step - loss: 1.3170 - mean_squared_error: 1.3170 - val_loss: 0.6899 - val_mean_squared_error: 0.6899\n",
      "Epoch 23/5000\n",
      "173/173 [==============================] - 1s 3ms/step - loss: 1.3641 - mean_squared_error: 1.3641 - val_loss: 0.8415 - val_mean_squared_error: 0.8415\n",
      "Epoch 24/5000\n",
      "173/173 [==============================] - 1s 3ms/step - loss: 1.3445 - mean_squared_error: 1.3445 - val_loss: 0.7652 - val_mean_squared_error: 0.7652\n",
      "Epoch 25/5000\n",
      "173/173 [==============================] - 1s 3ms/step - loss: 1.3212 - mean_squared_error: 1.3212 - val_loss: 0.6802 - val_mean_squared_error: 0.6802\n",
      "Epoch 26/5000\n",
      "173/173 [==============================] - 1s 4ms/step - loss: 1.2585 - mean_squared_error: 1.2585 - val_loss: 0.6797 - val_mean_squared_error: 0.6797\n",
      "Epoch 27/5000\n",
      "173/173 [==============================] - 1s 4ms/step - loss: 1.2964 - mean_squared_error: 1.2964 - val_loss: 0.6832 - val_mean_squared_error: 0.6832\n",
      "Epoch 28/5000\n",
      "173/173 [==============================] - 1s 4ms/step - loss: 1.2864 - mean_squared_error: 1.2864 - val_loss: 0.7092 - val_mean_squared_error: 0.7092\n",
      "Epoch 29/5000\n",
      "173/173 [==============================] - 1s 4ms/step - loss: 1.2693 - mean_squared_error: 1.2693 - val_loss: 0.6885 - val_mean_squared_error: 0.6885\n",
      "Epoch 30/5000\n",
      "173/173 [==============================] - 1s 4ms/step - loss: 1.2810 - mean_squared_error: 1.2810 - val_loss: 0.7139 - val_mean_squared_error: 0.7139\n",
      "Epoch 31/5000\n",
      "173/173 [==============================] - 1s 4ms/step - loss: 1.2943 - mean_squared_error: 1.2943 - val_loss: 0.8009 - val_mean_squared_error: 0.8009\n",
      "Epoch 32/5000\n",
      "173/173 [==============================] - 1s 4ms/step - loss: 1.2609 - mean_squared_error: 1.2609 - val_loss: 0.7315 - val_mean_squared_error: 0.7315\n",
      "Epoch 33/5000\n",
      "173/173 [==============================] - 1s 3ms/step - loss: 1.2310 - mean_squared_error: 1.2310 - val_loss: 0.7159 - val_mean_squared_error: 0.7159\n",
      "Epoch 34/5000\n",
      "173/173 [==============================] - 1s 4ms/step - loss: 1.2223 - mean_squared_error: 1.2223 - val_loss: 0.7314 - val_mean_squared_error: 0.7314\n",
      "Epoch 35/5000\n",
      "173/173 [==============================] - 1s 4ms/step - loss: 1.1838 - mean_squared_error: 1.1838 - val_loss: 0.6879 - val_mean_squared_error: 0.6879\n",
      "Epoch 36/5000\n",
      "173/173 [==============================] - 1s 3ms/step - loss: 1.2212 - mean_squared_error: 1.2212 - val_loss: 0.8572 - val_mean_squared_error: 0.8572\n",
      "Epoch 37/5000\n",
      "173/173 [==============================] - 1s 4ms/step - loss: 1.1693 - mean_squared_error: 1.1693 - val_loss: 0.6850 - val_mean_squared_error: 0.6850\n",
      "Epoch 38/5000\n",
      "173/173 [==============================] - 1s 4ms/step - loss: 1.2170 - mean_squared_error: 1.2170 - val_loss: 0.6922 - val_mean_squared_error: 0.6922\n",
      "Epoch 39/5000\n",
      "173/173 [==============================] - 1s 4ms/step - loss: 1.2034 - mean_squared_error: 1.2034 - val_loss: 0.6779 - val_mean_squared_error: 0.6779\n",
      "Epoch 40/5000\n",
      "173/173 [==============================] - 1s 4ms/step - loss: 1.2096 - mean_squared_error: 1.2096 - val_loss: 0.8174 - val_mean_squared_error: 0.8174\n",
      "Epoch 41/5000\n",
      "173/173 [==============================] - 1s 4ms/step - loss: 1.2091 - mean_squared_error: 1.2091 - val_loss: 0.7423 - val_mean_squared_error: 0.7423\n",
      "Epoch 42/5000\n",
      "173/173 [==============================] - 1s 4ms/step - loss: 1.1796 - mean_squared_error: 1.1796 - val_loss: 0.7056 - val_mean_squared_error: 0.7056\n",
      "Epoch 43/5000\n",
      "173/173 [==============================] - 1s 5ms/step - loss: 1.2164 - mean_squared_error: 1.2164 - val_loss: 0.7015 - val_mean_squared_error: 0.7015\n",
      "Epoch 44/5000\n",
      "173/173 [==============================] - 1s 4ms/step - loss: 1.2028 - mean_squared_error: 1.2028 - val_loss: 0.7044 - val_mean_squared_error: 0.7044\n",
      "Epoch 45/5000\n",
      "173/173 [==============================] - 1s 4ms/step - loss: 1.1874 - mean_squared_error: 1.1874 - val_loss: 0.6766 - val_mean_squared_error: 0.6766\n",
      "Epoch 46/5000\n",
      "173/173 [==============================] - 1s 4ms/step - loss: 1.1598 - mean_squared_error: 1.1598 - val_loss: 0.7247 - val_mean_squared_error: 0.7247\n",
      "Epoch 47/5000\n",
      "173/173 [==============================] - 1s 5ms/step - loss: 1.1574 - mean_squared_error: 1.1574 - val_loss: 0.6898 - val_mean_squared_error: 0.6898\n",
      "Epoch 48/5000\n",
      "173/173 [==============================] - 1s 5ms/step - loss: 1.1522 - mean_squared_error: 1.1522 - val_loss: 0.6959 - val_mean_squared_error: 0.6959\n",
      "Epoch 49/5000\n",
      "173/173 [==============================] - 1s 4ms/step - loss: 1.1617 - mean_squared_error: 1.1617 - val_loss: 0.6976 - val_mean_squared_error: 0.6976\n",
      "Epoch 50/5000\n",
      "173/173 [==============================] - 1s 4ms/step - loss: 1.1480 - mean_squared_error: 1.1480 - val_loss: 0.7473 - val_mean_squared_error: 0.7473\n"
     ]
    },
    {
     "name": "stdout",
     "output_type": "stream",
     "text": [
      "Epoch 51/5000\n",
      "173/173 [==============================] - 1s 3ms/step - loss: 1.1792 - mean_squared_error: 1.1792 - val_loss: 0.6912 - val_mean_squared_error: 0.6912\n",
      "Epoch 52/5000\n",
      "173/173 [==============================] - 1s 3ms/step - loss: 1.1835 - mean_squared_error: 1.1835 - val_loss: 0.8447 - val_mean_squared_error: 0.8447\n",
      "Epoch 53/5000\n",
      "173/173 [==============================] - 1s 3ms/step - loss: 1.1722 - mean_squared_error: 1.1722 - val_loss: 0.6717 - val_mean_squared_error: 0.6717\n",
      "Epoch 54/5000\n",
      "173/173 [==============================] - 1s 3ms/step - loss: 1.1728 - mean_squared_error: 1.1728 - val_loss: 0.7157 - val_mean_squared_error: 0.7157\n",
      "Epoch 55/5000\n",
      "173/173 [==============================] - 1s 3ms/step - loss: 1.1149 - mean_squared_error: 1.1149 - val_loss: 0.6975 - val_mean_squared_error: 0.6975\n",
      "Epoch 56/5000\n",
      "173/173 [==============================] - 1s 3ms/step - loss: 1.0921 - mean_squared_error: 1.0921 - val_loss: 0.6748 - val_mean_squared_error: 0.6748\n",
      "Epoch 57/5000\n",
      "173/173 [==============================] - 1s 3ms/step - loss: 1.1013 - mean_squared_error: 1.1013 - val_loss: 0.6762 - val_mean_squared_error: 0.6762\n",
      "Epoch 58/5000\n",
      "173/173 [==============================] - 1s 4ms/step - loss: 1.1259 - mean_squared_error: 1.1259 - val_loss: 0.7020 - val_mean_squared_error: 0.7020\n",
      "Epoch 59/5000\n",
      "173/173 [==============================] - 1s 3ms/step - loss: 1.1111 - mean_squared_error: 1.1111 - val_loss: 0.6786 - val_mean_squared_error: 0.6786\n",
      "Epoch 60/5000\n",
      "173/173 [==============================] - 1s 3ms/step - loss: 1.1089 - mean_squared_error: 1.1089 - val_loss: 0.6713 - val_mean_squared_error: 0.6713\n",
      "Epoch 61/5000\n",
      "173/173 [==============================] - 1s 3ms/step - loss: 1.1321 - mean_squared_error: 1.1321 - val_loss: 0.6906 - val_mean_squared_error: 0.6906\n",
      "Epoch 62/5000\n",
      "173/173 [==============================] - 1s 3ms/step - loss: 1.0674 - mean_squared_error: 1.0674 - val_loss: 0.6827 - val_mean_squared_error: 0.6827\n",
      "Epoch 63/5000\n",
      "173/173 [==============================] - 1s 3ms/step - loss: 1.0726 - mean_squared_error: 1.0726 - val_loss: 0.6701 - val_mean_squared_error: 0.6701\n",
      "Epoch 64/5000\n",
      "173/173 [==============================] - 1s 3ms/step - loss: 1.0949 - mean_squared_error: 1.0949 - val_loss: 0.6722 - val_mean_squared_error: 0.6722\n",
      "Epoch 65/5000\n",
      "173/173 [==============================] - 1s 4ms/step - loss: 1.0866 - mean_squared_error: 1.0866 - val_loss: 0.7126 - val_mean_squared_error: 0.7126\n",
      "Epoch 66/5000\n",
      "173/173 [==============================] - 1s 4ms/step - loss: 1.1088 - mean_squared_error: 1.1088 - val_loss: 0.7109 - val_mean_squared_error: 0.7109\n",
      "Epoch 67/5000\n",
      "173/173 [==============================] - 1s 4ms/step - loss: 1.0810 - mean_squared_error: 1.0810 - val_loss: 0.7825 - val_mean_squared_error: 0.7825\n",
      "Epoch 68/5000\n",
      "173/173 [==============================] - 1s 3ms/step - loss: 1.0749 - mean_squared_error: 1.0749 - val_loss: 0.7550 - val_mean_squared_error: 0.7550\n",
      "Epoch 69/5000\n",
      "173/173 [==============================] - 1s 3ms/step - loss: 1.0952 - mean_squared_error: 1.0952 - val_loss: 0.6800 - val_mean_squared_error: 0.6800\n",
      "Epoch 70/5000\n",
      "173/173 [==============================] - 1s 4ms/step - loss: 1.0816 - mean_squared_error: 1.0816 - val_loss: 0.6993 - val_mean_squared_error: 0.6993\n",
      "Epoch 71/5000\n",
      "173/173 [==============================] - 1s 4ms/step - loss: 1.0536 - mean_squared_error: 1.0536 - val_loss: 0.7278 - val_mean_squared_error: 0.7278\n",
      "Epoch 72/5000\n",
      "173/173 [==============================] - 1s 4ms/step - loss: 1.0658 - mean_squared_error: 1.0658 - val_loss: 0.6968 - val_mean_squared_error: 0.6968\n",
      "Epoch 73/5000\n",
      "173/173 [==============================] - 1s 4ms/step - loss: 1.0657 - mean_squared_error: 1.0657 - val_loss: 0.7476 - val_mean_squared_error: 0.7476\n",
      "Epoch 74/5000\n",
      "173/173 [==============================] - 1s 4ms/step - loss: 1.0575 - mean_squared_error: 1.0575 - val_loss: 0.7153 - val_mean_squared_error: 0.7153\n",
      "Epoch 75/5000\n",
      "173/173 [==============================] - 1s 4ms/step - loss: 1.0777 - mean_squared_error: 1.0777 - val_loss: 0.7125 - val_mean_squared_error: 0.7125\n",
      "Epoch 76/5000\n",
      "173/173 [==============================] - 1s 4ms/step - loss: 1.0831 - mean_squared_error: 1.0831 - val_loss: 0.6706 - val_mean_squared_error: 0.6706\n",
      "Epoch 77/5000\n",
      "173/173 [==============================] - 1s 4ms/step - loss: 1.0317 - mean_squared_error: 1.0317 - val_loss: 0.6946 - val_mean_squared_error: 0.6946\n",
      "Epoch 78/5000\n",
      "173/173 [==============================] - 1s 4ms/step - loss: 1.0464 - mean_squared_error: 1.0464 - val_loss: 0.7069 - val_mean_squared_error: 0.7069\n",
      "Epoch 79/5000\n",
      "173/173 [==============================] - 1s 3ms/step - loss: 1.0508 - mean_squared_error: 1.0508 - val_loss: 0.6824 - val_mean_squared_error: 0.6824\n",
      "Epoch 80/5000\n",
      "173/173 [==============================] - 1s 3ms/step - loss: 1.0310 - mean_squared_error: 1.0310 - val_loss: 0.6850 - val_mean_squared_error: 0.6850\n",
      "Epoch 81/5000\n",
      "173/173 [==============================] - 1s 3ms/step - loss: 1.0194 - mean_squared_error: 1.0194 - val_loss: 0.6836 - val_mean_squared_error: 0.6836\n",
      "Epoch 82/5000\n",
      "173/173 [==============================] - 1s 3ms/step - loss: 1.0656 - mean_squared_error: 1.0656 - val_loss: 0.6919 - val_mean_squared_error: 0.6919\n",
      "Epoch 83/5000\n",
      "173/173 [==============================] - 1s 3ms/step - loss: 1.0612 - mean_squared_error: 1.0612 - val_loss: 0.6812 - val_mean_squared_error: 0.6812\n",
      "Epoch 84/5000\n",
      "173/173 [==============================] - 1s 3ms/step - loss: 1.0321 - mean_squared_error: 1.0321 - val_loss: 0.6929 - val_mean_squared_error: 0.6929\n",
      "Epoch 85/5000\n",
      "173/173 [==============================] - 1s 3ms/step - loss: 1.0540 - mean_squared_error: 1.0540 - val_loss: 0.6961 - val_mean_squared_error: 0.6961\n",
      "Epoch 86/5000\n",
      "173/173 [==============================] - 1s 3ms/step - loss: 1.0299 - mean_squared_error: 1.0299 - val_loss: 0.6773 - val_mean_squared_error: 0.6773\n",
      "Epoch 87/5000\n",
      "173/173 [==============================] - 1s 3ms/step - loss: 1.0142 - mean_squared_error: 1.0142 - val_loss: 0.7346 - val_mean_squared_error: 0.7346\n",
      "Epoch 88/5000\n",
      "173/173 [==============================] - 1s 4ms/step - loss: 1.0277 - mean_squared_error: 1.0277 - val_loss: 0.6843 - val_mean_squared_error: 0.6843\n",
      "Epoch 89/5000\n",
      "173/173 [==============================] - 1s 3ms/step - loss: 1.0092 - mean_squared_error: 1.0092 - val_loss: 0.7826 - val_mean_squared_error: 0.7826\n",
      "Epoch 90/5000\n",
      "173/173 [==============================] - 1s 3ms/step - loss: 1.0326 - mean_squared_error: 1.0326 - val_loss: 0.7621 - val_mean_squared_error: 0.7621\n",
      "Epoch 91/5000\n",
      "173/173 [==============================] - 1s 3ms/step - loss: 1.0389 - mean_squared_error: 1.0389 - val_loss: 0.6728 - val_mean_squared_error: 0.6728\n",
      "Epoch 92/5000\n",
      "173/173 [==============================] - 1s 3ms/step - loss: 0.9853 - mean_squared_error: 0.9853 - val_loss: 0.6749 - val_mean_squared_error: 0.6749\n",
      "Epoch 93/5000\n",
      "173/173 [==============================] - 1s 3ms/step - loss: 0.9817 - mean_squared_error: 0.9817 - val_loss: 0.7097 - val_mean_squared_error: 0.7097\n",
      "Epoch 94/5000\n",
      "173/173 [==============================] - 1s 3ms/step - loss: 0.9948 - mean_squared_error: 0.9948 - val_loss: 0.6810 - val_mean_squared_error: 0.6810\n",
      "Epoch 95/5000\n",
      "173/173 [==============================] - 1s 4ms/step - loss: 0.9997 - mean_squared_error: 0.9997 - val_loss: 0.7766 - val_mean_squared_error: 0.7766\n",
      "Epoch 96/5000\n",
      "173/173 [==============================] - 1s 4ms/step - loss: 1.0216 - mean_squared_error: 1.0216 - val_loss: 0.6919 - val_mean_squared_error: 0.6919\n",
      "Epoch 97/5000\n",
      "173/173 [==============================] - 1s 4ms/step - loss: 1.0348 - mean_squared_error: 1.0348 - val_loss: 0.6956 - val_mean_squared_error: 0.6956\n",
      "Epoch 98/5000\n",
      "173/173 [==============================] - 1s 4ms/step - loss: 0.9925 - mean_squared_error: 0.9925 - val_loss: 0.6758 - val_mean_squared_error: 0.6758\n",
      "Epoch 99/5000\n",
      "173/173 [==============================] - 1s 4ms/step - loss: 0.9938 - mean_squared_error: 0.9938 - val_loss: 0.6930 - val_mean_squared_error: 0.6930\n",
      "Epoch 100/5000\n"
     ]
    },
    {
     "name": "stdout",
     "output_type": "stream",
     "text": [
      "173/173 [==============================] - 1s 4ms/step - loss: 1.0098 - mean_squared_error: 1.0098 - val_loss: 0.7089 - val_mean_squared_error: 0.7089\n",
      "Epoch 101/5000\n",
      "173/173 [==============================] - 1s 4ms/step - loss: 0.9869 - mean_squared_error: 0.9869 - val_loss: 0.7294 - val_mean_squared_error: 0.7294\n",
      "Epoch 102/5000\n",
      "173/173 [==============================] - 1s 4ms/step - loss: 0.9791 - mean_squared_error: 0.9791 - val_loss: 0.6913 - val_mean_squared_error: 0.6913\n",
      "Epoch 103/5000\n",
      "173/173 [==============================] - 1s 4ms/step - loss: 0.9809 - mean_squared_error: 0.9809 - val_loss: 0.7347 - val_mean_squared_error: 0.7347\n",
      "Epoch 104/5000\n",
      "173/173 [==============================] - 1s 4ms/step - loss: 0.9681 - mean_squared_error: 0.9681 - val_loss: 0.6945 - val_mean_squared_error: 0.6945\n",
      "Epoch 105/5000\n",
      "173/173 [==============================] - 1s 4ms/step - loss: 0.9795 - mean_squared_error: 0.9795 - val_loss: 0.6796 - val_mean_squared_error: 0.6796\n",
      "Epoch 106/5000\n",
      "173/173 [==============================] - 1s 4ms/step - loss: 1.0162 - mean_squared_error: 1.0162 - val_loss: 0.6765 - val_mean_squared_error: 0.6765\n",
      "Epoch 107/5000\n",
      "173/173 [==============================] - 1s 3ms/step - loss: 0.9683 - mean_squared_error: 0.9683 - val_loss: 0.7012 - val_mean_squared_error: 0.7012\n",
      "Epoch 108/5000\n",
      "173/173 [==============================] - 1s 3ms/step - loss: 0.9560 - mean_squared_error: 0.9560 - val_loss: 0.7317 - val_mean_squared_error: 0.7317\n",
      "Epoch 109/5000\n",
      "173/173 [==============================] - 1s 3ms/step - loss: 1.0015 - mean_squared_error: 1.0015 - val_loss: 0.6938 - val_mean_squared_error: 0.6938\n",
      "Epoch 110/5000\n",
      "173/173 [==============================] - 1s 3ms/step - loss: 0.9510 - mean_squared_error: 0.9510 - val_loss: 0.6748 - val_mean_squared_error: 0.6748\n",
      "Epoch 111/5000\n",
      "173/173 [==============================] - 1s 3ms/step - loss: 0.9646 - mean_squared_error: 0.9646 - val_loss: 0.6779 - val_mean_squared_error: 0.6779\n",
      "Epoch 112/5000\n",
      "173/173 [==============================] - 1s 3ms/step - loss: 0.9557 - mean_squared_error: 0.9557 - val_loss: 0.7514 - val_mean_squared_error: 0.7514\n",
      "Epoch 113/5000\n",
      "173/173 [==============================] - 1s 3ms/step - loss: 0.9683 - mean_squared_error: 0.9683 - val_loss: 0.7279 - val_mean_squared_error: 0.7279\n",
      "Epoch 114/5000\n",
      "173/173 [==============================] - 1s 3ms/step - loss: 0.9601 - mean_squared_error: 0.9601 - val_loss: 0.6828 - val_mean_squared_error: 0.6828\n",
      "Epoch 115/5000\n",
      "173/173 [==============================] - 1s 3ms/step - loss: 0.9264 - mean_squared_error: 0.9264 - val_loss: 0.6894 - val_mean_squared_error: 0.6894\n",
      "Epoch 116/5000\n",
      "173/173 [==============================] - 1s 3ms/step - loss: 0.9597 - mean_squared_error: 0.9597 - val_loss: 0.6966 - val_mean_squared_error: 0.6966\n",
      "Epoch 117/5000\n",
      "173/173 [==============================] - 1s 3ms/step - loss: 0.9345 - mean_squared_error: 0.9345 - val_loss: 0.6958 - val_mean_squared_error: 0.6958\n",
      "Epoch 118/5000\n",
      "173/173 [==============================] - 1s 3ms/step - loss: 0.9576 - mean_squared_error: 0.9576 - val_loss: 0.7083 - val_mean_squared_error: 0.7083\n",
      "Epoch 119/5000\n",
      "173/173 [==============================] - 1s 3ms/step - loss: 0.9262 - mean_squared_error: 0.9262 - val_loss: 0.7591 - val_mean_squared_error: 0.7591\n",
      "Epoch 120/5000\n",
      "173/173 [==============================] - 1s 3ms/step - loss: 0.9627 - mean_squared_error: 0.9627 - val_loss: 0.6864 - val_mean_squared_error: 0.6864\n",
      "Epoch 121/5000\n",
      "173/173 [==============================] - 1s 3ms/step - loss: 0.9265 - mean_squared_error: 0.9265 - val_loss: 0.7131 - val_mean_squared_error: 0.7131\n",
      "Epoch 122/5000\n",
      "173/173 [==============================] - 1s 3ms/step - loss: 0.9499 - mean_squared_error: 0.9499 - val_loss: 0.7657 - val_mean_squared_error: 0.7657\n",
      "Epoch 123/5000\n",
      "173/173 [==============================] - 1s 3ms/step - loss: 0.9004 - mean_squared_error: 0.9004 - val_loss: 0.6995 - val_mean_squared_error: 0.6995\n",
      "Epoch 124/5000\n",
      "173/173 [==============================] - 1s 3ms/step - loss: 0.9453 - mean_squared_error: 0.9453 - val_loss: 0.6962 - val_mean_squared_error: 0.6962\n",
      "Epoch 125/5000\n",
      "173/173 [==============================] - 1s 3ms/step - loss: 0.9222 - mean_squared_error: 0.9222 - val_loss: 0.6868 - val_mean_squared_error: 0.6868\n",
      "Epoch 126/5000\n",
      "173/173 [==============================] - 1s 4ms/step - loss: 0.9144 - mean_squared_error: 0.9144 - val_loss: 0.7350 - val_mean_squared_error: 0.7350\n",
      "Epoch 127/5000\n",
      "173/173 [==============================] - 1s 5ms/step - loss: 0.9001 - mean_squared_error: 0.9001 - val_loss: 0.6965 - val_mean_squared_error: 0.6965\n",
      "Epoch 128/5000\n",
      "173/173 [==============================] - 1s 4ms/step - loss: 0.9397 - mean_squared_error: 0.9397 - val_loss: 0.6958 - val_mean_squared_error: 0.6958\n",
      "Epoch 129/5000\n",
      "173/173 [==============================] - 1s 4ms/step - loss: 0.8865 - mean_squared_error: 0.8865 - val_loss: 0.6935 - val_mean_squared_error: 0.6935\n",
      "Epoch 130/5000\n",
      "173/173 [==============================] - 1s 5ms/step - loss: 0.9083 - mean_squared_error: 0.9083 - val_loss: 0.7242 - val_mean_squared_error: 0.7242\n",
      "Epoch 131/5000\n",
      "173/173 [==============================] - 1s 4ms/step - loss: 0.8879 - mean_squared_error: 0.8879 - val_loss: 0.6887 - val_mean_squared_error: 0.6887\n",
      "Epoch 132/5000\n",
      "173/173 [==============================] - 1s 4ms/step - loss: 0.9272 - mean_squared_error: 0.9272 - val_loss: 0.7490 - val_mean_squared_error: 0.7490\n",
      "Epoch 133/5000\n",
      "173/173 [==============================] - 1s 4ms/step - loss: 0.9414 - mean_squared_error: 0.9414 - val_loss: 0.6899 - val_mean_squared_error: 0.6899\n",
      "Epoch 134/5000\n",
      "173/173 [==============================] - 1s 4ms/step - loss: 0.9171 - mean_squared_error: 0.9171 - val_loss: 0.6890 - val_mean_squared_error: 0.6890\n",
      "Epoch 135/5000\n",
      "173/173 [==============================] - 1s 4ms/step - loss: 0.8929 - mean_squared_error: 0.8929 - val_loss: 0.6887 - val_mean_squared_error: 0.6887\n",
      "Epoch 136/5000\n",
      "173/173 [==============================] - 1s 4ms/step - loss: 0.8958 - mean_squared_error: 0.8958 - val_loss: 0.6849 - val_mean_squared_error: 0.6849\n",
      "Epoch 137/5000\n",
      "173/173 [==============================] - 1s 4ms/step - loss: 0.9187 - mean_squared_error: 0.9187 - val_loss: 0.7157 - val_mean_squared_error: 0.7157\n",
      "Epoch 138/5000\n",
      "173/173 [==============================] - 1s 3ms/step - loss: 0.8670 - mean_squared_error: 0.8670 - val_loss: 0.6844 - val_mean_squared_error: 0.6844\n",
      "Epoch 139/5000\n",
      "173/173 [==============================] - 1s 3ms/step - loss: 0.9149 - mean_squared_error: 0.9149 - val_loss: 0.7202 - val_mean_squared_error: 0.7202\n",
      "Epoch 140/5000\n",
      "173/173 [==============================] - 1s 3ms/step - loss: 0.9215 - mean_squared_error: 0.9215 - val_loss: 0.7386 - val_mean_squared_error: 0.7386\n",
      "Epoch 141/5000\n",
      "173/173 [==============================] - 1s 3ms/step - loss: 0.9132 - mean_squared_error: 0.9132 - val_loss: 0.6928 - val_mean_squared_error: 0.6928\n",
      "Epoch 142/5000\n",
      "173/173 [==============================] - 1s 4ms/step - loss: 0.9014 - mean_squared_error: 0.9014 - val_loss: 0.6907 - val_mean_squared_error: 0.6907\n",
      "Epoch 143/5000\n",
      "173/173 [==============================] - 1s 4ms/step - loss: 0.9107 - mean_squared_error: 0.9107 - val_loss: 0.6916 - val_mean_squared_error: 0.6916\n",
      "Epoch 144/5000\n",
      "173/173 [==============================] - 1s 3ms/step - loss: 0.8519 - mean_squared_error: 0.8519 - val_loss: 0.7010 - val_mean_squared_error: 0.7010\n",
      "Epoch 145/5000\n",
      "173/173 [==============================] - 1s 3ms/step - loss: 0.8943 - mean_squared_error: 0.8943 - val_loss: 0.6859 - val_mean_squared_error: 0.6859\n",
      "Epoch 146/5000\n",
      "173/173 [==============================] - 1s 3ms/step - loss: 0.8732 - mean_squared_error: 0.8732 - val_loss: 0.6905 - val_mean_squared_error: 0.6905\n",
      "Epoch 147/5000\n",
      "173/173 [==============================] - 1s 3ms/step - loss: 0.8550 - mean_squared_error: 0.8550 - val_loss: 0.7306 - val_mean_squared_error: 0.7306\n",
      "Epoch 148/5000\n",
      "173/173 [==============================] - 1s 3ms/step - loss: 0.8719 - mean_squared_error: 0.8719 - val_loss: 0.7016 - val_mean_squared_error: 0.7016\n",
      "Epoch 149/5000\n"
     ]
    },
    {
     "name": "stdout",
     "output_type": "stream",
     "text": [
      "173/173 [==============================] - 1s 3ms/step - loss: 0.8799 - mean_squared_error: 0.8799 - val_loss: 0.7190 - val_mean_squared_error: 0.7190\n",
      "Epoch 150/5000\n",
      "173/173 [==============================] - 1s 3ms/step - loss: 0.8760 - mean_squared_error: 0.8760 - val_loss: 0.6936 - val_mean_squared_error: 0.6936\n",
      "Epoch 151/5000\n",
      "173/173 [==============================] - 1s 4ms/step - loss: 0.8735 - mean_squared_error: 0.8735 - val_loss: 0.6871 - val_mean_squared_error: 0.6871\n",
      "Epoch 152/5000\n",
      "173/173 [==============================] - 1s 4ms/step - loss: 0.8625 - mean_squared_error: 0.8625 - val_loss: 0.6874 - val_mean_squared_error: 0.6874\n",
      "Epoch 153/5000\n",
      "173/173 [==============================] - 1s 4ms/step - loss: 0.8336 - mean_squared_error: 0.8336 - val_loss: 0.7549 - val_mean_squared_error: 0.7549\n",
      "Epoch 154/5000\n",
      "173/173 [==============================] - 1s 4ms/step - loss: 0.8652 - mean_squared_error: 0.8652 - val_loss: 0.7225 - val_mean_squared_error: 0.7225\n",
      "Epoch 155/5000\n",
      "173/173 [==============================] - 1s 3ms/step - loss: 0.8719 - mean_squared_error: 0.8719 - val_loss: 0.6929 - val_mean_squared_error: 0.6929\n",
      "Epoch 156/5000\n",
      "173/173 [==============================] - 1s 4ms/step - loss: 0.8559 - mean_squared_error: 0.8559 - val_loss: 0.6923 - val_mean_squared_error: 0.6923\n",
      "Epoch 157/5000\n",
      "173/173 [==============================] - 1s 4ms/step - loss: 0.8224 - mean_squared_error: 0.8224 - val_loss: 0.6868 - val_mean_squared_error: 0.6868\n",
      "Epoch 158/5000\n",
      "173/173 [==============================] - 1s 4ms/step - loss: 0.8491 - mean_squared_error: 0.8491 - val_loss: 0.6991 - val_mean_squared_error: 0.6991\n",
      "Epoch 159/5000\n",
      "173/173 [==============================] - 1s 5ms/step - loss: 0.8479 - mean_squared_error: 0.8479 - val_loss: 0.7173 - val_mean_squared_error: 0.7173\n",
      "Epoch 160/5000\n",
      "173/173 [==============================] - 1s 5ms/step - loss: 0.8497 - mean_squared_error: 0.8497 - val_loss: 0.6791 - val_mean_squared_error: 0.6791\n",
      "Epoch 161/5000\n",
      "173/173 [==============================] - 1s 4ms/step - loss: 0.8275 - mean_squared_error: 0.8275 - val_loss: 0.6874 - val_mean_squared_error: 0.6874\n",
      "Epoch 162/5000\n",
      "173/173 [==============================] - 1s 4ms/step - loss: 0.8447 - mean_squared_error: 0.8447 - val_loss: 0.6997 - val_mean_squared_error: 0.6997\n",
      "Epoch 163/5000\n",
      "173/173 [==============================] - 1s 4ms/step - loss: 0.8657 - mean_squared_error: 0.8657 - val_loss: 0.6839 - val_mean_squared_error: 0.6839\n"
     ]
    },
    {
     "data": {
      "text/plain": [
       "<keras.callbacks.History at 0x1a31461b940>"
      ]
     },
     "execution_count": 111,
     "metadata": {},
     "output_type": "execute_result"
    }
   ],
   "source": [
    "history = History()\n",
    "early_stopping = EarlyStopping(patience=100)\n",
    "\n",
    "nn.fit(np.asarray(X_train).astype(np.float32), y_train, \n",
    "       epochs=5000, batch_size=best_params['batch_size'],\n",
    "       validation_data=(np.asarray(X_test).astype(np.float32), y_test),\n",
    "       callbacks=[history, early_stopping])"
   ]
  },
  {
   "cell_type": "code",
   "execution_count": 112,
   "id": "9c1d0ce7",
   "metadata": {},
   "outputs": [
    {
     "data": {
      "text/plain": [
       "<matplotlib.legend.Legend at 0x1a315770910>"
      ]
     },
     "execution_count": 112,
     "metadata": {},
     "output_type": "execute_result"
    },
    {
     "data": {
      "image/png": "[encoded data removed]",
      "text/plain": [
       "<Figure size 432x288 with 1 Axes>"
      ]
     },
     "metadata": {
      "needs_background": "light"
     },
     "output_type": "display_data"
    }
   ],
   "source": [
    "plt.plot(history.history['val_loss'], label='val_loss')\n",
    "plt.plot(history.history['loss'], label='loss')\n",
    "plt.legend()"
   ]
  },
  {
   "cell_type": "code",
   "execution_count": 113,
   "id": "8b4616d8",
   "metadata": {},
   "outputs": [
    {
     "name": "stdout",
     "output_type": "stream",
     "text": [
      "47/47 [==============================] - 0s 2ms/step\n"
     ]
    }
   ],
   "source": [
    "append_result('Neural Network', nn.predict(X_test), y_test)"
   ]
  },
  {
   "cell_type": "code",
   "execution_count": 114,
   "id": "1271b40d",
   "metadata": {},
   "outputs": [
    {
     "data": {
      "text/html": [
       "<div>\n",
       "<style scoped>\n",
       "    .dataframe tbody tr th:only-of-type {\n",
       "        vertical-align: middle;\n",
       "    }\n",
       "\n",
       "    .dataframe tbody tr th {\n",
       "        vertical-align: top;\n",
       "    }\n",
       "\n",
       "    .dataframe thead th {\n",
       "        text-align: right;\n",
       "    }\n",
       "</style>\n",
       "<table border=\"1\" class=\"dataframe\">\n",
       "  <thead>\n",
       "    <tr style=\"text-align: right;\">\n",
       "      <th></th>\n",
       "      <th>name</th>\n",
       "      <th>mae</th>\n",
       "      <th>mse</th>\n",
       "      <th>rmse</th>\n",
       "    </tr>\n",
       "  </thead>\n",
       "  <tbody>\n",
       "    <tr>\n",
       "      <th>0</th>\n",
       "      <td>Linear Regression</td>\n",
       "      <td>0.629752</td>\n",
       "      <td>0.682939</td>\n",
       "      <td>0.826401</td>\n",
       "    </tr>\n",
       "    <tr>\n",
       "      <th>0</th>\n",
       "      <td>Ridge Regression</td>\n",
       "      <td>0.619739</td>\n",
       "      <td>0.666463</td>\n",
       "      <td>0.816372</td>\n",
       "    </tr>\n",
       "    <tr>\n",
       "      <th>0</th>\n",
       "      <td>Lasso Regression</td>\n",
       "      <td>0.606533</td>\n",
       "      <td>0.64384</td>\n",
       "      <td>0.802396</td>\n",
       "    </tr>\n",
       "    <tr>\n",
       "      <th>0</th>\n",
       "      <td>Elastic Net Regression</td>\n",
       "      <td>0.610074</td>\n",
       "      <td>0.649895</td>\n",
       "      <td>0.80616</td>\n",
       "    </tr>\n",
       "    <tr>\n",
       "      <th>0</th>\n",
       "      <td>Random Forest Regressor</td>\n",
       "      <td>0.555338</td>\n",
       "      <td>0.550929</td>\n",
       "      <td>0.742246</td>\n",
       "    </tr>\n",
       "    <tr>\n",
       "      <th>0</th>\n",
       "      <td>Neural Network</td>\n",
       "      <td>0.628043</td>\n",
       "      <td>0.683894</td>\n",
       "      <td>0.826979</td>\n",
       "    </tr>\n",
       "  </tbody>\n",
       "</table>\n",
       "</div>"
      ],
      "text/plain": [
       "                      name       mae       mse      rmse\n",
       "0        Linear Regression  0.629752  0.682939  0.826401\n",
       "0         Ridge Regression  0.619739  0.666463  0.816372\n",
       "0         Lasso Regression  0.606533   0.64384  0.802396\n",
       "0   Elastic Net Regression  0.610074  0.649895   0.80616\n",
       "0  Random Forest Regressor  0.555338  0.550929  0.742246\n",
       "0           Neural Network  0.628043  0.683894  0.826979"
      ]
     },
     "execution_count": 114,
     "metadata": {},
     "output_type": "execute_result"
    }
   ],
   "source": [
    "model_results"
   ]
  },
  {
   "cell_type": "markdown",
   "id": "56f1113a",
   "metadata": {},
   "source": [
    "**Suprisingly Neural Network predictions are worse than Random Forest Regressor**"
   ]
  },
  {
   "cell_type": "markdown",
   "id": "8e759ba1",
   "metadata": {},
   "source": [
    "The best model in this case is ensemble of random trees. Its rmse is approximately 0.77 which means that we can expect the model to miss the correct title score by 0.77."
   ]
  },
  {
   "cell_type": "code",
   "execution_count": 166,
   "id": "678a32e3",
   "metadata": {},
   "outputs": [],
   "source": [
    "random_forest = grid_5.best_estimator_"
   ]
  },
  {
   "cell_type": "code",
   "execution_count": 167,
   "id": "4346c23d",
   "metadata": {},
   "outputs": [],
   "source": [
    "neural_network = nn"
   ]
  },
  {
   "cell_type": "markdown",
   "id": "0aa38340",
   "metadata": {},
   "source": [
    "Let's predict score for my favourite movie: Joker from 2019"
   ]
  },
  {
   "cell_type": "code",
   "execution_count": 168,
   "id": "e3ee8757",
   "metadata": {},
   "outputs": [
    {
     "name": "stdout",
     "output_type": "stream",
     "text": [
      "47/47 [==============================] - 0s 2ms/step\n"
     ]
    },
    {
     "data": {
      "text/plain": [
       "<AxesSubplot:xlabel='score'>"
      ]
     },
     "execution_count": 168,
     "metadata": {},
     "output_type": "execute_result"
    },
    {
     "data": {
      "image/png": "[encoded data removed]",
      "text/plain": [
       "<Figure size 1152x576 with 2 Axes>"
      ]
     },
     "metadata": {
      "needs_background": "light"
     },
     "output_type": "display_data"
    }
   ],
   "source": [
    "fig, axes = plt.subplots(nrows=1, ncols=2, figsize=(16,8))\n",
    "\n",
    "sns.regplot(y_test, random_forest.predict(X_test), ax=axes[0], \n",
    "            scatter_kws={\"color\": \"blue\"}, line_kws={\"color\": \"red\"})\n",
    "\n",
    "sns.regplot(y_test, neural_network.predict(X_test), ax=axes[1],\n",
    "            scatter_kws={\"color\": \"blue\"}, line_kws={\"color\": \"red\"})"
   ]
  },
  {
   "cell_type": "markdown",
   "id": "ea1390e2",
   "metadata": {},
   "source": [
    "There is no api to download popularity metric from IMDB for given movie, but 28 is close to popularities of comparable movies"
   ]
  },
  {
   "cell_type": "code",
   "execution_count": 199,
   "id": "fc014cb9",
   "metadata": {},
   "outputs": [],
   "source": [
    "joker = np.array([0, 5, 2019, 122, 0, 1203710, 28, 0, 1, 0, 0, 0, 0, 0, 1, 1, 0, 0, 0, 0, 0, 0, 0, 0, 0, 0, 0, 0, 0]).reshape(1, -1)\n",
    "scaled_joker = scaler.transform(joker)"
   ]
  },
  {
   "cell_type": "code",
   "execution_count": 200,
   "id": "9475e59d",
   "metadata": {},
   "outputs": [
    {
     "data": {
      "text/plain": [
       "array([5.86235])"
      ]
     },
     "execution_count": 200,
     "metadata": {},
     "output_type": "execute_result"
    }
   ],
   "source": [
    "random_forest.predict(scaled_joker)"
   ]
  },
  {
   "cell_type": "code",
   "execution_count": 201,
   "id": "856b52a3",
   "metadata": {},
   "outputs": [
    {
     "name": "stdout",
     "output_type": "stream",
     "text": [
      "1/1 [==============================] - 0s 20ms/step\n"
     ]
    },
    {
     "data": {
      "text/plain": [
       "array([[8.599709]], dtype=float32)"
      ]
     },
     "execution_count": 201,
     "metadata": {},
     "output_type": "execute_result"
    }
   ],
   "source": [
    "neural_network.predict(scaled_joker)"
   ]
  },
  {
   "cell_type": "markdown",
   "id": "8eda0e26",
   "metadata": {},
   "source": [
    "Correct value is (8.2 + 8.4) / 2 = 8.3"
   ]
  },
  {
   "cell_type": "markdown",
   "id": "dc6b6a9e",
   "metadata": {},
   "source": [
    "To sum up it seems like although NN has worse metrics it is better predictor for real world queries."
   ]
  },
  {
   "cell_type": "code",
   "execution_count": null,
   "id": "24b2d23f",
   "metadata": {},
   "outputs": [],
   "source": []
  }
 ],
 "metadata": {
  "kernelspec": {
   "display_name": "Python 3 (ipykernel)",
   "language": "python",
   "name": "python3"
  },
  "language_info": {
   "codemirror_mode": {
    "name": "ipython",
    "version": 3
   },
   "file_extension": ".py",
   "mimetype": "text/x-python",
   "name": "python",
   "nbconvert_exporter": "python",
   "pygments_lexer": "ipython3",
   "version": "3.8.12"
  }
 },
 "nbformat": 4,
 "nbformat_minor": 5
}
